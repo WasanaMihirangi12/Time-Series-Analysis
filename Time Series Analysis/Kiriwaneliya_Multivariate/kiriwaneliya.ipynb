{
 "cells": [
  {
   "cell_type": "code",
   "execution_count": 1,
   "metadata": {},
   "outputs": [],
   "source": [
    "from statsmodels.graphics.tsaplots import plot_acf, plot_pacf\n",
    "from statsmodels.tsa.statespace.varmax import VARMAX\n",
    "from statsmodels.tsa.api import VAR\n",
    "from statsmodels.tsa.stattools import grangercausalitytests, adfuller\n",
    "from tqdm import tqdm_notebook\n",
    "from itertools import product\n",
    "import matplotlib.pyplot as plt\n",
    "import statsmodels.api as sm\n",
    "import pandas as pd\n",
    "import numpy as np\n",
    "import warnings\n",
    "from matplotlib.pyplot import figure\n",
    "import seaborn as sns\n",
    "from pmdarima import auto_arima\n",
    "warnings.filterwarnings('ignore')"
   ]
  },
  {
   "cell_type": "code",
   "execution_count": 2,
   "metadata": {},
   "outputs": [
    {
     "data": {
      "text/html": [
       "<div>\n",
       "<style scoped>\n",
       "    .dataframe tbody tr th:only-of-type {\n",
       "        vertical-align: middle;\n",
       "    }\n",
       "\n",
       "    .dataframe tbody tr th {\n",
       "        vertical-align: top;\n",
       "    }\n",
       "\n",
       "    .dataframe thead th {\n",
       "        text-align: right;\n",
       "    }\n",
       "</style>\n",
       "<table border=\"1\" class=\"dataframe\">\n",
       "  <thead>\n",
       "    <tr style=\"text-align: right;\">\n",
       "      <th></th>\n",
       "      <th>Rainfall</th>\n",
       "      <th>Temp_min</th>\n",
       "      <th>Temp_max</th>\n",
       "      <th>Hum_min</th>\n",
       "      <th>Hum_max</th>\n",
       "      <th>Power</th>\n",
       "    </tr>\n",
       "    <tr>\n",
       "      <th>Time</th>\n",
       "      <th></th>\n",
       "      <th></th>\n",
       "      <th></th>\n",
       "      <th></th>\n",
       "      <th></th>\n",
       "      <th></th>\n",
       "    </tr>\n",
       "  </thead>\n",
       "  <tbody>\n",
       "    <tr>\n",
       "      <th>2013-01-01</th>\n",
       "      <td>158.400001</td>\n",
       "      <td>10.6</td>\n",
       "      <td>19.9</td>\n",
       "      <td>76.6</td>\n",
       "      <td>87.8</td>\n",
       "      <td>524501</td>\n",
       "    </tr>\n",
       "    <tr>\n",
       "      <th>2013-02-01</th>\n",
       "      <td>141.700002</td>\n",
       "      <td>10.3</td>\n",
       "      <td>20.1</td>\n",
       "      <td>78.6</td>\n",
       "      <td>88.7</td>\n",
       "      <td>460880</td>\n",
       "    </tr>\n",
       "    <tr>\n",
       "      <th>2013-03-01</th>\n",
       "      <td>153.400001</td>\n",
       "      <td>11.5</td>\n",
       "      <td>21.7</td>\n",
       "      <td>78.4</td>\n",
       "      <td>90.1</td>\n",
       "      <td>519945</td>\n",
       "    </tr>\n",
       "    <tr>\n",
       "      <th>2013-04-01</th>\n",
       "      <td>102.899999</td>\n",
       "      <td>11.4</td>\n",
       "      <td>23.1</td>\n",
       "      <td>74.8</td>\n",
       "      <td>90.4</td>\n",
       "      <td>452010</td>\n",
       "    </tr>\n",
       "    <tr>\n",
       "      <th>2013-05-01</th>\n",
       "      <td>148.500000</td>\n",
       "      <td>14.0</td>\n",
       "      <td>21.4</td>\n",
       "      <td>85.4</td>\n",
       "      <td>95.0</td>\n",
       "      <td>1487403</td>\n",
       "    </tr>\n",
       "  </tbody>\n",
       "</table>\n",
       "</div>"
      ],
      "text/plain": [
       "              Rainfall  Temp_min  Temp_max  Hum_min  Hum_max    Power\n",
       "Time                                                                 \n",
       "2013-01-01  158.400001      10.6      19.9     76.6     87.8   524501\n",
       "2013-02-01  141.700002      10.3      20.1     78.6     88.7   460880\n",
       "2013-03-01  153.400001      11.5      21.7     78.4     90.1   519945\n",
       "2013-04-01  102.899999      11.4      23.1     74.8     90.4   452010\n",
       "2013-05-01  148.500000      14.0      21.4     85.4     95.0  1487403"
      ]
     },
     "execution_count": 2,
     "metadata": {},
     "output_type": "execute_result"
    }
   ],
   "source": [
    "df = pd.read_csv('Kiriwaneliya_multivariate.csv',parse_dates=['Time'], index_col='Time')\n",
    "df.head()"
   ]
  },
  {
   "cell_type": "code",
   "execution_count": 3,
   "metadata": {},
   "outputs": [
    {
     "data": {
      "text/plain": [
       "Rainfall    5\n",
       "Temp_min    1\n",
       "Temp_max    1\n",
       "Hum_min     2\n",
       "Hum_max     3\n",
       "Power       0\n",
       "dtype: int64"
      ]
     },
     "execution_count": 3,
     "metadata": {},
     "output_type": "execute_result"
    }
   ],
   "source": [
    "#Checking for missing values\n",
    "df.isna().sum()"
   ]
  },
  {
   "cell_type": "code",
   "execution_count": 4,
   "metadata": {},
   "outputs": [],
   "source": [
    "df=df.resample('MS').first()"
   ]
  },
  {
   "cell_type": "code",
   "execution_count": 5,
   "metadata": {},
   "outputs": [
    {
     "data": {
      "text/html": [
       "<div>\n",
       "<style scoped>\n",
       "    .dataframe tbody tr th:only-of-type {\n",
       "        vertical-align: middle;\n",
       "    }\n",
       "\n",
       "    .dataframe tbody tr th {\n",
       "        vertical-align: top;\n",
       "    }\n",
       "\n",
       "    .dataframe thead th {\n",
       "        text-align: right;\n",
       "    }\n",
       "</style>\n",
       "<table border=\"1\" class=\"dataframe\">\n",
       "  <thead>\n",
       "    <tr style=\"text-align: right;\">\n",
       "      <th></th>\n",
       "      <th>Rainfall</th>\n",
       "      <th>Temp_min</th>\n",
       "      <th>Temp_max</th>\n",
       "      <th>Hum_min</th>\n",
       "      <th>Hum_max</th>\n",
       "      <th>Power</th>\n",
       "    </tr>\n",
       "    <tr>\n",
       "      <th>Time</th>\n",
       "      <th></th>\n",
       "      <th></th>\n",
       "      <th></th>\n",
       "      <th></th>\n",
       "      <th></th>\n",
       "      <th></th>\n",
       "    </tr>\n",
       "  </thead>\n",
       "  <tbody>\n",
       "    <tr>\n",
       "      <th>2013-01-01</th>\n",
       "      <td>158.400001</td>\n",
       "      <td>10.6</td>\n",
       "      <td>19.9</td>\n",
       "      <td>76.6</td>\n",
       "      <td>87.8</td>\n",
       "      <td>524501</td>\n",
       "    </tr>\n",
       "    <tr>\n",
       "      <th>2013-02-01</th>\n",
       "      <td>141.700002</td>\n",
       "      <td>10.3</td>\n",
       "      <td>20.1</td>\n",
       "      <td>78.6</td>\n",
       "      <td>88.7</td>\n",
       "      <td>460880</td>\n",
       "    </tr>\n",
       "    <tr>\n",
       "      <th>2013-03-01</th>\n",
       "      <td>153.400001</td>\n",
       "      <td>11.5</td>\n",
       "      <td>21.7</td>\n",
       "      <td>78.4</td>\n",
       "      <td>90.1</td>\n",
       "      <td>519945</td>\n",
       "    </tr>\n",
       "    <tr>\n",
       "      <th>2013-04-01</th>\n",
       "      <td>102.899999</td>\n",
       "      <td>11.4</td>\n",
       "      <td>23.1</td>\n",
       "      <td>74.8</td>\n",
       "      <td>90.4</td>\n",
       "      <td>452010</td>\n",
       "    </tr>\n",
       "    <tr>\n",
       "      <th>2013-05-01</th>\n",
       "      <td>148.500000</td>\n",
       "      <td>14.0</td>\n",
       "      <td>21.4</td>\n",
       "      <td>85.4</td>\n",
       "      <td>95.0</td>\n",
       "      <td>1487403</td>\n",
       "    </tr>\n",
       "  </tbody>\n",
       "</table>\n",
       "</div>"
      ],
      "text/plain": [
       "              Rainfall  Temp_min  Temp_max  Hum_min  Hum_max    Power\n",
       "Time                                                                 \n",
       "2013-01-01  158.400001      10.6      19.9     76.6     87.8   524501\n",
       "2013-02-01  141.700002      10.3      20.1     78.6     88.7   460880\n",
       "2013-03-01  153.400001      11.5      21.7     78.4     90.1   519945\n",
       "2013-04-01  102.899999      11.4      23.1     74.8     90.4   452010\n",
       "2013-05-01  148.500000      14.0      21.4     85.4     95.0  1487403"
      ]
     },
     "execution_count": 5,
     "metadata": {},
     "output_type": "execute_result"
    }
   ],
   "source": [
    "#removing missing values\n",
    "df=df.fillna(method='ffill')\n",
    "df.head()"
   ]
  },
  {
   "cell_type": "code",
   "execution_count": 6,
   "metadata": {},
   "outputs": [],
   "source": [
    "df=df[['Temp_min','Temp_max','Hum_min','Hum_max','Rainfall']]"
   ]
  },
  {
   "cell_type": "code",
   "execution_count": 7,
   "metadata": {
    "scrolled": true
   },
   "outputs": [
    {
     "data": {
      "image/png": "[encoded data removed]",
      "text/plain": [
       "<Figure size 1200x720 with 5 Axes>"
      ]
     },
     "metadata": {
      "needs_background": "light"
     },
     "output_type": "display_data"
    }
   ],
   "source": [
    "fig, axes = plt.subplots(nrows=5, ncols=1, dpi=120, figsize=(10,6))\n",
    "for i, ax in enumerate(axes.flatten()):\n",
    "    data = df[df.columns[i]]\n",
    "    ax.plot(data, color='red', linewidth=1)\n",
    "    # Decorations\n",
    "    ax.set_title(df.columns[i])\n",
    "    ax.xaxis.set_ticks_position('none')\n",
    "    ax.yaxis.set_ticks_position('none')\n",
    "    ax.spines[\"top\"].set_alpha(0)\n",
    "    ax.tick_params(labelsize=6)\n",
    "\n",
    "plt.tight_layout();"
   ]
  },
  {
   "cell_type": "markdown",
   "metadata": {},
   "source": [
    "    H0: Series is not stationary\n",
    "    H1: Series is Stationary"
   ]
  },
  {
   "cell_type": "code",
   "execution_count": 8,
   "metadata": {},
   "outputs": [
    {
     "name": "stdout",
     "output_type": "stream",
     "text": [
      "ADF Test Statistic : -3.2469521555223917\n",
      "p-value : 0.017422765117741344\n",
      "#Lags Used : 13\n",
      "Number of Observations Used : 94\n",
      "strong evidence against the null hypothesis(Ho), reject the null hypothesis.Therefore, Temp_min series is stationary\n",
      "ADF Test Statistic : -2.8555424178590365\n",
      "p-value : 0.05076744372247504\n",
      "#Lags Used : 13\n",
      "Number of Observations Used : 94\n",
      "weak evidence against null hypothesis, time series has a unit root, indicating Temp_max series is non-stationary \n",
      "ADF Test Statistic : -2.7223243539125774\n",
      "p-value : 0.07025420627684999\n",
      "#Lags Used : 13\n",
      "Number of Observations Used : 94\n",
      "weak evidence against null hypothesis, time series has a unit root, indicating Hum_min series is non-stationary \n",
      "ADF Test Statistic : -2.712581604180269\n",
      "p-value : 0.07188629194897297\n",
      "#Lags Used : 13\n",
      "Number of Observations Used : 94\n",
      "weak evidence against null hypothesis, time series has a unit root, indicating Hum_max series is non-stationary \n",
      "ADF Test Statistic : -4.974341467799573\n",
      "p-value : 2.493984529927086e-05\n",
      "#Lags Used : 7\n",
      "Number of Observations Used : 100\n",
      "strong evidence against the null hypothesis(Ho), reject the null hypothesis.Therefore, Rainfall series is stationary\n"
     ]
    }
   ],
   "source": [
    "### ADF Test\n",
    "col=df.columns\n",
    "for i in range(len(col)):\n",
    "    test_result=adfuller(df[col[i]])\n",
    "    def adfuller_test(x):\n",
    "        result=adfuller(x)\n",
    "        labels = ['ADF Test Statistic','p-value','#Lags Used','Number of Observations Used']\n",
    "        for value,label in zip(result,labels):\n",
    "            print(label+' : '+str(value) )\n",
    "        if result[1] <= 0.05:\n",
    "            print(\"strong evidence against the null hypothesis(Ho), reject the null hypothesis.Therefore, \"+col[i]+\" series is stationary\")\n",
    "        else:\n",
    "            print(\"weak evidence against null hypothesis, time series has a unit root, indicating \" + col[i] + \" series is non-stationary \")\n",
    "\n",
    "    adfuller_test(df[col[i]])"
   ]
  },
  {
   "cell_type": "markdown",
   "metadata": {},
   "source": [
    "#### According to the ADF test, Temp max,Hum_min, and Hum_max non-stationary. Therefore it needs to difference the series."
   ]
  },
  {
   "cell_type": "code",
   "execution_count": 9,
   "metadata": {},
   "outputs": [
    {
     "name": "stdout",
     "output_type": "stream",
     "text": [
      "Temp_max\n",
      "ADF Statistic: -10.905126801282968\n",
      "p-value: 1.1332160113236713e-19\n"
     ]
    }
   ],
   "source": [
    "ad_fuller_result_1 = adfuller(df['Temp_max'].diff()[1:])\n",
    "\n",
    "print('Temp_max')\n",
    "print(f'ADF Statistic: {ad_fuller_result_1[0]}')\n",
    "print(f'p-value: {ad_fuller_result_1[1]}')"
   ]
  },
  {
   "cell_type": "code",
   "execution_count": 10,
   "metadata": {},
   "outputs": [
    {
     "name": "stdout",
     "output_type": "stream",
     "text": [
      "Hum_min\n",
      "ADF Statistic: -4.212070006963738\n",
      "p-value: 0.0006285785089541647\n"
     ]
    }
   ],
   "source": [
    "ad_fuller_result_2 = adfuller(df['Hum_min'].diff()[1:])\n",
    "\n",
    "print('Hum_min')\n",
    "print(f'ADF Statistic: {ad_fuller_result_2[0]}')\n",
    "print(f'p-value: {ad_fuller_result_2[1]}')"
   ]
  },
  {
   "cell_type": "code",
   "execution_count": 11,
   "metadata": {},
   "outputs": [
    {
     "name": "stdout",
     "output_type": "stream",
     "text": [
      "Hum_max\n",
      "ADF Statistic: -4.504889925585555\n",
      "p-value: 0.0001926777745744927\n"
     ]
    }
   ],
   "source": [
    "ad_fuller_result_4 = adfuller(df['Hum_max'].diff()[1:])\n",
    "\n",
    "print('Hum_max')\n",
    "print(f'ADF Statistic: {ad_fuller_result_4[0]}')\n",
    "print(f'p-value: {ad_fuller_result_4[1]}')"
   ]
  },
  {
   "cell_type": "code",
   "execution_count": 12,
   "metadata": {},
   "outputs": [
    {
     "data": {
      "text/plain": [
       "Temp_min    0\n",
       "Temp_max    1\n",
       "Hum_min     1\n",
       "Hum_max     1\n",
       "Rainfall    0\n",
       "dtype: int64"
      ]
     },
     "execution_count": 12,
     "metadata": {},
     "output_type": "execute_result"
    }
   ],
   "source": [
    "#Combine first differenced Temp_min with rest.\n",
    "df['Temp_max']=df['Temp_max'].diff()[1:]\n",
    "df['Hum_min']=df['Hum_min'].diff()[1:]\n",
    "df['Hum_max']=df['Hum_max'].diff()[1:]\n",
    "#df= df.iloc[1: , :] #Remioving the first column\n",
    "#Checking for missing values\n",
    "df.isna().sum()"
   ]
  },
  {
   "cell_type": "code",
   "execution_count": 13,
   "metadata": {},
   "outputs": [
    {
     "data": {
      "text/html": [
       "<div>\n",
       "<style scoped>\n",
       "    .dataframe tbody tr th:only-of-type {\n",
       "        vertical-align: middle;\n",
       "    }\n",
       "\n",
       "    .dataframe tbody tr th {\n",
       "        vertical-align: top;\n",
       "    }\n",
       "\n",
       "    .dataframe thead th {\n",
       "        text-align: right;\n",
       "    }\n",
       "</style>\n",
       "<table border=\"1\" class=\"dataframe\">\n",
       "  <thead>\n",
       "    <tr style=\"text-align: right;\">\n",
       "      <th></th>\n",
       "      <th>Temp_min</th>\n",
       "      <th>Temp_max</th>\n",
       "      <th>Hum_min</th>\n",
       "      <th>Hum_max</th>\n",
       "      <th>Rainfall</th>\n",
       "    </tr>\n",
       "    <tr>\n",
       "      <th>Time</th>\n",
       "      <th></th>\n",
       "      <th></th>\n",
       "      <th></th>\n",
       "      <th></th>\n",
       "      <th></th>\n",
       "    </tr>\n",
       "  </thead>\n",
       "  <tbody>\n",
       "    <tr>\n",
       "      <th>2013-02-01</th>\n",
       "      <td>10.3</td>\n",
       "      <td>0.2</td>\n",
       "      <td>2.0</td>\n",
       "      <td>0.9</td>\n",
       "      <td>141.700002</td>\n",
       "    </tr>\n",
       "    <tr>\n",
       "      <th>2013-03-01</th>\n",
       "      <td>11.5</td>\n",
       "      <td>1.6</td>\n",
       "      <td>-0.2</td>\n",
       "      <td>1.4</td>\n",
       "      <td>153.400001</td>\n",
       "    </tr>\n",
       "    <tr>\n",
       "      <th>2013-04-01</th>\n",
       "      <td>11.4</td>\n",
       "      <td>1.4</td>\n",
       "      <td>-3.6</td>\n",
       "      <td>0.3</td>\n",
       "      <td>102.899999</td>\n",
       "    </tr>\n",
       "    <tr>\n",
       "      <th>2013-05-01</th>\n",
       "      <td>14.0</td>\n",
       "      <td>-1.7</td>\n",
       "      <td>10.6</td>\n",
       "      <td>4.6</td>\n",
       "      <td>148.500000</td>\n",
       "    </tr>\n",
       "    <tr>\n",
       "      <th>2013-06-01</th>\n",
       "      <td>13.6</td>\n",
       "      <td>-3.9</td>\n",
       "      <td>7.0</td>\n",
       "      <td>0.5</td>\n",
       "      <td>337.800001</td>\n",
       "    </tr>\n",
       "  </tbody>\n",
       "</table>\n",
       "</div>"
      ],
      "text/plain": [
       "            Temp_min  Temp_max  Hum_min  Hum_max    Rainfall\n",
       "Time                                                        \n",
       "2013-02-01      10.3       0.2      2.0      0.9  141.700002\n",
       "2013-03-01      11.5       1.6     -0.2      1.4  153.400001\n",
       "2013-04-01      11.4       1.4     -3.6      0.3  102.899999\n",
       "2013-05-01      14.0      -1.7     10.6      4.6  148.500000\n",
       "2013-06-01      13.6      -3.9      7.0      0.5  337.800001"
      ]
     },
     "execution_count": 13,
     "metadata": {},
     "output_type": "execute_result"
    }
   ],
   "source": [
    "#removing missing values\n",
    "df=df.dropna(how=\"any\")\n",
    "df.head()"
   ]
  },
  {
   "cell_type": "code",
   "execution_count": 14,
   "metadata": {},
   "outputs": [
    {
     "data": {
      "image/png": "[encoded data removed]",
      "text/plain": [
       "<Figure size 1008x864 with 2 Axes>"
      ]
     },
     "metadata": {
      "needs_background": "light"
     },
     "output_type": "display_data"
    }
   ],
   "source": [
    "def correlation_heatmap(df):\n",
    "    _ , ax = plt.subplots(figsize =(14, 12))\n",
    "    colormap = sns.diverging_palette(220, 10, as_cmap = True)\n",
    "    \n",
    "    _ = sns.heatmap(\n",
    "        df.corr(), \n",
    "        cmap = colormap,\n",
    "        square=True, \n",
    "        cbar_kws={'shrink':.9 }, \n",
    "        ax=ax,\n",
    "        annot=True, \n",
    "        linewidths=0.1,vmax=1.0, linecolor='white',\n",
    "        annot_kws={'fontsize':12 }\n",
    "    )\n",
    "    \n",
    "    plt.title('Pearson Correlation of Features', y=1.05, size=15)\n",
    "\n",
    "correlation_heatmap(df)"
   ]
  },
  {
   "cell_type": "markdown",
   "metadata": {},
   "source": [
    "# Fitting ARIMAX model"
   ]
  },
  {
   "cell_type": "code",
   "execution_count": 15,
   "metadata": {},
   "outputs": [
    {
     "data": {
      "text/html": [
       "<div>\n",
       "<style scoped>\n",
       "    .dataframe tbody tr th:only-of-type {\n",
       "        vertical-align: middle;\n",
       "    }\n",
       "\n",
       "    .dataframe tbody tr th {\n",
       "        vertical-align: top;\n",
       "    }\n",
       "\n",
       "    .dataframe thead th {\n",
       "        text-align: right;\n",
       "    }\n",
       "</style>\n",
       "<table border=\"1\" class=\"dataframe\">\n",
       "  <thead>\n",
       "    <tr style=\"text-align: right;\">\n",
       "      <th></th>\n",
       "      <th>Rainfall</th>\n",
       "      <th>Temp_min</th>\n",
       "      <th>Time</th>\n",
       "      <th>Power</th>\n",
       "      <th>Temp_max</th>\n",
       "      <th>Hum_min</th>\n",
       "      <th>Hum_max</th>\n",
       "    </tr>\n",
       "  </thead>\n",
       "  <tbody>\n",
       "    <tr>\n",
       "      <th>1</th>\n",
       "      <td>141.700002</td>\n",
       "      <td>10.3</td>\n",
       "      <td>2013-February</td>\n",
       "      <td>460880</td>\n",
       "      <td>0.2</td>\n",
       "      <td>2.0</td>\n",
       "      <td>0.9</td>\n",
       "    </tr>\n",
       "    <tr>\n",
       "      <th>2</th>\n",
       "      <td>153.400001</td>\n",
       "      <td>11.5</td>\n",
       "      <td>2013-March</td>\n",
       "      <td>519945</td>\n",
       "      <td>1.6</td>\n",
       "      <td>-0.2</td>\n",
       "      <td>1.4</td>\n",
       "    </tr>\n",
       "    <tr>\n",
       "      <th>3</th>\n",
       "      <td>102.899999</td>\n",
       "      <td>11.4</td>\n",
       "      <td>2013-April</td>\n",
       "      <td>452010</td>\n",
       "      <td>1.4</td>\n",
       "      <td>-3.6</td>\n",
       "      <td>0.3</td>\n",
       "    </tr>\n",
       "    <tr>\n",
       "      <th>4</th>\n",
       "      <td>148.500000</td>\n",
       "      <td>14.0</td>\n",
       "      <td>2013-May</td>\n",
       "      <td>1487403</td>\n",
       "      <td>-1.7</td>\n",
       "      <td>10.6</td>\n",
       "      <td>4.6</td>\n",
       "    </tr>\n",
       "    <tr>\n",
       "      <th>5</th>\n",
       "      <td>337.800001</td>\n",
       "      <td>13.6</td>\n",
       "      <td>2013-June</td>\n",
       "      <td>2951680</td>\n",
       "      <td>-3.9</td>\n",
       "      <td>7.0</td>\n",
       "      <td>0.5</td>\n",
       "    </tr>\n",
       "  </tbody>\n",
       "</table>\n",
       "</div>"
      ],
      "text/plain": [
       "     Rainfall  Temp_min           Time    Power  Temp_max  Hum_min  Hum_max\n",
       "1  141.700002      10.3  2013-February   460880       0.2      2.0      0.9\n",
       "2  153.400001      11.5     2013-March   519945       1.6     -0.2      1.4\n",
       "3  102.899999      11.4     2013-April   452010       1.4     -3.6      0.3\n",
       "4  148.500000      14.0       2013-May  1487403      -1.7     10.6      4.6\n",
       "5  337.800001      13.6      2013-June  2951680      -3.9      7.0      0.5"
      ]
     },
     "execution_count": 15,
     "metadata": {},
     "output_type": "execute_result"
    }
   ],
   "source": [
    "#Re-importing dataset without setting the index on time axis.\n",
    "df_1 = pd.read_csv('Kiriwaneliya_multivariate.csv')\n",
    "#Removing first row\n",
    "df_2= df_1.iloc[1: , :]\n",
    "#Remove Temp_min, Temp_max column\n",
    "df_2=df_2.drop(columns=['Temp_max','Hum_min','Hum_max'])\n",
    "\n",
    "#Concat the dataframe with first differenced Temp_min with first row removed dataframe\n",
    "df=pd.concat([df_2,df_1['Temp_max'].diff()[1:],df_1['Hum_min'].diff()[1:],df_1['Hum_max'].diff()[1:]],axis=1)\n",
    "#removing missing values\n",
    "df=df.dropna(how=\"any\")\n",
    "df.head()"
   ]
  },
  {
   "cell_type": "markdown",
   "metadata": {},
   "source": [
    "### Feature Engineering"
   ]
  },
  {
   "cell_type": "code",
   "execution_count": 16,
   "metadata": {},
   "outputs": [],
   "source": [
    "def feature_engineering(data):\n",
    "    data['Time'] = pd.to_datetime(data['Time'])\n",
    "    data[\"Time\"] = pd.to_datetime(data[\"Time\"], format=\"%Y-%m-%d\")\n",
    "    data[\"year\"] = data[\"Time\"].dt.year\n",
    "    data[\"month\"] = data[\"Time\"].dt.month\n",
    "    \n",
    "    lag_features = [\"Rainfall\",\"Temp_min\",\"Temp_max\",\"Hum_min\",\"Hum_max\"]\n",
    "    window1 = 2\n",
    "    window2 = 3\n",
    "    window3 = 7\n",
    "\n",
    "    data_rolled_2d = data[lag_features].rolling(window=window1, min_periods=0)\n",
    "    data_rolled_3d = data[lag_features].rolling(window=window2, min_periods=0)\n",
    "    data_rolled_7d = data[lag_features].rolling(window=window3, min_periods=0)\n",
    "\n",
    "    data_mean_2d = data_rolled_2d.mean().shift(1)\n",
    "    data_mean_3d = data_rolled_3d.mean().shift(1)\n",
    "    data_mean_7d = data_rolled_7d.mean().shift(1)\n",
    "    \n",
    "    data_std_2d = data_rolled_2d.std().shift(1)\n",
    "    data_std_3d = data_rolled_3d.std().shift(1)\n",
    "    data_std_7d = data_rolled_7d.std().shift(1)\n",
    "\n",
    "    for feature in lag_features:\n",
    "        data[f\"{feature}_mean_lag{window1}\"] = data_mean_2d[feature]\n",
    "        data[f\"{feature}_mean_lag{window2}\"] = data_mean_3d[feature]\n",
    "        data[f\"{feature}_mean_lag{window3}\"] = data_mean_7d[feature]\n",
    "\n",
    "        data[f\"{feature}_std_lag{window1}\"] = data_std_2d[feature]\n",
    "        data[f\"{feature}_std_lag{window2}\"] = data_std_3d[feature]\n",
    "        data[f\"{feature}_std_lag{window3}\"] = data_std_7d[feature]\n",
    "\n",
    "    data.fillna(data.mean(), inplace=True)\n",
    "    \n",
    "feature_engineering(df)"
   ]
  },
  {
   "cell_type": "code",
   "execution_count": 17,
   "metadata": {},
   "outputs": [
    {
     "data": {
      "text/html": [
       "<div>\n",
       "<style scoped>\n",
       "    .dataframe tbody tr th:only-of-type {\n",
       "        vertical-align: middle;\n",
       "    }\n",
       "\n",
       "    .dataframe tbody tr th {\n",
       "        vertical-align: top;\n",
       "    }\n",
       "\n",
       "    .dataframe thead th {\n",
       "        text-align: right;\n",
       "    }\n",
       "</style>\n",
       "<table border=\"1\" class=\"dataframe\">\n",
       "  <thead>\n",
       "    <tr style=\"text-align: right;\">\n",
       "      <th></th>\n",
       "      <th>Rainfall</th>\n",
       "      <th>Temp_min</th>\n",
       "      <th>Time</th>\n",
       "      <th>Power</th>\n",
       "      <th>Temp_max</th>\n",
       "      <th>Hum_min</th>\n",
       "      <th>Hum_max</th>\n",
       "      <th>year</th>\n",
       "      <th>month</th>\n",
       "      <th>Rainfall_mean_lag2</th>\n",
       "      <th>...</th>\n",
       "      <th>Hum_min_mean_lag7</th>\n",
       "      <th>Hum_min_std_lag2</th>\n",
       "      <th>Hum_min_std_lag3</th>\n",
       "      <th>Hum_min_std_lag7</th>\n",
       "      <th>Hum_max_mean_lag2</th>\n",
       "      <th>Hum_max_mean_lag3</th>\n",
       "      <th>Hum_max_mean_lag7</th>\n",
       "      <th>Hum_max_std_lag2</th>\n",
       "      <th>Hum_max_std_lag3</th>\n",
       "      <th>Hum_max_std_lag7</th>\n",
       "    </tr>\n",
       "  </thead>\n",
       "  <tbody>\n",
       "    <tr>\n",
       "      <th>1</th>\n",
       "      <td>141.700002</td>\n",
       "      <td>10.3</td>\n",
       "      <td>2013-02-01</td>\n",
       "      <td>460880</td>\n",
       "      <td>0.2</td>\n",
       "      <td>2.0</td>\n",
       "      <td>0.9</td>\n",
       "      <td>2013</td>\n",
       "      <td>2</td>\n",
       "      <td>150.346277</td>\n",
       "      <td>...</td>\n",
       "      <td>0.044078</td>\n",
       "      <td>6.368523</td>\n",
       "      <td>6.796303</td>\n",
       "      <td>7.627047</td>\n",
       "      <td>0.104787</td>\n",
       "      <td>0.110461</td>\n",
       "      <td>0.118156</td>\n",
       "      <td>5.289615</td>\n",
       "      <td>5.751372</td>\n",
       "      <td>6.566004</td>\n",
       "    </tr>\n",
       "    <tr>\n",
       "      <th>2</th>\n",
       "      <td>153.400001</td>\n",
       "      <td>11.5</td>\n",
       "      <td>2013-03-01</td>\n",
       "      <td>519945</td>\n",
       "      <td>1.6</td>\n",
       "      <td>-0.2</td>\n",
       "      <td>1.4</td>\n",
       "      <td>2013</td>\n",
       "      <td>3</td>\n",
       "      <td>141.700002</td>\n",
       "      <td>...</td>\n",
       "      <td>2.000000</td>\n",
       "      <td>6.368523</td>\n",
       "      <td>6.796303</td>\n",
       "      <td>7.627047</td>\n",
       "      <td>0.900000</td>\n",
       "      <td>0.900000</td>\n",
       "      <td>0.900000</td>\n",
       "      <td>5.289615</td>\n",
       "      <td>5.751372</td>\n",
       "      <td>6.566004</td>\n",
       "    </tr>\n",
       "    <tr>\n",
       "      <th>3</th>\n",
       "      <td>102.899999</td>\n",
       "      <td>11.4</td>\n",
       "      <td>2013-04-01</td>\n",
       "      <td>452010</td>\n",
       "      <td>1.4</td>\n",
       "      <td>-3.6</td>\n",
       "      <td>0.3</td>\n",
       "      <td>2013</td>\n",
       "      <td>4</td>\n",
       "      <td>147.550001</td>\n",
       "      <td>...</td>\n",
       "      <td>0.900000</td>\n",
       "      <td>1.555635</td>\n",
       "      <td>1.555635</td>\n",
       "      <td>1.555635</td>\n",
       "      <td>1.150000</td>\n",
       "      <td>1.150000</td>\n",
       "      <td>1.150000</td>\n",
       "      <td>0.353553</td>\n",
       "      <td>0.353553</td>\n",
       "      <td>0.353553</td>\n",
       "    </tr>\n",
       "    <tr>\n",
       "      <th>4</th>\n",
       "      <td>148.500000</td>\n",
       "      <td>14.0</td>\n",
       "      <td>2013-05-01</td>\n",
       "      <td>1487403</td>\n",
       "      <td>-1.7</td>\n",
       "      <td>10.6</td>\n",
       "      <td>4.6</td>\n",
       "      <td>2013</td>\n",
       "      <td>5</td>\n",
       "      <td>128.150000</td>\n",
       "      <td>...</td>\n",
       "      <td>-0.600000</td>\n",
       "      <td>2.404163</td>\n",
       "      <td>2.821347</td>\n",
       "      <td>2.821347</td>\n",
       "      <td>0.850000</td>\n",
       "      <td>0.866667</td>\n",
       "      <td>0.866667</td>\n",
       "      <td>0.777817</td>\n",
       "      <td>0.550757</td>\n",
       "      <td>0.550757</td>\n",
       "    </tr>\n",
       "    <tr>\n",
       "      <th>5</th>\n",
       "      <td>337.800001</td>\n",
       "      <td>13.6</td>\n",
       "      <td>2013-06-01</td>\n",
       "      <td>2951680</td>\n",
       "      <td>-3.9</td>\n",
       "      <td>7.0</td>\n",
       "      <td>0.5</td>\n",
       "      <td>2013</td>\n",
       "      <td>6</td>\n",
       "      <td>125.700000</td>\n",
       "      <td>...</td>\n",
       "      <td>2.200000</td>\n",
       "      <td>10.040916</td>\n",
       "      <td>7.414400</td>\n",
       "      <td>6.055301</td>\n",
       "      <td>2.450000</td>\n",
       "      <td>2.100000</td>\n",
       "      <td>1.800000</td>\n",
       "      <td>3.040559</td>\n",
       "      <td>2.233831</td>\n",
       "      <td>1.920069</td>\n",
       "    </tr>\n",
       "  </tbody>\n",
       "</table>\n",
       "<p>5 rows × 39 columns</p>\n",
       "</div>"
      ],
      "text/plain": [
       "     Rainfall  Temp_min       Time    Power  Temp_max  Hum_min  Hum_max  year  \\\n",
       "1  141.700002      10.3 2013-02-01   460880       0.2      2.0      0.9  2013   \n",
       "2  153.400001      11.5 2013-03-01   519945       1.6     -0.2      1.4  2013   \n",
       "3  102.899999      11.4 2013-04-01   452010       1.4     -3.6      0.3  2013   \n",
       "4  148.500000      14.0 2013-05-01  1487403      -1.7     10.6      4.6  2013   \n",
       "5  337.800001      13.6 2013-06-01  2951680      -3.9      7.0      0.5  2013   \n",
       "\n",
       "   month  Rainfall_mean_lag2  ...  Hum_min_mean_lag7  Hum_min_std_lag2  \\\n",
       "1      2          150.346277  ...           0.044078          6.368523   \n",
       "2      3          141.700002  ...           2.000000          6.368523   \n",
       "3      4          147.550001  ...           0.900000          1.555635   \n",
       "4      5          128.150000  ...          -0.600000          2.404163   \n",
       "5      6          125.700000  ...           2.200000         10.040916   \n",
       "\n",
       "   Hum_min_std_lag3  Hum_min_std_lag7  Hum_max_mean_lag2  Hum_max_mean_lag3  \\\n",
       "1          6.796303          7.627047           0.104787           0.110461   \n",
       "2          6.796303          7.627047           0.900000           0.900000   \n",
       "3          1.555635          1.555635           1.150000           1.150000   \n",
       "4          2.821347          2.821347           0.850000           0.866667   \n",
       "5          7.414400          6.055301           2.450000           2.100000   \n",
       "\n",
       "   Hum_max_mean_lag7  Hum_max_std_lag2  Hum_max_std_lag3  Hum_max_std_lag7  \n",
       "1           0.118156          5.289615          5.751372          6.566004  \n",
       "2           0.900000          5.289615          5.751372          6.566004  \n",
       "3           1.150000          0.353553          0.353553          0.353553  \n",
       "4           0.866667          0.777817          0.550757          0.550757  \n",
       "5           1.800000          3.040559          2.233831          1.920069  \n",
       "\n",
       "[5 rows x 39 columns]"
      ]
     },
     "execution_count": 17,
     "metadata": {},
     "output_type": "execute_result"
    }
   ],
   "source": [
    "df.head()"
   ]
  },
  {
   "cell_type": "code",
   "execution_count": 18,
   "metadata": {},
   "outputs": [
    {
     "data": {
      "text/plain": [
       "Rainfall              0\n",
       "Temp_min              0\n",
       "Time                  0\n",
       "Power                 0\n",
       "Temp_max              0\n",
       "Hum_min               0\n",
       "Hum_max               0\n",
       "year                  0\n",
       "month                 0\n",
       "Rainfall_mean_lag2    0\n",
       "Rainfall_mean_lag3    0\n",
       "Rainfall_mean_lag7    0\n",
       "Rainfall_std_lag2     0\n",
       "Rainfall_std_lag3     0\n",
       "Rainfall_std_lag7     0\n",
       "Temp_min_mean_lag2    0\n",
       "Temp_min_mean_lag3    0\n",
       "Temp_min_mean_lag7    0\n",
       "Temp_min_std_lag2     0\n",
       "Temp_min_std_lag3     0\n",
       "Temp_min_std_lag7     0\n",
       "Temp_max_mean_lag2    0\n",
       "Temp_max_mean_lag3    0\n",
       "Temp_max_mean_lag7    0\n",
       "Temp_max_std_lag2     0\n",
       "Temp_max_std_lag3     0\n",
       "Temp_max_std_lag7     0\n",
       "Hum_min_mean_lag2     0\n",
       "Hum_min_mean_lag3     0\n",
       "Hum_min_mean_lag7     0\n",
       "Hum_min_std_lag2      0\n",
       "Hum_min_std_lag3      0\n",
       "Hum_min_std_lag7      0\n",
       "Hum_max_mean_lag2     0\n",
       "Hum_max_mean_lag3     0\n",
       "Hum_max_mean_lag7     0\n",
       "Hum_max_std_lag2      0\n",
       "Hum_max_std_lag3      0\n",
       "Hum_max_std_lag7      0\n",
       "dtype: int64"
      ]
     },
     "execution_count": 18,
     "metadata": {},
     "output_type": "execute_result"
    }
   ],
   "source": [
    "#Checking for missing values\n",
    "df.isnull().sum()"
   ]
  },
  {
   "cell_type": "code",
   "execution_count": 19,
   "metadata": {},
   "outputs": [],
   "source": [
    "#Splitting the data set to train and test\n",
    "train=df[:int(0.67*(len(df)))]\n",
    "valid=df[int(0.67*(len(df))):]"
   ]
  },
  {
   "cell_type": "code",
   "execution_count": 20,
   "metadata": {},
   "outputs": [
    {
     "name": "stdout",
     "output_type": "stream",
     "text": [
      "Index(['Rainfall', 'Temp_min', 'Time', 'Power', 'Temp_max', 'Hum_min',\n",
      "       'Hum_max', 'year', 'month', 'Rainfall_mean_lag2', 'Rainfall_mean_lag3',\n",
      "       'Rainfall_mean_lag7', 'Rainfall_std_lag2', 'Rainfall_std_lag3',\n",
      "       'Rainfall_std_lag7', 'Temp_min_mean_lag2', 'Temp_min_mean_lag3',\n",
      "       'Temp_min_mean_lag7', 'Temp_min_std_lag2', 'Temp_min_std_lag3',\n",
      "       'Temp_min_std_lag7', 'Temp_max_mean_lag2', 'Temp_max_mean_lag3',\n",
      "       'Temp_max_mean_lag7', 'Temp_max_std_lag2', 'Temp_max_std_lag3',\n",
      "       'Temp_max_std_lag7', 'Hum_min_mean_lag2', 'Hum_min_mean_lag3',\n",
      "       'Hum_min_mean_lag7', 'Hum_min_std_lag2', 'Hum_min_std_lag3',\n",
      "       'Hum_min_std_lag7', 'Hum_max_mean_lag2', 'Hum_max_mean_lag3',\n",
      "       'Hum_max_mean_lag7', 'Hum_max_std_lag2', 'Hum_max_std_lag3',\n",
      "       'Hum_max_std_lag7'],\n",
      "      dtype='object')\n"
     ]
    }
   ],
   "source": [
    "features=df.columns\n",
    "print(features)"
   ]
  },
  {
   "cell_type": "code",
   "execution_count": 21,
   "metadata": {},
   "outputs": [],
   "source": [
    "#Removing predictor variable and time column\n",
    "features=[ 'Temp_min','Temp_max', 'Hum_min',\n",
    "       'Hum_max','Rainfall_mean_lag2', 'Rainfall_mean_lag3',\n",
    "       'Rainfall_mean_lag7', 'Rainfall_std_lag2', 'Rainfall_std_lag3',\n",
    "       'Rainfall_std_lag7', 'Temp_min_mean_lag2', 'Temp_min_mean_lag3',\n",
    "       'Temp_min_mean_lag7', 'Temp_min_std_lag2', 'Temp_min_std_lag3',\n",
    "       'Temp_min_std_lag7', 'Temp_max_mean_lag2', 'Temp_max_mean_lag3',\n",
    "       'Temp_max_mean_lag7', 'Temp_max_std_lag2', 'Temp_max_std_lag3',\n",
    "       'Temp_max_std_lag7', 'Hum_min_mean_lag2', 'Hum_min_mean_lag3',\n",
    "       'Hum_min_mean_lag7', 'Hum_min_std_lag2', 'Hum_min_std_lag3',\n",
    "       'Hum_min_std_lag7', 'Hum_max_mean_lag2', 'Hum_max_mean_lag3',\n",
    "       'Hum_max_mean_lag7', 'Hum_max_std_lag2', 'Hum_max_std_lag3',\n",
    "       'Hum_max_std_lag7']"
   ]
  },
  {
   "cell_type": "code",
   "execution_count": null,
   "metadata": {},
   "outputs": [
    {
     "name": "stdout",
     "output_type": "stream",
     "text": [
      " ARIMA(0,0,0)(0,0,0)[12] intercept   : AIC=773.530, Time=0.96 sec\n",
      " ARIMA(0,0,0)(0,0,1)[12] intercept   : AIC=inf, Time=5.85 sec\n",
      " ARIMA(0,0,0)(0,0,2)[12] intercept   : AIC=inf, Time=8.41 sec\n",
      " ARIMA(0,0,0)(1,0,0)[12] intercept   : AIC=777.509, Time=5.21 sec\n",
      " ARIMA(0,0,0)(1,0,1)[12] intercept   : AIC=inf, Time=26.38 sec\n",
      " ARIMA(0,0,0)(1,0,2)[12] intercept   : AIC=inf, Time=12.70 sec\n",
      " ARIMA(0,0,0)(2,0,0)[12] intercept   : AIC=768.779, Time=32.07 sec\n",
      " ARIMA(0,0,0)(2,0,1)[12] intercept   : AIC=inf, Time=50.51 sec\n",
      " ARIMA(0,0,0)(2,0,2)[12] intercept   : AIC=inf, Time=40.83 sec\n",
      " ARIMA(0,0,1)(0,0,0)[12] intercept   : AIC=inf, Time=3.16 sec\n",
      " ARIMA(0,0,1)(0,0,1)[12] intercept   : AIC=inf, Time=5.73 sec\n",
      " ARIMA(0,0,1)(0,0,2)[12] intercept   : AIC=inf, Time=9.58 sec\n",
      " ARIMA(0,0,1)(1,0,0)[12] intercept   : AIC=776.358, Time=8.54 sec\n",
      " ARIMA(0,0,1)(1,0,1)[12] intercept   : AIC=inf, Time=16.57 sec\n",
      " ARIMA(0,0,1)(1,0,2)[12] intercept   : AIC=inf, Time=29.41 sec\n",
      " ARIMA(0,0,1)(2,0,0)[12] intercept   : AIC=791.258, Time=57.00 sec\n",
      " ARIMA(0,0,1)(2,0,1)[12] intercept   : AIC=inf, Time=28.12 sec\n",
      " ARIMA(0,0,1)(2,0,2)[12] intercept   : AIC=inf, Time=29.24 sec\n",
      " ARIMA(0,0,2)(0,0,0)[12] intercept   : AIC=781.436, Time=4.53 sec\n",
      " ARIMA(0,0,2)(0,0,1)[12] intercept   : AIC=780.401, Time=5.97 sec\n",
      " ARIMA(0,0,2)(0,0,2)[12] intercept   : AIC=inf, Time=13.61 sec\n",
      " ARIMA(0,0,2)(1,0,0)[12] intercept   : AIC=inf, Time=3.76 sec\n",
      " ARIMA(0,0,2)(1,0,1)[12] intercept   : AIC=inf, Time=4.59 sec\n",
      " ARIMA(0,0,2)(1,0,2)[12] intercept   : AIC=inf, Time=15.61 sec\n",
      " ARIMA(0,0,2)(2,0,0)[12] intercept   : AIC=inf, Time=20.72 sec\n",
      " ARIMA(0,0,2)(2,0,1)[12] intercept   : AIC=inf, Time=50.85 sec\n",
      " ARIMA(0,0,2)(2,0,2)[12] intercept   : AIC=inf, Time=57.85 sec\n",
      " ARIMA(0,0,3)(0,0,0)[12] intercept   : AIC=784.775, Time=3.20 sec\n",
      " ARIMA(0,0,3)(0,0,1)[12] intercept   : AIC=784.943, Time=5.84 sec\n",
      " ARIMA(0,0,3)(0,0,2)[12] intercept   : AIC=inf, Time=13.59 sec\n",
      " ARIMA(0,0,3)(1,0,0)[12] intercept   : AIC=780.733, Time=4.37 sec\n",
      " ARIMA(0,0,3)(1,0,1)[12] intercept   : AIC=inf, Time=13.14 sec\n",
      " ARIMA(0,0,3)(1,0,2)[12] intercept   : AIC=inf, Time=14.81 sec\n",
      " ARIMA(0,0,3)(2,0,0)[12] intercept   : AIC=761.063, Time=23.32 sec\n",
      " ARIMA(0,0,3)(2,0,1)[12] intercept   : AIC=inf, Time=14.32 sec\n",
      " ARIMA(0,0,3)(2,0,2)[12] intercept   : AIC=inf, Time=18.97 sec\n",
      " ARIMA(0,0,4)(0,0,0)[12] intercept   : AIC=inf, Time=4.30 sec\n",
      " ARIMA(0,0,4)(0,0,1)[12] intercept   : AIC=inf, Time=7.65 sec\n",
      " ARIMA(0,0,4)(0,0,2)[12] intercept   : AIC=inf, Time=11.37 sec\n",
      " ARIMA(0,0,4)(1,0,0)[12] intercept   : AIC=inf, Time=5.44 sec\n",
      " ARIMA(0,0,4)(1,0,1)[12] intercept   : AIC=inf, Time=7.48 sec\n",
      " ARIMA(0,0,4)(1,0,2)[12] intercept   : AIC=inf, Time=12.15 sec\n",
      " ARIMA(0,0,4)(2,0,0)[12] intercept   : AIC=inf, Time=11.86 sec\n",
      " ARIMA(0,0,4)(2,0,1)[12] intercept   : AIC=inf, Time=12.62 sec\n",
      " ARIMA(0,0,4)(2,0,2)[12] intercept   : AIC=inf, Time=14.40 sec\n",
      " ARIMA(0,0,5)(0,0,0)[12] intercept   : AIC=inf, Time=5.78 sec\n",
      " ARIMA(0,0,5)(0,0,1)[12] intercept   : AIC=inf, Time=11.14 sec\n",
      " ARIMA(0,0,5)(0,0,2)[12] intercept   : AIC=inf, Time=18.97 sec\n",
      " ARIMA(0,0,5)(1,0,0)[12] intercept   : AIC=inf, Time=8.87 sec\n",
      " ARIMA(0,0,5)(1,0,1)[12] intercept   : AIC=inf, Time=12.15 sec\n",
      " ARIMA(0,0,5)(1,0,2)[12] intercept   : AIC=inf, Time=21.97 sec\n",
      " ARIMA(0,0,5)(2,0,0)[12] intercept   : AIC=inf, Time=23.47 sec\n",
      " ARIMA(0,0,5)(2,0,1)[12] intercept   : AIC=inf, Time=36.31 sec\n",
      " ARIMA(0,0,5)(2,0,2)[12] intercept   : AIC=inf, Time=26.23 sec\n",
      " ARIMA(0,0,6)(0,0,0)[12] intercept   : AIC=inf, Time=7.12 sec\n",
      " ARIMA(0,0,6)(0,0,1)[12] intercept   : AIC=inf, Time=18.44 sec\n",
      " ARIMA(0,0,6)(0,0,2)[12] intercept   : AIC=inf, Time=20.11 sec\n"
     ]
    }
   ],
   "source": [
    "arimaxmodel = auto_arima(train['Rainfall'],\n",
    "                   exogenous = train[features], trace=True, \n",
    "                   error_action=\"ignore\", suppress_warnings=True,stepwise=False,max_d=2,max_D=2,m=12,max_p=6,max_q=6,maxiter=100,max_order=None,alpha=0.05,\n",
    "                        information_criterion='aic',out_of_sample_size=int(len(train)*0.2),method='powell')\n",
    "arimaxmodel.fit(train['Rainfall'], exogenous = train[features])\n",
    "# model = arima()\n",
    "arimaxforecast = arimaxmodel.predict(n_periods=len(valid), exogenous = valid[features])\n",
    "valid[\"Forecast_ARIMAX\"] = arimaxforecast"
   ]
  },
  {
   "cell_type": "code",
   "execution_count": null,
   "metadata": {},
   "outputs": [],
   "source": [
    "arimaxmodel.summary()"
   ]
  },
  {
   "cell_type": "code",
   "execution_count": null,
   "metadata": {},
   "outputs": [],
   "source": [
    "#Forecast using built model\n",
    "valid[[\"Rainfall\", \"Forecast_ARIMAX\"]].plot(figsize=(14, 7))\n",
    "plt.title('Rainfall Forecasting')"
   ]
  },
  {
   "cell_type": "code",
   "execution_count": null,
   "metadata": {},
   "outputs": [],
   "source": []
  },
  {
   "cell_type": "code",
   "execution_count": null,
   "metadata": {},
   "outputs": [],
   "source": []
  },
  {
   "cell_type": "code",
   "execution_count": null,
   "metadata": {},
   "outputs": [],
   "source": []
  }
 ],
 "metadata": {
  "kernelspec": {
   "display_name": "Python 3 (ipykernel)",
   "language": "python",
   "name": "python3"
  },
  "language_info": {
   "codemirror_mode": {
    "name": "ipython",
    "version": 3
   },
   "file_extension": ".py",
   "mimetype": "text/x-python",
   "name": "python",
   "nbconvert_exporter": "python",
   "pygments_lexer": "ipython3",
   "version": "3.9.7"
  }
 },
 "nbformat": 4,
 "nbformat_minor": 4
}
