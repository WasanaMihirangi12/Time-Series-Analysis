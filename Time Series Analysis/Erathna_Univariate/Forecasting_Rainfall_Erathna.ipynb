{
 "cells": [
  {
   "cell_type": "code",
   "execution_count": 1,
   "metadata": {},
   "outputs": [],
   "source": [
    "import numpy as np\n",
    "import pandas as pd\n",
    "import matplotlib.pyplot as plt\n",
    "%matplotlib inline\n",
    "from statsmodels.tsa.stattools import adfuller \n",
    "from statsmodels.graphics.tsaplots import plot_acf,plot_pacf\n",
    "import statsmodels.api as sm\n",
    "from sklearn.metrics import mean_absolute_error\n",
    "from statsmodels.tsa.arima_model import ARIMA\n",
    "from math import sqrt\n",
    "from pmdarima import auto_arima\n",
    "\n",
    "\n"
   ]
  },
  {
   "cell_type": "code",
   "execution_count": 2,
   "metadata": {},
   "outputs": [
    {
     "data": {
      "text/html": [
       "<div>\n",
       "<style scoped>\n",
       "    .dataframe tbody tr th:only-of-type {\n",
       "        vertical-align: middle;\n",
       "    }\n",
       "\n",
       "    .dataframe tbody tr th {\n",
       "        vertical-align: top;\n",
       "    }\n",
       "\n",
       "    .dataframe thead th {\n",
       "        text-align: right;\n",
       "    }\n",
       "</style>\n",
       "<table border=\"1\" class=\"dataframe\">\n",
       "  <thead>\n",
       "    <tr style=\"text-align: right;\">\n",
       "      <th></th>\n",
       "      <th>Year</th>\n",
       "      <th>Month</th>\n",
       "      <th>Rainfall</th>\n",
       "      <th>Temp_min</th>\n",
       "      <th>Temp_max</th>\n",
       "      <th>Hum_min</th>\n",
       "      <th>Hum_max</th>\n",
       "    </tr>\n",
       "  </thead>\n",
       "  <tbody>\n",
       "    <tr>\n",
       "      <th>0</th>\n",
       "      <td>2010</td>\n",
       "      <td>January</td>\n",
       "      <td>130.2</td>\n",
       "      <td>22.1</td>\n",
       "      <td>32.1</td>\n",
       "      <td>NaN</td>\n",
       "      <td>NaN</td>\n",
       "    </tr>\n",
       "    <tr>\n",
       "      <th>1</th>\n",
       "      <td>2010</td>\n",
       "      <td>February</td>\n",
       "      <td>41.3</td>\n",
       "      <td>22.6</td>\n",
       "      <td>33.9</td>\n",
       "      <td>NaN</td>\n",
       "      <td>NaN</td>\n",
       "    </tr>\n",
       "    <tr>\n",
       "      <th>2</th>\n",
       "      <td>2010</td>\n",
       "      <td>March</td>\n",
       "      <td>171.5</td>\n",
       "      <td>23.1</td>\n",
       "      <td>35.2</td>\n",
       "      <td>NaN</td>\n",
       "      <td>NaN</td>\n",
       "    </tr>\n",
       "    <tr>\n",
       "      <th>3</th>\n",
       "      <td>2010</td>\n",
       "      <td>April</td>\n",
       "      <td>421.7</td>\n",
       "      <td>23.7</td>\n",
       "      <td>33.5</td>\n",
       "      <td>NaN</td>\n",
       "      <td>NaN</td>\n",
       "    </tr>\n",
       "    <tr>\n",
       "      <th>4</th>\n",
       "      <td>2010</td>\n",
       "      <td>May</td>\n",
       "      <td>793.3</td>\n",
       "      <td>24.0</td>\n",
       "      <td>31.8</td>\n",
       "      <td>NaN</td>\n",
       "      <td>NaN</td>\n",
       "    </tr>\n",
       "  </tbody>\n",
       "</table>\n",
       "</div>"
      ],
      "text/plain": [
       "   Year     Month  Rainfall  Temp_min  Temp_max  Hum_min  Hum_max\n",
       "0  2010   January     130.2      22.1      32.1      NaN      NaN\n",
       "1  2010  February      41.3      22.6      33.9      NaN      NaN\n",
       "2  2010     March     171.5      23.1      35.2      NaN      NaN\n",
       "3  2010     April     421.7      23.7      33.5      NaN      NaN\n",
       "4  2010       May     793.3      24.0      31.8      NaN      NaN"
      ]
     },
     "execution_count": 2,
     "metadata": {},
     "output_type": "execute_result"
    }
   ],
   "source": [
    "df=pd.read_csv('Erathna_project.csv')\n",
    "df.head()\n",
    "\n",
    "\n",
    "\n",
    "\n"
   ]
  },
  {
   "cell_type": "code",
   "execution_count": 3,
   "metadata": {},
   "outputs": [],
   "source": [
    "df[\"Time\"]=df[\"Year\"].astype(str)+\"-\"+df[\"Month\"].astype(str)"
   ]
  },
  {
   "cell_type": "code",
   "execution_count": 4,
   "metadata": {},
   "outputs": [],
   "source": [
    "#Creating time column\n",
    "df['Time'] = pd.to_datetime(df['Time'])"
   ]
  },
  {
   "cell_type": "code",
   "execution_count": 5,
   "metadata": {},
   "outputs": [
    {
     "data": {
      "text/html": [
       "<div>\n",
       "<style scoped>\n",
       "    .dataframe tbody tr th:only-of-type {\n",
       "        vertical-align: middle;\n",
       "    }\n",
       "\n",
       "    .dataframe tbody tr th {\n",
       "        vertical-align: top;\n",
       "    }\n",
       "\n",
       "    .dataframe thead th {\n",
       "        text-align: right;\n",
       "    }\n",
       "</style>\n",
       "<table border=\"1\" class=\"dataframe\">\n",
       "  <thead>\n",
       "    <tr style=\"text-align: right;\">\n",
       "      <th></th>\n",
       "      <th>Year</th>\n",
       "      <th>Month</th>\n",
       "      <th>Rainfall</th>\n",
       "      <th>Temp_min</th>\n",
       "      <th>Temp_max</th>\n",
       "      <th>Hum_min</th>\n",
       "      <th>Hum_max</th>\n",
       "      <th>Time</th>\n",
       "    </tr>\n",
       "  </thead>\n",
       "  <tbody>\n",
       "    <tr>\n",
       "      <th>0</th>\n",
       "      <td>2010</td>\n",
       "      <td>January</td>\n",
       "      <td>130.2</td>\n",
       "      <td>22.1</td>\n",
       "      <td>32.1</td>\n",
       "      <td>NaN</td>\n",
       "      <td>NaN</td>\n",
       "      <td>2010-01-01</td>\n",
       "    </tr>\n",
       "    <tr>\n",
       "      <th>1</th>\n",
       "      <td>2010</td>\n",
       "      <td>February</td>\n",
       "      <td>41.3</td>\n",
       "      <td>22.6</td>\n",
       "      <td>33.9</td>\n",
       "      <td>NaN</td>\n",
       "      <td>NaN</td>\n",
       "      <td>2010-02-01</td>\n",
       "    </tr>\n",
       "    <tr>\n",
       "      <th>2</th>\n",
       "      <td>2010</td>\n",
       "      <td>March</td>\n",
       "      <td>171.5</td>\n",
       "      <td>23.1</td>\n",
       "      <td>35.2</td>\n",
       "      <td>NaN</td>\n",
       "      <td>NaN</td>\n",
       "      <td>2010-03-01</td>\n",
       "    </tr>\n",
       "    <tr>\n",
       "      <th>3</th>\n",
       "      <td>2010</td>\n",
       "      <td>April</td>\n",
       "      <td>421.7</td>\n",
       "      <td>23.7</td>\n",
       "      <td>33.5</td>\n",
       "      <td>NaN</td>\n",
       "      <td>NaN</td>\n",
       "      <td>2010-04-01</td>\n",
       "    </tr>\n",
       "    <tr>\n",
       "      <th>4</th>\n",
       "      <td>2010</td>\n",
       "      <td>May</td>\n",
       "      <td>793.3</td>\n",
       "      <td>24.0</td>\n",
       "      <td>31.8</td>\n",
       "      <td>NaN</td>\n",
       "      <td>NaN</td>\n",
       "      <td>2010-05-01</td>\n",
       "    </tr>\n",
       "  </tbody>\n",
       "</table>\n",
       "</div>"
      ],
      "text/plain": [
       "   Year     Month  Rainfall  Temp_min  Temp_max  Hum_min  Hum_max       Time\n",
       "0  2010   January     130.2      22.1      32.1      NaN      NaN 2010-01-01\n",
       "1  2010  February      41.3      22.6      33.9      NaN      NaN 2010-02-01\n",
       "2  2010     March     171.5      23.1      35.2      NaN      NaN 2010-03-01\n",
       "3  2010     April     421.7      23.7      33.5      NaN      NaN 2010-04-01\n",
       "4  2010       May     793.3      24.0      31.8      NaN      NaN 2010-05-01"
      ]
     },
     "execution_count": 5,
     "metadata": {},
     "output_type": "execute_result"
    }
   ],
   "source": [
    "df.head()"
   ]
  },
  {
   "cell_type": "code",
   "execution_count": 6,
   "metadata": {},
   "outputs": [
    {
     "data": {
      "text/html": [
       "<div>\n",
       "<style scoped>\n",
       "    .dataframe tbody tr th:only-of-type {\n",
       "        vertical-align: middle;\n",
       "    }\n",
       "\n",
       "    .dataframe tbody tr th {\n",
       "        vertical-align: top;\n",
       "    }\n",
       "\n",
       "    .dataframe thead th {\n",
       "        text-align: right;\n",
       "    }\n",
       "</style>\n",
       "<table border=\"1\" class=\"dataframe\">\n",
       "  <thead>\n",
       "    <tr style=\"text-align: right;\">\n",
       "      <th></th>\n",
       "      <th>Time</th>\n",
       "      <th>Rainfall</th>\n",
       "    </tr>\n",
       "  </thead>\n",
       "  <tbody>\n",
       "    <tr>\n",
       "      <th>0</th>\n",
       "      <td>2010-01-01</td>\n",
       "      <td>130.2</td>\n",
       "    </tr>\n",
       "    <tr>\n",
       "      <th>1</th>\n",
       "      <td>2010-02-01</td>\n",
       "      <td>41.3</td>\n",
       "    </tr>\n",
       "    <tr>\n",
       "      <th>2</th>\n",
       "      <td>2010-03-01</td>\n",
       "      <td>171.5</td>\n",
       "    </tr>\n",
       "    <tr>\n",
       "      <th>3</th>\n",
       "      <td>2010-04-01</td>\n",
       "      <td>421.7</td>\n",
       "    </tr>\n",
       "    <tr>\n",
       "      <th>4</th>\n",
       "      <td>2010-05-01</td>\n",
       "      <td>793.3</td>\n",
       "    </tr>\n",
       "  </tbody>\n",
       "</table>\n",
       "</div>"
      ],
      "text/plain": [
       "        Time  Rainfall\n",
       "0 2010-01-01     130.2\n",
       "1 2010-02-01      41.3\n",
       "2 2010-03-01     171.5\n",
       "3 2010-04-01     421.7\n",
       "4 2010-05-01     793.3"
      ]
     },
     "execution_count": 6,
     "metadata": {},
     "output_type": "execute_result"
    }
   ],
   "source": [
    "rainfall=df[[\"Time\",\"Rainfall\"]]\n",
    "rainfall.head()\n"
   ]
  },
  {
   "cell_type": "markdown",
   "metadata": {},
   "source": [
    "# Forecasting rainfall"
   ]
  },
  {
   "cell_type": "code",
   "execution_count": 7,
   "metadata": {},
   "outputs": [
    {
     "data": {
      "text/plain": [
       "Time        0\n",
       "Rainfall    7\n",
       "dtype: int64"
      ]
     },
     "execution_count": 7,
     "metadata": {},
     "output_type": "execute_result"
    }
   ],
   "source": [
    "#Checking for missing values\n",
    "rainfall.isna().sum()\n"
   ]
  },
  {
   "cell_type": "code",
   "execution_count": 8,
   "metadata": {},
   "outputs": [],
   "source": [
    "#Setting the time index\n",
    "rainfall.set_index('Time',inplace=True)"
   ]
  },
  {
   "cell_type": "code",
   "execution_count": 9,
   "metadata": {},
   "outputs": [],
   "source": [
    "rain=rainfall.resample('MS').first()"
   ]
  },
  {
   "cell_type": "code",
   "execution_count": 10,
   "metadata": {},
   "outputs": [
    {
     "data": {
      "text/html": [
       "<div>\n",
       "<style scoped>\n",
       "    .dataframe tbody tr th:only-of-type {\n",
       "        vertical-align: middle;\n",
       "    }\n",
       "\n",
       "    .dataframe tbody tr th {\n",
       "        vertical-align: top;\n",
       "    }\n",
       "\n",
       "    .dataframe thead th {\n",
       "        text-align: right;\n",
       "    }\n",
       "</style>\n",
       "<table border=\"1\" class=\"dataframe\">\n",
       "  <thead>\n",
       "    <tr style=\"text-align: right;\">\n",
       "      <th></th>\n",
       "      <th>Rainfall</th>\n",
       "    </tr>\n",
       "    <tr>\n",
       "      <th>Time</th>\n",
       "      <th></th>\n",
       "    </tr>\n",
       "  </thead>\n",
       "  <tbody>\n",
       "    <tr>\n",
       "      <th>2010-01-01</th>\n",
       "      <td>130.2</td>\n",
       "    </tr>\n",
       "    <tr>\n",
       "      <th>2010-02-01</th>\n",
       "      <td>41.3</td>\n",
       "    </tr>\n",
       "    <tr>\n",
       "      <th>2010-03-01</th>\n",
       "      <td>171.5</td>\n",
       "    </tr>\n",
       "    <tr>\n",
       "      <th>2010-04-01</th>\n",
       "      <td>421.7</td>\n",
       "    </tr>\n",
       "    <tr>\n",
       "      <th>2010-05-01</th>\n",
       "      <td>793.3</td>\n",
       "    </tr>\n",
       "    <tr>\n",
       "      <th>2010-06-01</th>\n",
       "      <td>395.8</td>\n",
       "    </tr>\n",
       "    <tr>\n",
       "      <th>2010-07-01</th>\n",
       "      <td>433.1</td>\n",
       "    </tr>\n",
       "    <tr>\n",
       "      <th>2010-08-01</th>\n",
       "      <td>366.2</td>\n",
       "    </tr>\n",
       "    <tr>\n",
       "      <th>2010-09-01</th>\n",
       "      <td>322.2</td>\n",
       "    </tr>\n",
       "    <tr>\n",
       "      <th>2010-10-01</th>\n",
       "      <td>322.2</td>\n",
       "    </tr>\n",
       "    <tr>\n",
       "      <th>2010-11-01</th>\n",
       "      <td>663.5</td>\n",
       "    </tr>\n",
       "    <tr>\n",
       "      <th>2010-12-01</th>\n",
       "      <td>445.3</td>\n",
       "    </tr>\n",
       "    <tr>\n",
       "      <th>2011-01-01</th>\n",
       "      <td>162.8</td>\n",
       "    </tr>\n",
       "    <tr>\n",
       "      <th>2011-02-01</th>\n",
       "      <td>192.2</td>\n",
       "    </tr>\n",
       "    <tr>\n",
       "      <th>2011-03-01</th>\n",
       "      <td>296.8</td>\n",
       "    </tr>\n",
       "    <tr>\n",
       "      <th>2011-04-01</th>\n",
       "      <td>773.1</td>\n",
       "    </tr>\n",
       "    <tr>\n",
       "      <th>2011-05-01</th>\n",
       "      <td>702.5</td>\n",
       "    </tr>\n",
       "    <tr>\n",
       "      <th>2011-06-01</th>\n",
       "      <td>284.5</td>\n",
       "    </tr>\n",
       "    <tr>\n",
       "      <th>2011-07-01</th>\n",
       "      <td>226.9</td>\n",
       "    </tr>\n",
       "    <tr>\n",
       "      <th>2011-08-01</th>\n",
       "      <td>376.4</td>\n",
       "    </tr>\n",
       "  </tbody>\n",
       "</table>\n",
       "</div>"
      ],
      "text/plain": [
       "            Rainfall\n",
       "Time                \n",
       "2010-01-01     130.2\n",
       "2010-02-01      41.3\n",
       "2010-03-01     171.5\n",
       "2010-04-01     421.7\n",
       "2010-05-01     793.3\n",
       "2010-06-01     395.8\n",
       "2010-07-01     433.1\n",
       "2010-08-01     366.2\n",
       "2010-09-01     322.2\n",
       "2010-10-01     322.2\n",
       "2010-11-01     663.5\n",
       "2010-12-01     445.3\n",
       "2011-01-01     162.8\n",
       "2011-02-01     192.2\n",
       "2011-03-01     296.8\n",
       "2011-04-01     773.1\n",
       "2011-05-01     702.5\n",
       "2011-06-01     284.5\n",
       "2011-07-01     226.9\n",
       "2011-08-01     376.4"
      ]
     },
     "execution_count": 10,
     "metadata": {},
     "output_type": "execute_result"
    }
   ],
   "source": [
    "#removing missing values\n",
    "rain=rain.fillna(method='bfill')\n",
    "rain.head(20)\n"
   ]
  },
  {
   "cell_type": "markdown",
   "metadata": {},
   "source": [
    "# Visualize the Data"
   ]
  },
  {
   "cell_type": "code",
   "execution_count": 11,
   "metadata": {},
   "outputs": [
    {
     "data": {
      "text/plain": [
       "<AxesSubplot:xlabel='Time'>"
      ]
     },
     "execution_count": 11,
     "metadata": {},
     "output_type": "execute_result"
    },
    {
     "data": {
      "image/png": "[encoded data removed]",
      "text/plain": [
       "<Figure size 864x576 with 1 Axes>"
      ]
     },
     "metadata": {
      "needs_background": "light"
     },
     "output_type": "display_data"
    }
   ],
   "source": [
    "rain.plot(figsize=(12,8))\n"
   ]
  },
  {
   "cell_type": "markdown",
   "metadata": {},
   "source": [
    "No significant trend. But it can be seen that there is some evidence for seasonality."
   ]
  },
  {
   "cell_type": "markdown",
   "metadata": {},
   "source": [
    "# Testing For Stationarity"
   ]
  },
  {
   "cell_type": "code",
   "execution_count": 12,
   "metadata": {},
   "outputs": [
    {
     "name": "stdout",
     "output_type": "stream",
     "text": [
      "ADF Test Statistic : -6.171407499375514\n",
      "p-value : 6.791187665809503e-08\n",
      "#Lags Used : 8\n",
      "Number of Observations Used : 135\n",
      "strong evidence against the null hypothesis(Ho), reject the null hypothesis. Data has no unit root and is stationary\n"
     ]
    }
   ],
   "source": [
    "### ADF Test\n",
    "test_result=adfuller(rain['Rainfall'])\n",
    "#Ho: The series is non stationary\n",
    "#H1: The series is stationary\n",
    "\n",
    "def adfuller_test(rainfall):\n",
    "    result=adfuller(rainfall)\n",
    "    labels = ['ADF Test Statistic','p-value','#Lags Used','Number of Observations Used']\n",
    "    for value,label in zip(result,labels):\n",
    "        print(label+' : '+str(value) )\n",
    "    if result[1] <= 0.05:\n",
    "        print(\"strong evidence against the null hypothesis(Ho), reject the null hypothesis. Data has no unit root and is stationary\")\n",
    "    else:\n",
    "        print(\"weak evidence against null hypothesis, time series has a unit root, indicating it is non-stationary \")\n",
    "    \n",
    "adfuller_test(rain['Rainfall'])\n"
   ]
  },
  {
   "cell_type": "code",
   "execution_count": 13,
   "metadata": {},
   "outputs": [
    {
     "name": "stdout",
     "output_type": "stream",
     "text": [
      "KPSS Statistic: 0.05315454730637448\n",
      "p-value: 0.1\n",
      "num lags: 14\n",
      "Critial Values:\n",
      "   10% : 0.347\n",
      "   5% : 0.463\n",
      "   2.5% : 0.574\n",
      "   1% : 0.739\n",
      "Result: The series is stationary\n"
     ]
    },
    {
     "name": "stderr",
     "output_type": "stream",
     "text": [
      "C:\\Users\\wasan\\anaconda3\\lib\\site-packages\\statsmodels\\tsa\\stattools.py:1875: FutureWarning: The behavior of using nlags=None will change in release 0.13.Currently nlags=None is the same as nlags=\"legacy\", and so a sample-size lag length is used. After the next release, the default will change to be the same as nlags=\"auto\" which uses an automatic lag length selection method. To silence this warning, either use \"auto\" or \"legacy\"\n",
      "  warnings.warn(msg, FutureWarning)\n",
      "C:\\Users\\wasan\\anaconda3\\lib\\site-packages\\statsmodels\\tsa\\stattools.py:1910: InterpolationWarning: The test statistic is outside of the range of p-values available in the\n",
      "look-up table. The actual p-value is greater than the p-value returned.\n",
      "\n",
      "  warnings.warn(\n"
     ]
    }
   ],
   "source": [
    "# KPSS test\n",
    "from statsmodels.tsa.stattools import kpss\n",
    "def kpss_test(series, **kw):    \n",
    "    statistic, p_value, n_lags, critical_values = kpss(series, **kw)\n",
    "    # Format Output\n",
    "    print(f'KPSS Statistic: {statistic}')\n",
    "    print(f'p-value: {p_value}')\n",
    "    print(f'num lags: {n_lags}')\n",
    "    print('Critial Values:')\n",
    "    for key, value in critical_values.items():\n",
    "        print(f'   {key} : {value}')\n",
    "    print(f'Result: The series is {\"not \" if p_value < 0.05 else \"\"}stationary')\n",
    "\n",
    "kpss_test(rain['Rainfall'])\n"
   ]
  },
  {
   "cell_type": "code",
   "execution_count": 14,
   "metadata": {},
   "outputs": [
    {
     "name": "stdout",
     "output_type": "stream",
     "text": [
      "     Phillips-Perron Test (Z-tau)    \n",
      "=====================================\n",
      "Test Statistic                 -8.489\n",
      "P-value                         0.000\n",
      "Lags                               14\n",
      "-------------------------------------\n",
      "\n",
      "Trend: Constant\n",
      "Critical Values: -3.48 (1%), -2.88 (5%), -2.58 (10%)\n",
      "Null Hypothesis: The process contains a unit root.\n",
      "Alternative Hypothesis: The process is weakly stationary.\n"
     ]
    }
   ],
   "source": [
    "#PhillipsPerron Test\n",
    "from arch.unitroot import PhillipsPerron\n",
    "\n",
    "pp = PhillipsPerron(rain['Rainfall'])\n",
    "print(pp.summary().as_text())\n"
   ]
  },
  {
   "cell_type": "markdown",
   "metadata": {},
   "source": [
    "# ACF and PACF plots"
   ]
  },
  {
   "cell_type": "code",
   "execution_count": 15,
   "metadata": {},
   "outputs": [
    {
     "data": {
      "image/png": "[encoded data removed]",
      "text/plain": [
       "<Figure size 864x576 with 2 Axes>"
      ]
     },
     "metadata": {
      "needs_background": "light"
     },
     "output_type": "display_data"
    }
   ],
   "source": [
    "fig = plt.figure(figsize=(12,8))\n",
    "ax1 = fig.add_subplot(211)\n",
    "fig = sm.graphics.tsa.plot_acf(rain['Rainfall'],lags=40,ax=ax1)\n",
    "ax2 = fig.add_subplot(212)\n",
    "fig = sm.graphics.tsa.plot_pacf(rain['Rainfall'],lags=40,ax=ax2)\n"
   ]
  },
  {
   "cell_type": "markdown",
   "metadata": {},
   "source": [
    "##### According to the PACF and ACF plots it's better to start with p=3, d=0, q=3"
   ]
  },
  {
   "cell_type": "code",
   "execution_count": 16,
   "metadata": {},
   "outputs": [
    {
     "name": "stdout",
     "output_type": "stream",
     "text": [
      " ARIMA(0,0,0)(0,0,0)[12] intercept   : AIC=1965.552, Time=0.02 sec\n",
      " ARIMA(0,0,0)(0,0,1)[12] intercept   : AIC=1955.386, Time=0.12 sec\n",
      " ARIMA(0,0,0)(0,0,2)[12] intercept   : AIC=1949.678, Time=0.31 sec\n",
      " ARIMA(0,0,0)(0,0,3)[12] intercept   : AIC=1947.492, Time=0.80 sec\n",
      " ARIMA(0,0,0)(0,0,4)[12] intercept   : AIC=1944.723, Time=1.38 sec\n",
      " ARIMA(0,0,0)(0,0,5)[12] intercept   : AIC=1945.532, Time=2.21 sec\n",
      " ARIMA(0,0,0)(1,0,0)[12] intercept   : AIC=1948.747, Time=0.28 sec\n",
      " ARIMA(0,0,0)(1,0,1)[12] intercept   : AIC=inf, Time=0.38 sec\n",
      " ARIMA(0,0,0)(1,0,2)[12] intercept   : AIC=1951.449, Time=0.58 sec\n",
      " ARIMA(0,0,0)(1,0,3)[12] intercept   : AIC=1949.312, Time=1.09 sec\n",
      " ARIMA(0,0,0)(1,0,4)[12] intercept   : AIC=1946.680, Time=1.74 sec\n",
      " ARIMA(0,0,0)(2,0,0)[12] intercept   : AIC=1939.972, Time=0.52 sec\n",
      " ARIMA(0,0,0)(2,0,1)[12] intercept   : AIC=1948.318, Time=0.70 sec\n",
      " ARIMA(0,0,0)(2,0,2)[12] intercept   : AIC=inf, Time=1.74 sec\n",
      " ARIMA(0,0,0)(2,0,3)[12] intercept   : AIC=inf, Time=2.05 sec\n",
      " ARIMA(0,0,0)(3,0,0)[12] intercept   : AIC=1936.898, Time=1.42 sec\n",
      " ARIMA(0,0,0)(3,0,1)[12] intercept   : AIC=inf, Time=1.35 sec\n",
      " ARIMA(0,0,0)(3,0,2)[12] intercept   : AIC=inf, Time=1.41 sec\n",
      " ARIMA(0,0,0)(4,0,0)[12] intercept   : AIC=inf, Time=3.39 sec\n",
      " ARIMA(0,0,0)(4,0,1)[12] intercept   : AIC=inf, Time=4.00 sec\n",
      " ARIMA(0,0,0)(5,0,0)[12] intercept   : AIC=inf, Time=6.38 sec\n",
      " ARIMA(0,0,1)(0,0,0)[12] intercept   : AIC=1954.341, Time=0.11 sec\n",
      " ARIMA(0,0,1)(0,0,1)[12] intercept   : AIC=1947.162, Time=0.26 sec\n",
      " ARIMA(0,0,1)(0,0,2)[12] intercept   : AIC=1945.972, Time=0.57 sec\n",
      " ARIMA(0,0,1)(0,0,3)[12] intercept   : AIC=1944.870, Time=1.40 sec\n",
      " ARIMA(0,0,1)(0,0,4)[12] intercept   : AIC=1941.755, Time=3.76 sec\n",
      " ARIMA(0,0,1)(1,0,0)[12] intercept   : AIC=1943.868, Time=0.22 sec\n",
      " ARIMA(0,0,1)(1,0,1)[12] intercept   : AIC=1922.399, Time=0.85 sec\n",
      " ARIMA(0,0,1)(1,0,2)[12] intercept   : AIC=1947.617, Time=0.69 sec\n",
      " ARIMA(0,0,1)(1,0,3)[12] intercept   : AIC=1946.379, Time=1.46 sec\n",
      " ARIMA(0,0,1)(2,0,0)[12] intercept   : AIC=1939.770, Time=0.59 sec\n",
      " ARIMA(0,0,1)(2,0,1)[12] intercept   : AIC=1945.295, Time=0.83 sec\n",
      " ARIMA(0,0,1)(2,0,2)[12] intercept   : AIC=inf, Time=0.97 sec\n",
      " ARIMA(0,0,1)(3,0,0)[12] intercept   : AIC=1936.861, Time=1.05 sec\n",
      " ARIMA(0,0,1)(3,0,1)[12] intercept   : AIC=inf, Time=2.41 sec\n",
      " ARIMA(0,0,1)(4,0,0)[12] intercept   : AIC=1932.110, Time=3.53 sec\n",
      " ARIMA(0,0,2)(0,0,0)[12] intercept   : AIC=1952.602, Time=0.16 sec\n",
      " ARIMA(0,0,2)(0,0,1)[12] intercept   : AIC=1947.033, Time=0.45 sec\n",
      " ARIMA(0,0,2)(0,0,2)[12] intercept   : AIC=1945.563, Time=0.63 sec\n",
      " ARIMA(0,0,2)(0,0,3)[12] intercept   : AIC=1944.585, Time=2.31 sec\n",
      " ARIMA(0,0,2)(1,0,0)[12] intercept   : AIC=1944.030, Time=0.46 sec\n",
      " ARIMA(0,0,2)(1,0,1)[12] intercept   : AIC=1923.303, Time=0.97 sec\n",
      " ARIMA(0,0,2)(1,0,2)[12] intercept   : AIC=1947.178, Time=0.86 sec\n",
      " ARIMA(0,0,2)(2,0,0)[12] intercept   : AIC=1939.389, Time=0.77 sec\n",
      " ARIMA(0,0,2)(2,0,1)[12] intercept   : AIC=1944.960, Time=0.83 sec\n",
      " ARIMA(0,0,2)(3,0,0)[12] intercept   : AIC=1936.719, Time=2.58 sec\n",
      " ARIMA(0,0,3)(0,0,0)[12] intercept   : AIC=1942.126, Time=0.28 sec\n",
      " ARIMA(0,0,3)(0,0,1)[12] intercept   : AIC=1937.983, Time=0.49 sec\n",
      " ARIMA(0,0,3)(0,0,2)[12] intercept   : AIC=1936.247, Time=0.67 sec\n",
      " ARIMA(0,0,3)(1,0,0)[12] intercept   : AIC=1935.790, Time=0.51 sec\n",
      " ARIMA(0,0,3)(1,0,1)[12] intercept   : AIC=1925.851, Time=0.89 sec\n",
      " ARIMA(0,0,3)(2,0,0)[12] intercept   : AIC=1931.992, Time=0.89 sec\n",
      " ARIMA(1,0,0)(0,0,0)[12] intercept   : AIC=1954.659, Time=0.03 sec\n",
      " ARIMA(1,0,0)(0,0,1)[12] intercept   : AIC=1947.217, Time=0.19 sec\n",
      " ARIMA(1,0,0)(0,0,2)[12] intercept   : AIC=1945.535, Time=0.66 sec\n",
      " ARIMA(1,0,0)(0,0,3)[12] intercept   : AIC=1944.351, Time=1.63 sec\n",
      " ARIMA(1,0,0)(0,0,4)[12] intercept   : AIC=1941.292, Time=2.73 sec\n",
      " ARIMA(1,0,0)(1,0,0)[12] intercept   : AIC=1943.533, Time=0.41 sec\n",
      " ARIMA(1,0,0)(1,0,1)[12] intercept   : AIC=1923.000, Time=0.78 sec\n",
      " ARIMA(1,0,0)(1,0,2)[12] intercept   : AIC=1924.514, Time=1.40 sec\n",
      " ARIMA(1,0,0)(1,0,3)[12] intercept   : AIC=1927.296, Time=3.87 sec\n",
      " ARIMA(1,0,0)(2,0,0)[12] intercept   : AIC=1939.349, Time=0.75 sec\n",
      " ARIMA(1,0,0)(2,0,1)[12] intercept   : AIC=1924.186, Time=1.46 sec\n",
      " ARIMA(1,0,0)(2,0,2)[12] intercept   : AIC=inf, Time=0.86 sec\n",
      " ARIMA(1,0,0)(3,0,0)[12] intercept   : AIC=1936.395, Time=2.71 sec\n",
      " ARIMA(1,0,0)(3,0,1)[12] intercept   : AIC=1942.552, Time=2.41 sec\n",
      " ARIMA(1,0,0)(4,0,0)[12] intercept   : AIC=1931.752, Time=5.26 sec\n",
      " ARIMA(1,0,1)(0,0,0)[12] intercept   : AIC=1955.573, Time=0.19 sec\n",
      " ARIMA(1,0,1)(0,0,1)[12] intercept   : AIC=1948.619, Time=0.39 sec\n",
      " ARIMA(1,0,1)(0,0,2)[12] intercept   : AIC=1947.577, Time=0.52 sec\n",
      " ARIMA(1,0,1)(0,0,3)[12] intercept   : AIC=1946.500, Time=1.13 sec\n",
      " ARIMA(1,0,1)(1,0,0)[12] intercept   : AIC=1945.384, Time=0.50 sec\n",
      " ARIMA(1,0,1)(1,0,1)[12] intercept   : AIC=inf, Time=0.99 sec\n",
      " ARIMA(1,0,1)(1,0,2)[12] intercept   : AIC=inf, Time=1.62 sec\n",
      " ARIMA(1,0,1)(2,0,0)[12] intercept   : AIC=1943.267, Time=1.08 sec\n",
      " ARIMA(1,0,1)(2,0,1)[12] intercept   : AIC=1932.834, Time=1.48 sec\n",
      " ARIMA(1,0,1)(3,0,0)[12] intercept   : AIC=inf, Time=3.98 sec\n",
      " ARIMA(1,0,2)(0,0,0)[12] intercept   : AIC=1948.886, Time=0.22 sec\n",
      " ARIMA(1,0,2)(0,0,1)[12] intercept   : AIC=1942.816, Time=0.46 sec\n",
      " ARIMA(1,0,2)(0,0,2)[12] intercept   : AIC=1939.788, Time=1.03 sec\n",
      " ARIMA(1,0,2)(1,0,0)[12] intercept   : AIC=1939.667, Time=0.30 sec\n",
      " ARIMA(1,0,2)(1,0,1)[12] intercept   : AIC=1923.258, Time=0.85 sec\n",
      " ARIMA(1,0,2)(2,0,0)[12] intercept   : AIC=1933.709, Time=1.01 sec\n",
      " ARIMA(1,0,3)(0,0,0)[12] intercept   : AIC=1943.916, Time=0.19 sec\n",
      " ARIMA(1,0,3)(0,0,1)[12] intercept   : AIC=1939.962, Time=0.30 sec\n",
      " ARIMA(1,0,3)(1,0,0)[12] intercept   : AIC=1937.482, Time=0.37 sec\n",
      " ARIMA(2,0,0)(0,0,0)[12] intercept   : AIC=1953.208, Time=0.09 sec\n",
      " ARIMA(2,0,0)(0,0,1)[12] intercept   : AIC=1947.541, Time=0.26 sec\n",
      " ARIMA(2,0,0)(0,0,2)[12] intercept   : AIC=1947.213, Time=0.40 sec\n",
      " ARIMA(2,0,0)(0,0,3)[12] intercept   : AIC=1946.328, Time=1.23 sec\n",
      " ARIMA(2,0,0)(1,0,0)[12] intercept   : AIC=1945.032, Time=0.61 sec\n",
      " ARIMA(2,0,0)(1,0,1)[12] intercept   : AIC=1928.629, Time=1.02 sec\n",
      " ARIMA(2,0,0)(1,0,2)[12] intercept   : AIC=1949.116, Time=1.15 sec\n",
      " ARIMA(2,0,0)(2,0,0)[12] intercept   : AIC=1941.091, Time=1.04 sec\n",
      " ARIMA(2,0,0)(2,0,1)[12] intercept   : AIC=1946.950, Time=1.02 sec\n",
      " ARIMA(2,0,0)(3,0,0)[12] intercept   : AIC=1938.009, Time=2.94 sec\n",
      " ARIMA(2,0,1)(0,0,0)[12] intercept   : AIC=1958.114, Time=0.32 sec\n",
      " ARIMA(2,0,1)(0,0,1)[12] intercept   : AIC=1950.499, Time=0.46 sec\n",
      " ARIMA(2,0,1)(0,0,2)[12] intercept   : AIC=1947.045, Time=0.53 sec\n",
      " ARIMA(2,0,1)(1,0,0)[12] intercept   : AIC=1945.564, Time=0.63 sec\n",
      " ARIMA(2,0,1)(1,0,1)[12] intercept   : AIC=1931.205, Time=1.10 sec\n",
      " ARIMA(2,0,1)(2,0,0)[12] intercept   : AIC=1937.963, Time=1.86 sec\n",
      " ARIMA(2,0,2)(0,0,0)[12] intercept   : AIC=inf, Time=0.73 sec\n",
      " ARIMA(2,0,2)(0,0,1)[12] intercept   : AIC=inf, Time=0.83 sec\n",
      " ARIMA(2,0,2)(1,0,0)[12] intercept   : AIC=1938.837, Time=0.71 sec\n",
      " ARIMA(2,0,3)(0,0,0)[12] intercept   : AIC=inf, Time=0.58 sec\n",
      " ARIMA(3,0,0)(0,0,0)[12] intercept   : AIC=1940.510, Time=0.09 sec\n",
      " ARIMA(3,0,0)(0,0,1)[12] intercept   : AIC=1939.112, Time=0.09 sec\n",
      " ARIMA(3,0,0)(0,0,2)[12] intercept   : AIC=1937.475, Time=0.57 sec\n",
      " ARIMA(3,0,0)(1,0,0)[12] intercept   : AIC=1940.340, Time=0.22 sec\n",
      " ARIMA(3,0,0)(1,0,1)[12] intercept   : AIC=1941.040, Time=0.96 sec\n",
      " ARIMA(3,0,0)(2,0,0)[12] intercept   : AIC=1933.414, Time=1.40 sec\n",
      " ARIMA(3,0,1)(0,0,0)[12] intercept   : AIC=1942.314, Time=0.11 sec\n",
      " ARIMA(3,0,1)(0,0,1)[12] intercept   : AIC=1940.590, Time=0.42 sec\n",
      " ARIMA(3,0,1)(1,0,0)[12] intercept   : AIC=1938.491, Time=0.55 sec\n",
      " ARIMA(3,0,2)(0,0,0)[12] intercept   : AIC=1944.223, Time=0.22 sec\n",
      "\n",
      "Best model:  ARIMA(0,0,1)(1,0,1)[12] intercept\n",
      "Total fit time: 128.416 seconds\n"
     ]
    }
   ],
   "source": [
    "arima_model=auto_arima(rain['Rainfall'].astype(float),start_p=0,start_d=0,start_q=0,max_p=3,max_D=1,max_q=3,start_P=0,start_D=0,start_Q=0,max_P=5,max_Q=5,m=12,seasonal=True,error_action='warn',trace=True,supress_warnings=True,stepwise=False,random_state=20,n_fits=70,maxiter=70,information_criterion='aic')\n"
   ]
  },
  {
   "cell_type": "markdown",
   "metadata": {},
   "source": [
    "Forecast rainfall using the model"
   ]
  },
  {
   "cell_type": "code",
   "execution_count": 16,
   "metadata": {},
   "outputs": [
    {
     "data": {
      "text/html": [
       "<table class=\"simpletable\">\n",
       "<caption>SARIMAX Results</caption>\n",
       "<tr>\n",
       "  <th>Dep. Variable:</th>              <td>Rainfall</td>            <th>  No. Observations:  </th>    <td>144</td>  \n",
       "</tr>\n",
       "<tr>\n",
       "  <th>Model:</th>           <td>SARIMAX(0, 0, 1)x(1, 0, 1, 12)</td> <th>  Log Likelihood     </th> <td>-966.090</td>\n",
       "</tr>\n",
       "<tr>\n",
       "  <th>Date:</th>                   <td>Tue, 26 Apr 2022</td>        <th>  AIC                </th> <td>1940.179</td>\n",
       "</tr>\n",
       "<tr>\n",
       "  <th>Time:</th>                       <td>01:39:03</td>            <th>  BIC                </th> <td>1952.059</td>\n",
       "</tr>\n",
       "<tr>\n",
       "  <th>Sample:</th>                    <td>01-01-2010</td>           <th>  HQIC               </th> <td>1945.006</td>\n",
       "</tr>\n",
       "<tr>\n",
       "  <th></th>                          <td>- 12-01-2021</td>          <th>                     </th>     <td> </td>   \n",
       "</tr>\n",
       "<tr>\n",
       "  <th>Covariance Type:</th>               <td>opg</td>              <th>                     </th>     <td> </td>   \n",
       "</tr>\n",
       "</table>\n",
       "<table class=\"simpletable\">\n",
       "<tr>\n",
       "      <td></td>        <th>coef</th>     <th>std err</th>      <th>z</th>      <th>P>|z|</th>  <th>[0.025</th>    <th>0.975]</th>  \n",
       "</tr>\n",
       "<tr>\n",
       "  <th>ma.L1</th>    <td>    0.1208</td> <td>    0.079</td> <td>    1.526</td> <td> 0.127</td> <td>   -0.034</td> <td>    0.276</td>\n",
       "</tr>\n",
       "<tr>\n",
       "  <th>ar.S.L12</th> <td>    0.9998</td> <td>    0.001</td> <td> 1054.652</td> <td> 0.000</td> <td>    0.998</td> <td>    1.002</td>\n",
       "</tr>\n",
       "<tr>\n",
       "  <th>ma.S.L12</th> <td>   -0.9578</td> <td>    0.085</td> <td>  -11.265</td> <td> 0.000</td> <td>   -1.124</td> <td>   -0.791</td>\n",
       "</tr>\n",
       "<tr>\n",
       "  <th>sigma2</th>   <td> 2.961e+04</td> <td> 2.61e-06</td> <td> 1.13e+10</td> <td> 0.000</td> <td> 2.96e+04</td> <td> 2.96e+04</td>\n",
       "</tr>\n",
       "</table>\n",
       "<table class=\"simpletable\">\n",
       "<tr>\n",
       "  <th>Ljung-Box (L1) (Q):</th>     <td>0.00</td> <th>  Jarque-Bera (JB):  </th> <td>15.96</td>\n",
       "</tr>\n",
       "<tr>\n",
       "  <th>Prob(Q):</th>                <td>0.99</td> <th>  Prob(JB):          </th> <td>0.00</td> \n",
       "</tr>\n",
       "<tr>\n",
       "  <th>Heteroskedasticity (H):</th> <td>1.14</td> <th>  Skew:              </th> <td>0.19</td> \n",
       "</tr>\n",
       "<tr>\n",
       "  <th>Prob(H) (two-sided):</th>    <td>0.65</td> <th>  Kurtosis:          </th> <td>4.59</td> \n",
       "</tr>\n",
       "</table><br/><br/>Warnings:<br/>[1] Covariance matrix calculated using the outer product of gradients (complex-step).<br/>[2] Covariance matrix is singular or near-singular, with condition number 4.94e+24. Standard errors may be unstable."
      ],
      "text/plain": [
       "<class 'statsmodels.iolib.summary.Summary'>\n",
       "\"\"\"\n",
       "                                     SARIMAX Results                                      \n",
       "==========================================================================================\n",
       "Dep. Variable:                           Rainfall   No. Observations:                  144\n",
       "Model:             SARIMAX(0, 0, 1)x(1, 0, 1, 12)   Log Likelihood                -966.090\n",
       "Date:                            Tue, 26 Apr 2022   AIC                           1940.179\n",
       "Time:                                    01:39:03   BIC                           1952.059\n",
       "Sample:                                01-01-2010   HQIC                          1945.006\n",
       "                                     - 12-01-2021                                         \n",
       "Covariance Type:                              opg                                         \n",
       "==============================================================================\n",
       "                 coef    std err          z      P>|z|      [0.025      0.975]\n",
       "------------------------------------------------------------------------------\n",
       "ma.L1          0.1208      0.079      1.526      0.127      -0.034       0.276\n",
       "ar.S.L12       0.9998      0.001   1054.652      0.000       0.998       1.002\n",
       "ma.S.L12      -0.9578      0.085    -11.265      0.000      -1.124      -0.791\n",
       "sigma2      2.961e+04   2.61e-06   1.13e+10      0.000    2.96e+04    2.96e+04\n",
       "===================================================================================\n",
       "Ljung-Box (L1) (Q):                   0.00   Jarque-Bera (JB):                15.96\n",
       "Prob(Q):                              0.99   Prob(JB):                         0.00\n",
       "Heteroskedasticity (H):               1.14   Skew:                             0.19\n",
       "Prob(H) (two-sided):                  0.65   Kurtosis:                         4.59\n",
       "===================================================================================\n",
       "\n",
       "Warnings:\n",
       "[1] Covariance matrix calculated using the outer product of gradients (complex-step).\n",
       "[2] Covariance matrix is singular or near-singular, with condition number 4.94e+24. Standard errors may be unstable.\n",
       "\"\"\""
      ]
     },
     "execution_count": 16,
     "metadata": {},
     "output_type": "execute_result"
    }
   ],
   "source": [
    "model=sm.tsa.statespace.SARIMAX(rain['Rainfall'].astype('float'),order=(0, 0, 1),seasonal_order=(1,0,1,12))\n",
    "results=model.fit()\n",
    "results.summary()\n"
   ]
  },
  {
   "cell_type": "code",
   "execution_count": 17,
   "metadata": {},
   "outputs": [],
   "source": [
    "beg_dt='2017-01-01'\n",
    "end_dt='2025-12-01'"
   ]
  },
  {
   "cell_type": "code",
   "execution_count": null,
   "metadata": {},
   "outputs": [],
   "source": [
    "#results.predict(start=beg_dt,end=end_dt,dynamic=True)"
   ]
  },
  {
   "cell_type": "code",
   "execution_count": 18,
   "metadata": {
    "scrolled": true
   },
   "outputs": [
    {
     "name": "stderr",
     "output_type": "stream",
     "text": [
      "C:\\Users\\wasan\\anaconda3\\lib\\site-packages\\statsmodels\\tsa\\base\\tsa_model.py:132: FutureWarning: The 'freq' argument in Timestamp is deprecated and will be removed in a future version.\n",
      "  date_key = Timestamp(key, freq=base_index.freq)\n"
     ]
    },
    {
     "data": {
      "text/plain": [
       "<AxesSubplot:xlabel='Time'>"
      ]
     },
     "execution_count": 18,
     "metadata": {},
     "output_type": "execute_result"
    },
    {
     "data": {
      "image/png": "[encoded data removed]",
      "text/plain": [
       "<Figure size 864x576 with 1 Axes>"
      ]
     },
     "metadata": {
      "needs_background": "light"
     },
     "output_type": "display_data"
    }
   ],
   "source": [
    "rain['forecast']=results.predict(start=beg_dt,end=end_dt,dynamic=True)\n",
    "rain[['Rainfall','forecast']].plot(figsize=(12,8))\n",
    "\n",
    "\n"
   ]
  },
  {
   "cell_type": "code",
   "execution_count": 19,
   "metadata": {},
   "outputs": [
    {
     "data": {
      "text/html": [
       "<div>\n",
       "<style scoped>\n",
       "    .dataframe tbody tr th:only-of-type {\n",
       "        vertical-align: middle;\n",
       "    }\n",
       "\n",
       "    .dataframe tbody tr th {\n",
       "        vertical-align: top;\n",
       "    }\n",
       "\n",
       "    .dataframe thead th {\n",
       "        text-align: right;\n",
       "    }\n",
       "</style>\n",
       "<table border=\"1\" class=\"dataframe\">\n",
       "  <thead>\n",
       "    <tr style=\"text-align: right;\">\n",
       "      <th></th>\n",
       "      <th>Rainfall</th>\n",
       "      <th>forecast</th>\n",
       "    </tr>\n",
       "    <tr>\n",
       "      <th>Time</th>\n",
       "      <th></th>\n",
       "      <th></th>\n",
       "    </tr>\n",
       "  </thead>\n",
       "  <tbody>\n",
       "    <tr>\n",
       "      <th>2021-08-01</th>\n",
       "      <td>388.699998</td>\n",
       "      <td>338.674482</td>\n",
       "    </tr>\n",
       "    <tr>\n",
       "      <th>2021-09-01</th>\n",
       "      <td>489.500003</td>\n",
       "      <td>358.944057</td>\n",
       "    </tr>\n",
       "    <tr>\n",
       "      <th>2021-10-01</th>\n",
       "      <td>640.500001</td>\n",
       "      <td>426.141418</td>\n",
       "    </tr>\n",
       "    <tr>\n",
       "      <th>2021-11-01</th>\n",
       "      <td>629.499995</td>\n",
       "      <td>409.720078</td>\n",
       "    </tr>\n",
       "    <tr>\n",
       "      <th>2021-12-01</th>\n",
       "      <td>200.700001</td>\n",
       "      <td>193.928422</td>\n",
       "    </tr>\n",
       "  </tbody>\n",
       "</table>\n",
       "</div>"
      ],
      "text/plain": [
       "              Rainfall    forecast\n",
       "Time                              \n",
       "2021-08-01  388.699998  338.674482\n",
       "2021-09-01  489.500003  358.944057\n",
       "2021-10-01  640.500001  426.141418\n",
       "2021-11-01  629.499995  409.720078\n",
       "2021-12-01  200.700001  193.928422"
      ]
     },
     "execution_count": 19,
     "metadata": {},
     "output_type": "execute_result"
    }
   ],
   "source": [
    "rain.tail()\n"
   ]
  },
  {
   "cell_type": "code",
   "execution_count": null,
   "metadata": {},
   "outputs": [],
   "source": []
  },
  {
   "cell_type": "code",
   "execution_count": null,
   "metadata": {},
   "outputs": [],
   "source": []
  }
 ],
 "metadata": {
  "kernelspec": {
   "display_name": "Python 3 (ipykernel)",
   "language": "python",
   "name": "python3"
  },
  "language_info": {
   "codemirror_mode": {
    "name": "ipython",
    "version": 3
   },
   "file_extension": ".py",
   "mimetype": "text/x-python",
   "name": "python",
   "nbconvert_exporter": "python",
   "pygments_lexer": "ipython3",
   "version": "3.9.7"
  }
 },
 "nbformat": 4,
 "nbformat_minor": 4
}
