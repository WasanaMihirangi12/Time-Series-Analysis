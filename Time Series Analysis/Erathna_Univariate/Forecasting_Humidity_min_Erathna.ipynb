{
 "cells": [
  {
   "cell_type": "code",
   "execution_count": 28,
   "metadata": {},
   "outputs": [],
   "source": [
    "import numpy as np\n",
    "import pandas as pd\n",
    "import matplotlib.pyplot as plt\n",
    "%matplotlib inline\n",
    "from statsmodels.tsa.stattools import adfuller \n",
    "from statsmodels.graphics.tsaplots import plot_acf,plot_pacf\n",
    "import statsmodels.api as sm\n",
    "from sklearn.metrics import mean_absolute_error\n",
    "from statsmodels.tsa.arima_model import ARIMA\n",
    "from math import sqrt\n",
    "from pmdarima import auto_arima\n",
    "\n",
    "\n"
   ]
  },
  {
   "cell_type": "code",
   "execution_count": 29,
   "metadata": {},
   "outputs": [
    {
     "data": {
      "text/html": [
       "<div>\n",
       "<style scoped>\n",
       "    .dataframe tbody tr th:only-of-type {\n",
       "        vertical-align: middle;\n",
       "    }\n",
       "\n",
       "    .dataframe tbody tr th {\n",
       "        vertical-align: top;\n",
       "    }\n",
       "\n",
       "    .dataframe thead th {\n",
       "        text-align: right;\n",
       "    }\n",
       "</style>\n",
       "<table border=\"1\" class=\"dataframe\">\n",
       "  <thead>\n",
       "    <tr style=\"text-align: right;\">\n",
       "      <th></th>\n",
       "      <th>Year</th>\n",
       "      <th>Month</th>\n",
       "      <th>Rainfall</th>\n",
       "      <th>Temp_min</th>\n",
       "      <th>Temp_max</th>\n",
       "      <th>Hum_min</th>\n",
       "      <th>Hum_max</th>\n",
       "    </tr>\n",
       "  </thead>\n",
       "  <tbody>\n",
       "    <tr>\n",
       "      <th>0</th>\n",
       "      <td>2010</td>\n",
       "      <td>January</td>\n",
       "      <td>130.2</td>\n",
       "      <td>22.1</td>\n",
       "      <td>32.1</td>\n",
       "      <td>NaN</td>\n",
       "      <td>NaN</td>\n",
       "    </tr>\n",
       "    <tr>\n",
       "      <th>1</th>\n",
       "      <td>2010</td>\n",
       "      <td>February</td>\n",
       "      <td>41.3</td>\n",
       "      <td>22.6</td>\n",
       "      <td>33.9</td>\n",
       "      <td>NaN</td>\n",
       "      <td>NaN</td>\n",
       "    </tr>\n",
       "    <tr>\n",
       "      <th>2</th>\n",
       "      <td>2010</td>\n",
       "      <td>March</td>\n",
       "      <td>171.5</td>\n",
       "      <td>23.1</td>\n",
       "      <td>35.2</td>\n",
       "      <td>NaN</td>\n",
       "      <td>NaN</td>\n",
       "    </tr>\n",
       "    <tr>\n",
       "      <th>3</th>\n",
       "      <td>2010</td>\n",
       "      <td>April</td>\n",
       "      <td>421.7</td>\n",
       "      <td>23.7</td>\n",
       "      <td>33.5</td>\n",
       "      <td>NaN</td>\n",
       "      <td>NaN</td>\n",
       "    </tr>\n",
       "    <tr>\n",
       "      <th>4</th>\n",
       "      <td>2010</td>\n",
       "      <td>May</td>\n",
       "      <td>793.3</td>\n",
       "      <td>24.0</td>\n",
       "      <td>31.8</td>\n",
       "      <td>NaN</td>\n",
       "      <td>NaN</td>\n",
       "    </tr>\n",
       "  </tbody>\n",
       "</table>\n",
       "</div>"
      ],
      "text/plain": [
       "   Year     Month  Rainfall  Temp_min  Temp_max  Hum_min  Hum_max\n",
       "0  2010   January     130.2      22.1      32.1      NaN      NaN\n",
       "1  2010  February      41.3      22.6      33.9      NaN      NaN\n",
       "2  2010     March     171.5      23.1      35.2      NaN      NaN\n",
       "3  2010     April     421.7      23.7      33.5      NaN      NaN\n",
       "4  2010       May     793.3      24.0      31.8      NaN      NaN"
      ]
     },
     "execution_count": 29,
     "metadata": {},
     "output_type": "execute_result"
    }
   ],
   "source": [
    "df=pd.read_csv('Erathna_project.csv')\n",
    "df.head()\n",
    "\n"
   ]
  },
  {
   "cell_type": "code",
   "execution_count": 30,
   "metadata": {},
   "outputs": [],
   "source": [
    "df[\"Time\"]=df[\"Year\"].astype(str)+\"-\"+df[\"Month\"].astype(str)\n",
    "\n"
   ]
  },
  {
   "cell_type": "code",
   "execution_count": 31,
   "metadata": {},
   "outputs": [
    {
     "data": {
      "text/html": [
       "<div>\n",
       "<style scoped>\n",
       "    .dataframe tbody tr th:only-of-type {\n",
       "        vertical-align: middle;\n",
       "    }\n",
       "\n",
       "    .dataframe tbody tr th {\n",
       "        vertical-align: top;\n",
       "    }\n",
       "\n",
       "    .dataframe thead th {\n",
       "        text-align: right;\n",
       "    }\n",
       "</style>\n",
       "<table border=\"1\" class=\"dataframe\">\n",
       "  <thead>\n",
       "    <tr style=\"text-align: right;\">\n",
       "      <th></th>\n",
       "      <th>Year</th>\n",
       "      <th>Month</th>\n",
       "      <th>Rainfall</th>\n",
       "      <th>Temp_min</th>\n",
       "      <th>Temp_max</th>\n",
       "      <th>Hum_min</th>\n",
       "      <th>Hum_max</th>\n",
       "      <th>Time</th>\n",
       "    </tr>\n",
       "  </thead>\n",
       "  <tbody>\n",
       "    <tr>\n",
       "      <th>0</th>\n",
       "      <td>2010</td>\n",
       "      <td>January</td>\n",
       "      <td>130.2</td>\n",
       "      <td>22.1</td>\n",
       "      <td>32.1</td>\n",
       "      <td>NaN</td>\n",
       "      <td>NaN</td>\n",
       "      <td>2010-January</td>\n",
       "    </tr>\n",
       "    <tr>\n",
       "      <th>1</th>\n",
       "      <td>2010</td>\n",
       "      <td>February</td>\n",
       "      <td>41.3</td>\n",
       "      <td>22.6</td>\n",
       "      <td>33.9</td>\n",
       "      <td>NaN</td>\n",
       "      <td>NaN</td>\n",
       "      <td>2010-February</td>\n",
       "    </tr>\n",
       "    <tr>\n",
       "      <th>2</th>\n",
       "      <td>2010</td>\n",
       "      <td>March</td>\n",
       "      <td>171.5</td>\n",
       "      <td>23.1</td>\n",
       "      <td>35.2</td>\n",
       "      <td>NaN</td>\n",
       "      <td>NaN</td>\n",
       "      <td>2010-March</td>\n",
       "    </tr>\n",
       "    <tr>\n",
       "      <th>3</th>\n",
       "      <td>2010</td>\n",
       "      <td>April</td>\n",
       "      <td>421.7</td>\n",
       "      <td>23.7</td>\n",
       "      <td>33.5</td>\n",
       "      <td>NaN</td>\n",
       "      <td>NaN</td>\n",
       "      <td>2010-April</td>\n",
       "    </tr>\n",
       "    <tr>\n",
       "      <th>4</th>\n",
       "      <td>2010</td>\n",
       "      <td>May</td>\n",
       "      <td>793.3</td>\n",
       "      <td>24.0</td>\n",
       "      <td>31.8</td>\n",
       "      <td>NaN</td>\n",
       "      <td>NaN</td>\n",
       "      <td>2010-May</td>\n",
       "    </tr>\n",
       "  </tbody>\n",
       "</table>\n",
       "</div>"
      ],
      "text/plain": [
       "   Year     Month  Rainfall  Temp_min  Temp_max  Hum_min  Hum_max  \\\n",
       "0  2010   January     130.2      22.1      32.1      NaN      NaN   \n",
       "1  2010  February      41.3      22.6      33.9      NaN      NaN   \n",
       "2  2010     March     171.5      23.1      35.2      NaN      NaN   \n",
       "3  2010     April     421.7      23.7      33.5      NaN      NaN   \n",
       "4  2010       May     793.3      24.0      31.8      NaN      NaN   \n",
       "\n",
       "            Time  \n",
       "0   2010-January  \n",
       "1  2010-February  \n",
       "2     2010-March  \n",
       "3     2010-April  \n",
       "4       2010-May  "
      ]
     },
     "execution_count": 31,
     "metadata": {},
     "output_type": "execute_result"
    }
   ],
   "source": [
    "df.head()\n",
    "\n"
   ]
  },
  {
   "cell_type": "code",
   "execution_count": 32,
   "metadata": {},
   "outputs": [
    {
     "data": {
      "text/html": [
       "<div>\n",
       "<style scoped>\n",
       "    .dataframe tbody tr th:only-of-type {\n",
       "        vertical-align: middle;\n",
       "    }\n",
       "\n",
       "    .dataframe tbody tr th {\n",
       "        vertical-align: top;\n",
       "    }\n",
       "\n",
       "    .dataframe thead th {\n",
       "        text-align: right;\n",
       "    }\n",
       "</style>\n",
       "<table border=\"1\" class=\"dataframe\">\n",
       "  <thead>\n",
       "    <tr style=\"text-align: right;\">\n",
       "      <th></th>\n",
       "      <th>Time</th>\n",
       "      <th>Hum_min</th>\n",
       "    </tr>\n",
       "  </thead>\n",
       "  <tbody>\n",
       "    <tr>\n",
       "      <th>0</th>\n",
       "      <td>2010-January</td>\n",
       "      <td>NaN</td>\n",
       "    </tr>\n",
       "    <tr>\n",
       "      <th>1</th>\n",
       "      <td>2010-February</td>\n",
       "      <td>NaN</td>\n",
       "    </tr>\n",
       "    <tr>\n",
       "      <th>2</th>\n",
       "      <td>2010-March</td>\n",
       "      <td>NaN</td>\n",
       "    </tr>\n",
       "    <tr>\n",
       "      <th>3</th>\n",
       "      <td>2010-April</td>\n",
       "      <td>NaN</td>\n",
       "    </tr>\n",
       "    <tr>\n",
       "      <th>4</th>\n",
       "      <td>2010-May</td>\n",
       "      <td>NaN</td>\n",
       "    </tr>\n",
       "  </tbody>\n",
       "</table>\n",
       "</div>"
      ],
      "text/plain": [
       "            Time  Hum_min\n",
       "0   2010-January      NaN\n",
       "1  2010-February      NaN\n",
       "2     2010-March      NaN\n",
       "3     2010-April      NaN\n",
       "4       2010-May      NaN"
      ]
     },
     "execution_count": 32,
     "metadata": {},
     "output_type": "execute_result"
    }
   ],
   "source": [
    "hum_min=df[[\"Time\",\"Hum_min\"]]\n",
    "hum_min.head()\n",
    "\n"
   ]
  },
  {
   "cell_type": "code",
   "execution_count": 33,
   "metadata": {},
   "outputs": [
    {
     "name": "stderr",
     "output_type": "stream",
     "text": [
      "C:\\Users\\wasan\\AppData\\Local\\Temp/ipykernel_13440/3648415634.py:1: SettingWithCopyWarning: \n",
      "A value is trying to be set on a copy of a slice from a DataFrame.\n",
      "Try using .loc[row_indexer,col_indexer] = value instead\n",
      "\n",
      "See the caveats in the documentation: https://pandas.pydata.org/pandas-docs/stable/user_guide/indexing.html#returning-a-view-versus-a-copy\n",
      "  hum_min['Time']=pd.to_datetime(hum_min['Time'])\n"
     ]
    }
   ],
   "source": [
    "hum_min['Time']=pd.to_datetime(hum_min['Time'])\n"
   ]
  },
  {
   "cell_type": "code",
   "execution_count": 34,
   "metadata": {},
   "outputs": [
    {
     "data": {
      "text/html": [
       "<div>\n",
       "<style scoped>\n",
       "    .dataframe tbody tr th:only-of-type {\n",
       "        vertical-align: middle;\n",
       "    }\n",
       "\n",
       "    .dataframe tbody tr th {\n",
       "        vertical-align: top;\n",
       "    }\n",
       "\n",
       "    .dataframe thead th {\n",
       "        text-align: right;\n",
       "    }\n",
       "</style>\n",
       "<table border=\"1\" class=\"dataframe\">\n",
       "  <thead>\n",
       "    <tr style=\"text-align: right;\">\n",
       "      <th></th>\n",
       "      <th>Time</th>\n",
       "      <th>Hum_min</th>\n",
       "    </tr>\n",
       "  </thead>\n",
       "  <tbody>\n",
       "    <tr>\n",
       "      <th>0</th>\n",
       "      <td>2010-01-01</td>\n",
       "      <td>NaN</td>\n",
       "    </tr>\n",
       "    <tr>\n",
       "      <th>1</th>\n",
       "      <td>2010-02-01</td>\n",
       "      <td>NaN</td>\n",
       "    </tr>\n",
       "    <tr>\n",
       "      <th>2</th>\n",
       "      <td>2010-03-01</td>\n",
       "      <td>NaN</td>\n",
       "    </tr>\n",
       "    <tr>\n",
       "      <th>3</th>\n",
       "      <td>2010-04-01</td>\n",
       "      <td>NaN</td>\n",
       "    </tr>\n",
       "    <tr>\n",
       "      <th>4</th>\n",
       "      <td>2010-05-01</td>\n",
       "      <td>NaN</td>\n",
       "    </tr>\n",
       "  </tbody>\n",
       "</table>\n",
       "</div>"
      ],
      "text/plain": [
       "        Time  Hum_min\n",
       "0 2010-01-01      NaN\n",
       "1 2010-02-01      NaN\n",
       "2 2010-03-01      NaN\n",
       "3 2010-04-01      NaN\n",
       "4 2010-05-01      NaN"
      ]
     },
     "execution_count": 34,
     "metadata": {},
     "output_type": "execute_result"
    }
   ],
   "source": [
    "hum_min.head()\n",
    "\n"
   ]
  },
  {
   "cell_type": "code",
   "execution_count": 35,
   "metadata": {},
   "outputs": [
    {
     "data": {
      "text/plain": [
       "Time        0\n",
       "Hum_min    14\n",
       "dtype: int64"
      ]
     },
     "execution_count": 35,
     "metadata": {},
     "output_type": "execute_result"
    }
   ],
   "source": [
    "#Checking for missing values\n",
    "hum_min.isna().sum()\n",
    "\n",
    "\n",
    "\n"
   ]
  },
  {
   "cell_type": "code",
   "execution_count": 36,
   "metadata": {},
   "outputs": [],
   "source": [
    "#Setting the time index\n",
    "hum_min.set_index('Time',inplace=True)"
   ]
  },
  {
   "cell_type": "code",
   "execution_count": 37,
   "metadata": {},
   "outputs": [],
   "source": [
    "hum_min=hum_min.resample('MS').first()"
   ]
  },
  {
   "cell_type": "code",
   "execution_count": 38,
   "metadata": {},
   "outputs": [
    {
     "data": {
      "text/html": [
       "<div>\n",
       "<style scoped>\n",
       "    .dataframe tbody tr th:only-of-type {\n",
       "        vertical-align: middle;\n",
       "    }\n",
       "\n",
       "    .dataframe tbody tr th {\n",
       "        vertical-align: top;\n",
       "    }\n",
       "\n",
       "    .dataframe thead th {\n",
       "        text-align: right;\n",
       "    }\n",
       "</style>\n",
       "<table border=\"1\" class=\"dataframe\">\n",
       "  <thead>\n",
       "    <tr style=\"text-align: right;\">\n",
       "      <th></th>\n",
       "      <th>Hum_min</th>\n",
       "    </tr>\n",
       "    <tr>\n",
       "      <th>Time</th>\n",
       "      <th></th>\n",
       "    </tr>\n",
       "  </thead>\n",
       "  <tbody>\n",
       "    <tr>\n",
       "      <th>2010-01-01</th>\n",
       "      <td>79.3</td>\n",
       "    </tr>\n",
       "    <tr>\n",
       "      <th>2010-02-01</th>\n",
       "      <td>79.3</td>\n",
       "    </tr>\n",
       "    <tr>\n",
       "      <th>2010-03-01</th>\n",
       "      <td>79.3</td>\n",
       "    </tr>\n",
       "    <tr>\n",
       "      <th>2010-04-01</th>\n",
       "      <td>79.3</td>\n",
       "    </tr>\n",
       "    <tr>\n",
       "      <th>2010-05-01</th>\n",
       "      <td>79.3</td>\n",
       "    </tr>\n",
       "  </tbody>\n",
       "</table>\n",
       "</div>"
      ],
      "text/plain": [
       "            Hum_min\n",
       "Time               \n",
       "2010-01-01     79.3\n",
       "2010-02-01     79.3\n",
       "2010-03-01     79.3\n",
       "2010-04-01     79.3\n",
       "2010-05-01     79.3"
      ]
     },
     "execution_count": 38,
     "metadata": {},
     "output_type": "execute_result"
    }
   ],
   "source": [
    "#filling missing values\n",
    "hum=hum_min.fillna(method=\"bfill\")\n",
    "hum.head()\n",
    "\n"
   ]
  },
  {
   "cell_type": "code",
   "execution_count": 39,
   "metadata": {},
   "outputs": [
    {
     "data": {
      "text/html": [
       "<div>\n",
       "<style scoped>\n",
       "    .dataframe tbody tr th:only-of-type {\n",
       "        vertical-align: middle;\n",
       "    }\n",
       "\n",
       "    .dataframe tbody tr th {\n",
       "        vertical-align: top;\n",
       "    }\n",
       "\n",
       "    .dataframe thead th {\n",
       "        text-align: right;\n",
       "    }\n",
       "</style>\n",
       "<table border=\"1\" class=\"dataframe\">\n",
       "  <thead>\n",
       "    <tr style=\"text-align: right;\">\n",
       "      <th></th>\n",
       "      <th>Humidity</th>\n",
       "    </tr>\n",
       "    <tr>\n",
       "      <th>Time</th>\n",
       "      <th></th>\n",
       "    </tr>\n",
       "  </thead>\n",
       "  <tbody>\n",
       "    <tr>\n",
       "      <th>2010-01-01</th>\n",
       "      <td>79.3</td>\n",
       "    </tr>\n",
       "    <tr>\n",
       "      <th>2010-02-01</th>\n",
       "      <td>79.3</td>\n",
       "    </tr>\n",
       "    <tr>\n",
       "      <th>2010-03-01</th>\n",
       "      <td>79.3</td>\n",
       "    </tr>\n",
       "    <tr>\n",
       "      <th>2010-04-01</th>\n",
       "      <td>79.3</td>\n",
       "    </tr>\n",
       "    <tr>\n",
       "      <th>2010-05-01</th>\n",
       "      <td>79.3</td>\n",
       "    </tr>\n",
       "  </tbody>\n",
       "</table>\n",
       "</div>"
      ],
      "text/plain": [
       "            Humidity\n",
       "Time                \n",
       "2010-01-01      79.3\n",
       "2010-02-01      79.3\n",
       "2010-03-01      79.3\n",
       "2010-04-01      79.3\n",
       "2010-05-01      79.3"
      ]
     },
     "execution_count": 39,
     "metadata": {},
     "output_type": "execute_result"
    }
   ],
   "source": [
    "hum = hum.rename(columns = {'Hum_min': 'Humidity'})\n",
    "hum.head()\n",
    "\n"
   ]
  },
  {
   "cell_type": "code",
   "execution_count": 40,
   "metadata": {},
   "outputs": [
    {
     "data": {
      "text/plain": [
       "Index(['Humidity'], dtype='object')"
      ]
     },
     "execution_count": 40,
     "metadata": {},
     "output_type": "execute_result"
    }
   ],
   "source": [
    "hum.columns\n",
    "\n"
   ]
  },
  {
   "cell_type": "code",
   "execution_count": 41,
   "metadata": {},
   "outputs": [
    {
     "data": {
      "text/plain": [
       "<AxesSubplot:xlabel='Time'>"
      ]
     },
     "execution_count": 41,
     "metadata": {},
     "output_type": "execute_result"
    },
    {
     "data": {
      "image/png": "[encoded data removed]",
      "text/plain": [
       "<Figure size 864x576 with 1 Axes>"
      ]
     },
     "metadata": {
      "needs_background": "light"
     },
     "output_type": "display_data"
    }
   ],
   "source": [
    "hum.plot(figsize=(12,8))\n",
    "\n"
   ]
  },
  {
   "cell_type": "markdown",
   "metadata": {},
   "source": [
    "No trend. But some evidence for seasonality"
   ]
  },
  {
   "cell_type": "markdown",
   "metadata": {},
   "source": [
    "# Testing For Stationarity"
   ]
  },
  {
   "cell_type": "code",
   "execution_count": 42,
   "metadata": {},
   "outputs": [
    {
     "name": "stdout",
     "output_type": "stream",
     "text": [
      "ADF Test Statistic : -3.5747927583210197\n",
      "p-value : 0.006261630398394748\n",
      "#Lags Used : 13\n",
      "Number of Observations Used : 130\n",
      "strong evidence against the null hypothesis(Ho), reject the null hypothesis. Data has no unit root and is stationary\n"
     ]
    }
   ],
   "source": [
    "### ADF Test\n",
    "test_result=adfuller(hum['Humidity'])\n",
    "#Ho: The series is non stationary\n",
    "#H1: The series is stationary\n",
    "\n",
    "def adfuller_test(x):\n",
    "    result=adfuller(x)\n",
    "    labels = ['ADF Test Statistic','p-value','#Lags Used','Number of Observations Used']\n",
    "    for value,label in zip(result,labels):\n",
    "        print(label+' : '+str(value) )\n",
    "    if result[1] <= 0.05:\n",
    "        print(\"strong evidence against the null hypothesis(Ho), reject the null hypothesis. Data has no unit root and is stationary\")\n",
    "    else:\n",
    "        print(\"weak evidence against null hypothesis, time series has a unit root, indicating it is non-stationary \")\n",
    "    \n",
    "adfuller_test(hum['Humidity'])\n",
    "\n"
   ]
  },
  {
   "cell_type": "code",
   "execution_count": 43,
   "metadata": {},
   "outputs": [
    {
     "name": "stdout",
     "output_type": "stream",
     "text": [
      "KPSS Statistic: 0.07179716170946852\n",
      "p-value: 0.1\n",
      "num lags: 14\n",
      "Critial Values:\n",
      "   10% : 0.347\n",
      "   5% : 0.463\n",
      "   2.5% : 0.574\n",
      "   1% : 0.739\n",
      "Result: The series is stationary\n"
     ]
    },
    {
     "name": "stderr",
     "output_type": "stream",
     "text": [
      "C:\\Users\\wasan\\anaconda3\\lib\\site-packages\\statsmodels\\tsa\\stattools.py:1875: FutureWarning: The behavior of using nlags=None will change in release 0.13.Currently nlags=None is the same as nlags=\"legacy\", and so a sample-size lag length is used. After the next release, the default will change to be the same as nlags=\"auto\" which uses an automatic lag length selection method. To silence this warning, either use \"auto\" or \"legacy\"\n",
      "  warnings.warn(msg, FutureWarning)\n",
      "C:\\Users\\wasan\\anaconda3\\lib\\site-packages\\statsmodels\\tsa\\stattools.py:1910: InterpolationWarning: The test statistic is outside of the range of p-values available in the\n",
      "look-up table. The actual p-value is greater than the p-value returned.\n",
      "\n",
      "  warnings.warn(\n"
     ]
    }
   ],
   "source": [
    "# KPSS test\n",
    "from statsmodels.tsa.stattools import kpss\n",
    "def kpss_test(series, **kw):    \n",
    "    statistic, p_value, n_lags, critical_values = kpss(series, **kw)\n",
    "    # Format Output\n",
    "    print(f'KPSS Statistic: {statistic}')\n",
    "    print(f'p-value: {p_value}')\n",
    "    print(f'num lags: {n_lags}')\n",
    "    print('Critial Values:')\n",
    "    for key, value in critical_values.items():\n",
    "        print(f'   {key} : {value}')\n",
    "    print(f'Result: The series is {\"not \" if p_value < 0.05 else \"\"}stationary')\n",
    "\n",
    "kpss_test(hum['Humidity'])\n"
   ]
  },
  {
   "cell_type": "code",
   "execution_count": 44,
   "metadata": {},
   "outputs": [
    {
     "name": "stdout",
     "output_type": "stream",
     "text": [
      "     Phillips-Perron Test (Z-tau)    \n",
      "=====================================\n",
      "Test Statistic                 -5.948\n",
      "P-value                         0.000\n",
      "Lags                               14\n",
      "-------------------------------------\n",
      "\n",
      "Trend: Constant\n",
      "Critical Values: -3.48 (1%), -2.88 (5%), -2.58 (10%)\n",
      "Null Hypothesis: The process contains a unit root.\n",
      "Alternative Hypothesis: The process is weakly stationary.\n"
     ]
    }
   ],
   "source": [
    "#PhillipsPerron Test\n",
    "from arch.unitroot import PhillipsPerron\n",
    "\n",
    "pp = PhillipsPerron(hum['Humidity'].astype(float))\n",
    "print(pp.summary().as_text())\n"
   ]
  },
  {
   "cell_type": "markdown",
   "metadata": {},
   "source": [
    "# ACF and PACF plots"
   ]
  },
  {
   "cell_type": "code",
   "execution_count": 45,
   "metadata": {},
   "outputs": [
    {
     "data": {
      "image/png": "[encoded data removed]",
      "text/plain": [
       "<Figure size 864x576 with 2 Axes>"
      ]
     },
     "metadata": {
      "needs_background": "light"
     },
     "output_type": "display_data"
    }
   ],
   "source": [
    "fig = plt.figure(figsize=(12,8))\n",
    "ax1 = fig.add_subplot(211)\n",
    "fig = sm.graphics.tsa.plot_acf(hum['Humidity'],lags=40,ax=ax1)\n",
    "ax2 = fig.add_subplot(212)\n",
    "fig = sm.graphics.tsa.plot_pacf(hum['Humidity'],lags=40,ax=ax2)\n"
   ]
  },
  {
   "cell_type": "markdown",
   "metadata": {},
   "source": [
    "According to the PACF and ACF plots it's better to start with p=3, d=0, q=5"
   ]
  },
  {
   "cell_type": "code",
   "execution_count": 50,
   "metadata": {},
   "outputs": [
    {
     "name": "stdout",
     "output_type": "stream",
     "text": [
      " ARIMA(0,0,0)(0,0,0)[12] intercept   : AIC=856.908, Time=0.02 sec\n",
      " ARIMA(0,0,0)(0,0,1)[12] intercept   : AIC=837.254, Time=0.10 sec\n",
      " ARIMA(0,0,0)(0,0,2)[12] intercept   : AIC=821.467, Time=0.22 sec\n",
      " ARIMA(0,0,0)(0,0,3)[12] intercept   : AIC=818.162, Time=0.53 sec\n",
      " ARIMA(0,0,0)(0,0,4)[12] intercept   : AIC=815.688, Time=1.15 sec\n",
      " ARIMA(0,0,0)(0,0,5)[12] intercept   : AIC=inf, Time=7.29 sec\n",
      " ARIMA(0,0,0)(1,0,0)[12] intercept   : AIC=821.686, Time=0.46 sec\n",
      " ARIMA(0,0,0)(1,0,1)[12] intercept   : AIC=798.188, Time=0.62 sec\n",
      " ARIMA(0,0,0)(1,0,2)[12] intercept   : AIC=822.427, Time=1.41 sec\n",
      " ARIMA(0,0,0)(1,0,3)[12] intercept   : AIC=812.700, Time=3.11 sec\n",
      " ARIMA(0,0,0)(1,0,4)[12] intercept   : AIC=inf, Time=5.71 sec\n",
      " ARIMA(0,0,0)(2,0,0)[12] intercept   : AIC=809.670, Time=1.21 sec\n",
      " ARIMA(0,0,0)(2,0,1)[12] intercept   : AIC=799.715, Time=1.17 sec\n",
      " ARIMA(0,0,0)(2,0,2)[12] intercept   : AIC=825.819, Time=1.65 sec\n",
      " ARIMA(0,0,0)(2,0,3)[12] intercept   : AIC=inf, Time=3.24 sec\n",
      " ARIMA(0,0,0)(3,0,0)[12] intercept   : AIC=799.407, Time=2.44 sec\n",
      " ARIMA(0,0,0)(3,0,1)[12] intercept   : AIC=inf, Time=2.49 sec\n",
      " ARIMA(0,0,0)(3,0,2)[12] intercept   : AIC=inf, Time=2.97 sec\n",
      " ARIMA(0,0,1)(0,0,0)[12] intercept   : AIC=826.618, Time=0.06 sec\n",
      " ARIMA(0,0,1)(0,0,1)[12] intercept   : AIC=815.310, Time=0.13 sec\n",
      " ARIMA(0,0,1)(0,0,2)[12] intercept   : AIC=809.532, Time=0.32 sec\n",
      " ARIMA(0,0,1)(0,0,3)[12] intercept   : AIC=807.002, Time=0.73 sec\n",
      " ARIMA(0,0,1)(0,0,4)[12] intercept   : AIC=804.331, Time=1.33 sec\n",
      " ARIMA(0,0,1)(1,0,0)[12] intercept   : AIC=808.047, Time=0.49 sec\n",
      " ARIMA(0,0,1)(1,0,1)[12] intercept   : AIC=793.365, Time=0.82 sec\n",
      " ARIMA(0,0,1)(1,0,2)[12] intercept   : AIC=inf, Time=1.34 sec\n",
      " ARIMA(0,0,1)(1,0,3)[12] intercept   : AIC=794.903, Time=3.73 sec\n",
      " ARIMA(0,0,1)(2,0,0)[12] intercept   : AIC=799.659, Time=1.30 sec\n",
      " ARIMA(0,0,1)(2,0,1)[12] intercept   : AIC=795.621, Time=1.35 sec\n",
      " ARIMA(0,0,1)(2,0,2)[12] intercept   : AIC=817.228, Time=2.10 sec\n",
      " ARIMA(0,0,1)(3,0,0)[12] intercept   : AIC=792.824, Time=2.69 sec\n",
      " ARIMA(0,0,1)(3,0,1)[12] intercept   : AIC=inf, Time=2.77 sec\n",
      " ARIMA(0,0,2)(0,0,0)[12] intercept   : AIC=806.693, Time=0.08 sec\n",
      " ARIMA(0,0,2)(0,0,1)[12] intercept   : AIC=801.934, Time=0.17 sec\n",
      " ARIMA(0,0,2)(0,0,2)[12] intercept   : AIC=797.387, Time=0.39 sec\n",
      " ARIMA(0,0,2)(0,0,3)[12] intercept   : AIC=796.000, Time=0.91 sec\n",
      " ARIMA(0,0,2)(1,0,0)[12] intercept   : AIC=798.019, Time=0.61 sec\n",
      " ARIMA(0,0,2)(1,0,1)[12] intercept   : AIC=786.999, Time=0.85 sec\n",
      " ARIMA(0,0,2)(1,0,2)[12] intercept   : AIC=799.304, Time=2.03 sec\n",
      " ARIMA(0,0,2)(2,0,0)[12] intercept   : AIC=789.147, Time=1.54 sec\n",
      " ARIMA(0,0,2)(2,0,1)[12] intercept   : AIC=783.396, Time=1.47 sec\n",
      " ARIMA(0,0,2)(3,0,0)[12] intercept   : AIC=785.255, Time=2.44 sec\n",
      " ARIMA(0,0,3)(0,0,0)[12] intercept   : AIC=805.627, Time=0.09 sec\n",
      " ARIMA(0,0,3)(0,0,1)[12] intercept   : AIC=800.566, Time=0.23 sec\n",
      " ARIMA(0,0,3)(0,0,2)[12] intercept   : AIC=794.951, Time=0.44 sec\n",
      " ARIMA(0,0,3)(1,0,0)[12] intercept   : AIC=858.184, Time=1.10 sec\n",
      " ARIMA(0,0,3)(1,0,1)[12] intercept   : AIC=794.038, Time=0.95 sec\n",
      " ARIMA(0,0,3)(2,0,0)[12] intercept   : AIC=806.280, Time=1.56 sec\n",
      " ARIMA(0,0,4)(0,0,0)[12] intercept   : AIC=807.450, Time=0.16 sec\n",
      " ARIMA(0,0,4)(0,0,1)[12] intercept   : AIC=801.814, Time=0.38 sec\n",
      " ARIMA(0,0,4)(1,0,0)[12] intercept   : AIC=807.901, Time=0.98 sec\n",
      " ARIMA(0,0,5)(0,0,0)[12] intercept   : AIC=794.922, Time=0.17 sec\n",
      " ARIMA(1,0,0)(0,0,0)[12] intercept   : AIC=818.274, Time=0.10 sec\n",
      " ARIMA(1,0,0)(0,0,1)[12] intercept   : AIC=807.804, Time=0.32 sec\n",
      " ARIMA(1,0,0)(0,0,2)[12] intercept   : AIC=803.055, Time=0.60 sec\n",
      " ARIMA(1,0,0)(0,0,3)[12] intercept   : AIC=800.851, Time=1.63 sec\n",
      " ARIMA(1,0,0)(0,0,4)[12] intercept   : AIC=798.747, Time=4.10 sec\n",
      " ARIMA(1,0,0)(1,0,0)[12] intercept   : AIC=801.645, Time=0.90 sec\n",
      " ARIMA(1,0,0)(1,0,1)[12] intercept   : AIC=806.210, Time=0.68 sec\n",
      " ARIMA(1,0,0)(1,0,2)[12] intercept   : AIC=inf, Time=1.52 sec\n",
      " ARIMA(1,0,0)(1,0,3)[12] intercept   : AIC=788.551, Time=3.87 sec\n",
      " ARIMA(1,0,0)(2,0,0)[12] intercept   : AIC=793.266, Time=1.31 sec\n",
      " ARIMA(1,0,0)(2,0,1)[12] intercept   : AIC=787.454, Time=1.51 sec\n",
      " ARIMA(1,0,0)(2,0,2)[12] intercept   : AIC=812.115, Time=1.77 sec\n",
      " ARIMA(1,0,0)(3,0,0)[12] intercept   : AIC=788.549, Time=3.28 sec\n",
      " ARIMA(1,0,0)(3,0,1)[12] intercept   : AIC=792.900, Time=3.99 sec\n",
      " ARIMA(1,0,1)(0,0,0)[12] intercept   : AIC=819.036, Time=0.23 sec\n",
      " ARIMA(1,0,1)(0,0,1)[12] intercept   : AIC=809.695, Time=0.47 sec\n",
      " ARIMA(1,0,1)(0,0,2)[12] intercept   : AIC=804.836, Time=0.94 sec\n",
      " ARIMA(1,0,1)(0,0,3)[12] intercept   : AIC=802.538, Time=3.30 sec\n",
      " ARIMA(1,0,1)(1,0,0)[12] intercept   : AIC=inf, Time=0.71 sec\n",
      " ARIMA(1,0,1)(1,0,1)[12] intercept   : AIC=809.794, Time=0.85 sec\n",
      " ARIMA(1,0,1)(1,0,2)[12] intercept   : AIC=inf, Time=1.91 sec\n",
      " ARIMA(1,0,1)(2,0,0)[12] intercept   : AIC=inf, Time=1.68 sec\n",
      " ARIMA(1,0,1)(2,0,1)[12] intercept   : AIC=802.494, Time=1.79 sec\n",
      " ARIMA(1,0,1)(3,0,0)[12] intercept   : AIC=792.087, Time=3.95 sec\n",
      " ARIMA(1,0,2)(0,0,0)[12] intercept   : AIC=802.902, Time=0.42 sec\n",
      " ARIMA(1,0,2)(0,0,1)[12] intercept   : AIC=795.757, Time=0.71 sec\n",
      " ARIMA(1,0,2)(0,0,2)[12] intercept   : AIC=787.157, Time=1.43 sec\n",
      " ARIMA(1,0,2)(1,0,0)[12] intercept   : AIC=793.687, Time=1.09 sec\n",
      " ARIMA(1,0,2)(1,0,1)[12] intercept   : AIC=785.356, Time=0.96 sec\n",
      " ARIMA(1,0,2)(2,0,0)[12] intercept   : AIC=777.850, Time=2.05 sec\n",
      " ARIMA(1,0,3)(0,0,0)[12] intercept   : AIC=802.154, Time=0.43 sec\n",
      " ARIMA(1,0,3)(0,0,1)[12] intercept   : AIC=796.951, Time=0.70 sec\n",
      " ARIMA(1,0,3)(1,0,0)[12] intercept   : AIC=inf, Time=0.90 sec\n",
      " ARIMA(1,0,4)(0,0,0)[12] intercept   : AIC=803.922, Time=0.44 sec\n",
      " ARIMA(2,0,0)(0,0,0)[12] intercept   : AIC=817.286, Time=0.09 sec\n",
      " ARIMA(2,0,0)(0,0,1)[12] intercept   : AIC=809.545, Time=0.21 sec\n",
      " ARIMA(2,0,0)(0,0,2)[12] intercept   : AIC=804.429, Time=0.49 sec\n",
      " ARIMA(2,0,0)(0,0,3)[12] intercept   : AIC=801.952, Time=1.65 sec\n",
      " ARIMA(2,0,0)(1,0,0)[12] intercept   : AIC=808.381, Time=0.99 sec\n",
      " ARIMA(2,0,0)(1,0,1)[12] intercept   : AIC=802.584, Time=0.88 sec\n",
      " ARIMA(2,0,0)(1,0,2)[12] intercept   : AIC=inf, Time=1.81 sec\n",
      " ARIMA(2,0,0)(2,0,0)[12] intercept   : AIC=808.793, Time=1.76 sec\n",
      " ARIMA(2,0,0)(2,0,1)[12] intercept   : AIC=802.858, Time=1.66 sec\n",
      " ARIMA(2,0,0)(3,0,0)[12] intercept   : AIC=787.350, Time=3.73 sec\n",
      " ARIMA(2,0,1)(0,0,0)[12] intercept   : AIC=818.044, Time=0.40 sec\n",
      " ARIMA(2,0,1)(0,0,1)[12] intercept   : AIC=806.544, Time=0.74 sec\n",
      " ARIMA(2,0,1)(0,0,2)[12] intercept   : AIC=795.294, Time=1.55 sec\n",
      " ARIMA(2,0,1)(1,0,0)[12] intercept   : AIC=805.541, Time=0.87 sec\n",
      " ARIMA(2,0,1)(1,0,1)[12] intercept   : AIC=802.496, Time=0.92 sec\n",
      " ARIMA(2,0,1)(2,0,0)[12] intercept   : AIC=798.807, Time=2.09 sec\n",
      " ARIMA(2,0,2)(0,0,0)[12] intercept   : AIC=802.424, Time=0.54 sec\n",
      " ARIMA(2,0,2)(0,0,1)[12] intercept   : AIC=796.839, Time=1.06 sec\n",
      " ARIMA(2,0,2)(1,0,0)[12] intercept   : AIC=798.991, Time=1.24 sec\n",
      " ARIMA(2,0,3)(0,0,0)[12] intercept   : AIC=804.431, Time=0.40 sec\n",
      " ARIMA(3,0,0)(0,0,0)[12] intercept   : AIC=802.889, Time=0.10 sec\n",
      " ARIMA(3,0,0)(0,0,1)[12] intercept   : AIC=799.510, Time=0.37 sec\n",
      " ARIMA(3,0,0)(0,0,2)[12] intercept   : AIC=794.728, Time=1.16 sec\n",
      " ARIMA(3,0,0)(1,0,0)[12] intercept   : AIC=800.247, Time=1.21 sec\n",
      " ARIMA(3,0,0)(1,0,1)[12] intercept   : AIC=801.384, Time=1.03 sec\n",
      " ARIMA(3,0,0)(2,0,0)[12] intercept   : AIC=800.252, Time=2.11 sec\n",
      " ARIMA(3,0,1)(0,0,0)[12] intercept   : AIC=799.072, Time=0.55 sec\n",
      " ARIMA(3,0,1)(0,0,1)[12] intercept   : AIC=796.999, Time=0.86 sec\n",
      " ARIMA(3,0,1)(1,0,0)[12] intercept   : AIC=807.206, Time=1.03 sec\n",
      " ARIMA(3,0,2)(0,0,0)[12] intercept   : AIC=800.347, Time=0.45 sec\n",
      "\n",
      "Best model:  ARIMA(1,0,2)(2,0,0)[12] intercept\n",
      "Total fit time: 154.147 seconds\n"
     ]
    }
   ],
   "source": [
    "arima_model=auto_arima(hum['Humidity'].astype(float),start_p=0,start_d=0,start_q=0,max_p=3,max_D=1,max_q=5,start_P=0,start_D=0,start_Q=0,max_P=3,max_Q=5,m=12,seasonal=True,error_action='warn',trace=True,supress_warnings=True,stepwise=False,random_state=20,n_fits=80,maxiter=70)\n"
   ]
  },
  {
   "cell_type": "markdown",
   "metadata": {},
   "source": [
    "# Forecast Humidity using the model"
   ]
  },
  {
   "cell_type": "code",
   "execution_count": 51,
   "metadata": {},
   "outputs": [
    {
     "name": "stderr",
     "output_type": "stream",
     "text": [
      "C:\\Users\\wasan\\anaconda3\\lib\\site-packages\\statsmodels\\base\\model.py:566: ConvergenceWarning: Maximum Likelihood optimization failed to converge. Check mle_retvals\n",
      "  warnings.warn(\"Maximum Likelihood optimization failed to \"\n"
     ]
    },
    {
     "data": {
      "text/html": [
       "<table class=\"simpletable\">\n",
       "<caption>SARIMAX Results</caption>\n",
       "<tr>\n",
       "  <th>Dep. Variable:</th>              <td>Humidity</td>             <th>  No. Observations:  </th>    <td>144</td>  \n",
       "</tr>\n",
       "<tr>\n",
       "  <th>Model:</th>           <td>SARIMAX(1, 0, 2)x(2, 0, [], 12)</td> <th>  Log Likelihood     </th> <td>-400.087</td>\n",
       "</tr>\n",
       "<tr>\n",
       "  <th>Date:</th>                   <td>Tue, 26 Apr 2022</td>         <th>  AIC                </th>  <td>812.173</td>\n",
       "</tr>\n",
       "<tr>\n",
       "  <th>Time:</th>                       <td>01:36:15</td>             <th>  BIC                </th>  <td>829.992</td>\n",
       "</tr>\n",
       "<tr>\n",
       "  <th>Sample:</th>                    <td>01-01-2010</td>            <th>  HQIC               </th>  <td>819.414</td>\n",
       "</tr>\n",
       "<tr>\n",
       "  <th></th>                          <td>- 12-01-2021</td>           <th>                     </th>     <td> </td>   \n",
       "</tr>\n",
       "<tr>\n",
       "  <th>Covariance Type:</th>               <td>opg</td>               <th>                     </th>     <td> </td>   \n",
       "</tr>\n",
       "</table>\n",
       "<table class=\"simpletable\">\n",
       "<tr>\n",
       "      <td></td>        <th>coef</th>     <th>std err</th>      <th>z</th>      <th>P>|z|</th>  <th>[0.025</th>    <th>0.975]</th>  \n",
       "</tr>\n",
       "<tr>\n",
       "  <th>ar.L1</th>    <td>    1.0000</td> <td> 8.43e-05</td> <td> 1.19e+04</td> <td> 0.000</td> <td>    1.000</td> <td>    1.000</td>\n",
       "</tr>\n",
       "<tr>\n",
       "  <th>ma.L1</th>    <td>   -0.7515</td> <td>    0.085</td> <td>   -8.871</td> <td> 0.000</td> <td>   -0.918</td> <td>   -0.585</td>\n",
       "</tr>\n",
       "<tr>\n",
       "  <th>ma.L2</th>    <td>   -0.2025</td> <td>    0.089</td> <td>   -2.272</td> <td> 0.023</td> <td>   -0.377</td> <td>   -0.028</td>\n",
       "</tr>\n",
       "<tr>\n",
       "  <th>ar.S.L12</th> <td>    0.2962</td> <td>    0.082</td> <td>    3.596</td> <td> 0.000</td> <td>    0.135</td> <td>    0.458</td>\n",
       "</tr>\n",
       "<tr>\n",
       "  <th>ar.S.L24</th> <td>    0.3284</td> <td>    0.102</td> <td>    3.224</td> <td> 0.001</td> <td>    0.129</td> <td>    0.528</td>\n",
       "</tr>\n",
       "<tr>\n",
       "  <th>sigma2</th>   <td>   14.2837</td> <td>    1.604</td> <td>    8.902</td> <td> 0.000</td> <td>   11.139</td> <td>   17.428</td>\n",
       "</tr>\n",
       "</table>\n",
       "<table class=\"simpletable\">\n",
       "<tr>\n",
       "  <th>Ljung-Box (L1) (Q):</th>     <td>0.08</td> <th>  Jarque-Bera (JB):  </th> <td>5.26</td> \n",
       "</tr>\n",
       "<tr>\n",
       "  <th>Prob(Q):</th>                <td>0.78</td> <th>  Prob(JB):          </th> <td>0.07</td> \n",
       "</tr>\n",
       "<tr>\n",
       "  <th>Heteroskedasticity (H):</th> <td>1.47</td> <th>  Skew:              </th> <td>-0.42</td>\n",
       "</tr>\n",
       "<tr>\n",
       "  <th>Prob(H) (two-sided):</th>    <td>0.19</td> <th>  Kurtosis:          </th> <td>3.40</td> \n",
       "</tr>\n",
       "</table><br/><br/>Warnings:<br/>[1] Covariance matrix calculated using the outer product of gradients (complex-step)."
      ],
      "text/plain": [
       "<class 'statsmodels.iolib.summary.Summary'>\n",
       "\"\"\"\n",
       "                                      SARIMAX Results                                      \n",
       "===========================================================================================\n",
       "Dep. Variable:                            Humidity   No. Observations:                  144\n",
       "Model:             SARIMAX(1, 0, 2)x(2, 0, [], 12)   Log Likelihood                -400.087\n",
       "Date:                             Tue, 26 Apr 2022   AIC                            812.173\n",
       "Time:                                     01:36:15   BIC                            829.992\n",
       "Sample:                                 01-01-2010   HQIC                           819.414\n",
       "                                      - 12-01-2021                                         \n",
       "Covariance Type:                               opg                                         \n",
       "==============================================================================\n",
       "                 coef    std err          z      P>|z|      [0.025      0.975]\n",
       "------------------------------------------------------------------------------\n",
       "ar.L1          1.0000   8.43e-05   1.19e+04      0.000       1.000       1.000\n",
       "ma.L1         -0.7515      0.085     -8.871      0.000      -0.918      -0.585\n",
       "ma.L2         -0.2025      0.089     -2.272      0.023      -0.377      -0.028\n",
       "ar.S.L12       0.2962      0.082      3.596      0.000       0.135       0.458\n",
       "ar.S.L24       0.3284      0.102      3.224      0.001       0.129       0.528\n",
       "sigma2        14.2837      1.604      8.902      0.000      11.139      17.428\n",
       "===================================================================================\n",
       "Ljung-Box (L1) (Q):                   0.08   Jarque-Bera (JB):                 5.26\n",
       "Prob(Q):                              0.78   Prob(JB):                         0.07\n",
       "Heteroskedasticity (H):               1.47   Skew:                            -0.42\n",
       "Prob(H) (two-sided):                  0.19   Kurtosis:                         3.40\n",
       "===================================================================================\n",
       "\n",
       "Warnings:\n",
       "[1] Covariance matrix calculated using the outer product of gradients (complex-step).\n",
       "\"\"\""
      ]
     },
     "execution_count": 51,
     "metadata": {},
     "output_type": "execute_result"
    }
   ],
   "source": [
    "model=sm.tsa.statespace.SARIMAX(hum[\"Humidity\"].astype('float'),order=(1, 0, 2),seasonal_order=(2,0,0,12))\n",
    "results=model.fit()\n",
    "results.summary()\n"
   ]
  },
  {
   "cell_type": "code",
   "execution_count": 62,
   "metadata": {},
   "outputs": [],
   "source": [
    "beg_dt='2019-01-01'\n",
    "end_dt='2025-12-01'"
   ]
  },
  {
   "cell_type": "code",
   "execution_count": null,
   "metadata": {},
   "outputs": [],
   "source": [
    "#results.predict(start=beg_dt,end=end_dt,dynamic=True)"
   ]
  },
  {
   "cell_type": "code",
   "execution_count": 63,
   "metadata": {},
   "outputs": [
    {
     "name": "stderr",
     "output_type": "stream",
     "text": [
      "C:\\Users\\wasan\\anaconda3\\lib\\site-packages\\statsmodels\\tsa\\base\\tsa_model.py:132: FutureWarning: The 'freq' argument in Timestamp is deprecated and will be removed in a future version.\n",
      "  date_key = Timestamp(key, freq=base_index.freq)\n"
     ]
    },
    {
     "data": {
      "text/plain": [
       "<AxesSubplot:xlabel='Time'>"
      ]
     },
     "execution_count": 63,
     "metadata": {},
     "output_type": "execute_result"
    },
    {
     "data": {
      "image/png": "[encoded data removed]",
      "text/plain": [
       "<Figure size 864x576 with 1 Axes>"
      ]
     },
     "metadata": {
      "needs_background": "light"
     },
     "output_type": "display_data"
    }
   ],
   "source": [
    "hum['forecast']=results.predict(start=beg_dt,end=end_dt,dynamic=True)\n",
    "hum[['Humidity','forecast']].plot(figsize=(12,8))\n"
   ]
  },
  {
   "cell_type": "code",
   "execution_count": 22,
   "metadata": {},
   "outputs": [
    {
     "data": {
      "text/html": [
       "<div>\n",
       "<style scoped>\n",
       "    .dataframe tbody tr th:only-of-type {\n",
       "        vertical-align: middle;\n",
       "    }\n",
       "\n",
       "    .dataframe tbody tr th {\n",
       "        vertical-align: top;\n",
       "    }\n",
       "\n",
       "    .dataframe thead th {\n",
       "        text-align: right;\n",
       "    }\n",
       "</style>\n",
       "<table border=\"1\" class=\"dataframe\">\n",
       "  <thead>\n",
       "    <tr style=\"text-align: right;\">\n",
       "      <th></th>\n",
       "      <th>Humidity</th>\n",
       "      <th>forecast</th>\n",
       "    </tr>\n",
       "    <tr>\n",
       "      <th>Time</th>\n",
       "      <th></th>\n",
       "      <th></th>\n",
       "    </tr>\n",
       "  </thead>\n",
       "  <tbody>\n",
       "    <tr>\n",
       "      <th>2021-08-01</th>\n",
       "      <td>80.1</td>\n",
       "      <td>77.691697</td>\n",
       "    </tr>\n",
       "    <tr>\n",
       "      <th>2021-09-01</th>\n",
       "      <td>81.5</td>\n",
       "      <td>78.335139</td>\n",
       "    </tr>\n",
       "    <tr>\n",
       "      <th>2021-10-01</th>\n",
       "      <td>81.5</td>\n",
       "      <td>79.993474</td>\n",
       "    </tr>\n",
       "    <tr>\n",
       "      <th>2021-11-01</th>\n",
       "      <td>84.5</td>\n",
       "      <td>80.437567</td>\n",
       "    </tr>\n",
       "    <tr>\n",
       "      <th>2021-12-01</th>\n",
       "      <td>74.9</td>\n",
       "      <td>80.518883</td>\n",
       "    </tr>\n",
       "  </tbody>\n",
       "</table>\n",
       "</div>"
      ],
      "text/plain": [
       "            Humidity   forecast\n",
       "Time                           \n",
       "2021-08-01      80.1  77.691697\n",
       "2021-09-01      81.5  78.335139\n",
       "2021-10-01      81.5  79.993474\n",
       "2021-11-01      84.5  80.437567\n",
       "2021-12-01      74.9  80.518883"
      ]
     },
     "execution_count": 22,
     "metadata": {},
     "output_type": "execute_result"
    }
   ],
   "source": [
    "hum.tail()\n"
   ]
  },
  {
   "cell_type": "code",
   "execution_count": null,
   "metadata": {},
   "outputs": [],
   "source": []
  },
  {
   "cell_type": "code",
   "execution_count": null,
   "metadata": {},
   "outputs": [],
   "source": []
  },
  {
   "cell_type": "code",
   "execution_count": null,
   "metadata": {},
   "outputs": [],
   "source": []
  }
 ],
 "metadata": {
  "kernelspec": {
   "display_name": "Python 3 (ipykernel)",
   "language": "python",
   "name": "python3"
  },
  "language_info": {
   "codemirror_mode": {
    "name": "ipython",
    "version": 3
   },
   "file_extension": ".py",
   "mimetype": "text/x-python",
   "name": "python",
   "nbconvert_exporter": "python",
   "pygments_lexer": "ipython3",
   "version": "3.9.7"
  }
 },
 "nbformat": 4,
 "nbformat_minor": 4
}
