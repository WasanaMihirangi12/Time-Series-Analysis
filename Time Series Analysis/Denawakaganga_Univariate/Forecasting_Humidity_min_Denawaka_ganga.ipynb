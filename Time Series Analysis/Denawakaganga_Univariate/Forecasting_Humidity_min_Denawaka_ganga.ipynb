{
 "cells": [
  {
   "cell_type": "code",
   "execution_count": 3,
   "metadata": {},
   "outputs": [],
   "source": [
    "import numpy as np\n",
    "import pandas as pd\n",
    "import matplotlib.pyplot as plt\n",
    "%matplotlib inline\n",
    "from statsmodels.tsa.stattools import adfuller \n",
    "from statsmodels.graphics.tsaplots import plot_acf,plot_pacf\n",
    "import statsmodels.api as sm\n",
    "from sklearn.metrics import mean_absolute_error\n",
    "from statsmodels.tsa.arima_model import ARIMA\n",
    "from math import sqrt\n",
    "from pmdarima import auto_arima\n",
    "\n",
    "\n",
    "\n",
    "\n"
   ]
  },
  {
   "cell_type": "code",
   "execution_count": 4,
   "metadata": {},
   "outputs": [
    {
     "data": {
      "text/html": [
       "<div>\n",
       "<style scoped>\n",
       "    .dataframe tbody tr th:only-of-type {\n",
       "        vertical-align: middle;\n",
       "    }\n",
       "\n",
       "    .dataframe tbody tr th {\n",
       "        vertical-align: top;\n",
       "    }\n",
       "\n",
       "    .dataframe thead th {\n",
       "        text-align: right;\n",
       "    }\n",
       "</style>\n",
       "<table border=\"1\" class=\"dataframe\">\n",
       "  <thead>\n",
       "    <tr style=\"text-align: right;\">\n",
       "      <th></th>\n",
       "      <th>Year</th>\n",
       "      <th>Month</th>\n",
       "      <th>Rainfall</th>\n",
       "      <th>Temp_min</th>\n",
       "      <th>Temp_max</th>\n",
       "      <th>Hum_min</th>\n",
       "      <th>Hum_max</th>\n",
       "    </tr>\n",
       "  </thead>\n",
       "  <tbody>\n",
       "    <tr>\n",
       "      <th>0</th>\n",
       "      <td>2010</td>\n",
       "      <td>January</td>\n",
       "      <td>233.6</td>\n",
       "      <td>22.1</td>\n",
       "      <td>32.1</td>\n",
       "      <td>NaN</td>\n",
       "      <td>NaN</td>\n",
       "    </tr>\n",
       "    <tr>\n",
       "      <th>1</th>\n",
       "      <td>2010</td>\n",
       "      <td>February</td>\n",
       "      <td>111.9</td>\n",
       "      <td>22.6</td>\n",
       "      <td>33.9</td>\n",
       "      <td>NaN</td>\n",
       "      <td>NaN</td>\n",
       "    </tr>\n",
       "    <tr>\n",
       "      <th>2</th>\n",
       "      <td>2010</td>\n",
       "      <td>March</td>\n",
       "      <td>157.5</td>\n",
       "      <td>23.1</td>\n",
       "      <td>35.2</td>\n",
       "      <td>NaN</td>\n",
       "      <td>NaN</td>\n",
       "    </tr>\n",
       "    <tr>\n",
       "      <th>3</th>\n",
       "      <td>2010</td>\n",
       "      <td>April</td>\n",
       "      <td>438.3</td>\n",
       "      <td>23.7</td>\n",
       "      <td>33.5</td>\n",
       "      <td>NaN</td>\n",
       "      <td>NaN</td>\n",
       "    </tr>\n",
       "    <tr>\n",
       "      <th>4</th>\n",
       "      <td>2010</td>\n",
       "      <td>May</td>\n",
       "      <td>658.5</td>\n",
       "      <td>24.0</td>\n",
       "      <td>31.8</td>\n",
       "      <td>NaN</td>\n",
       "      <td>NaN</td>\n",
       "    </tr>\n",
       "  </tbody>\n",
       "</table>\n",
       "</div>"
      ],
      "text/plain": [
       "   Year     Month  Rainfall  Temp_min  Temp_max  Hum_min  Hum_max\n",
       "0  2010   January     233.6      22.1      32.1      NaN      NaN\n",
       "1  2010  February     111.9      22.6      33.9      NaN      NaN\n",
       "2  2010     March     157.5      23.1      35.2      NaN      NaN\n",
       "3  2010     April     438.3      23.7      33.5      NaN      NaN\n",
       "4  2010       May     658.5      24.0      31.8      NaN      NaN"
      ]
     },
     "execution_count": 4,
     "metadata": {},
     "output_type": "execute_result"
    }
   ],
   "source": [
    "df=pd.read_csv('Denawaka_project.csv')\n",
    "df.head()\n",
    "\n",
    "\n",
    "\n",
    "\n",
    "\n",
    "\n"
   ]
  },
  {
   "cell_type": "code",
   "execution_count": 5,
   "metadata": {},
   "outputs": [],
   "source": [
    "df[\"Time\"]=df[\"Year\"].astype(str)+\"-\"+df[\"Month\"].astype(str)\n",
    "\n",
    "\n",
    "\n",
    "\n",
    "\n"
   ]
  },
  {
   "cell_type": "code",
   "execution_count": 6,
   "metadata": {},
   "outputs": [
    {
     "data": {
      "text/html": [
       "<div>\n",
       "<style scoped>\n",
       "    .dataframe tbody tr th:only-of-type {\n",
       "        vertical-align: middle;\n",
       "    }\n",
       "\n",
       "    .dataframe tbody tr th {\n",
       "        vertical-align: top;\n",
       "    }\n",
       "\n",
       "    .dataframe thead th {\n",
       "        text-align: right;\n",
       "    }\n",
       "</style>\n",
       "<table border=\"1\" class=\"dataframe\">\n",
       "  <thead>\n",
       "    <tr style=\"text-align: right;\">\n",
       "      <th></th>\n",
       "      <th>Year</th>\n",
       "      <th>Month</th>\n",
       "      <th>Rainfall</th>\n",
       "      <th>Temp_min</th>\n",
       "      <th>Temp_max</th>\n",
       "      <th>Hum_min</th>\n",
       "      <th>Hum_max</th>\n",
       "      <th>Time</th>\n",
       "    </tr>\n",
       "  </thead>\n",
       "  <tbody>\n",
       "    <tr>\n",
       "      <th>0</th>\n",
       "      <td>2010</td>\n",
       "      <td>January</td>\n",
       "      <td>233.6</td>\n",
       "      <td>22.1</td>\n",
       "      <td>32.1</td>\n",
       "      <td>NaN</td>\n",
       "      <td>NaN</td>\n",
       "      <td>2010-January</td>\n",
       "    </tr>\n",
       "    <tr>\n",
       "      <th>1</th>\n",
       "      <td>2010</td>\n",
       "      <td>February</td>\n",
       "      <td>111.9</td>\n",
       "      <td>22.6</td>\n",
       "      <td>33.9</td>\n",
       "      <td>NaN</td>\n",
       "      <td>NaN</td>\n",
       "      <td>2010-February</td>\n",
       "    </tr>\n",
       "    <tr>\n",
       "      <th>2</th>\n",
       "      <td>2010</td>\n",
       "      <td>March</td>\n",
       "      <td>157.5</td>\n",
       "      <td>23.1</td>\n",
       "      <td>35.2</td>\n",
       "      <td>NaN</td>\n",
       "      <td>NaN</td>\n",
       "      <td>2010-March</td>\n",
       "    </tr>\n",
       "    <tr>\n",
       "      <th>3</th>\n",
       "      <td>2010</td>\n",
       "      <td>April</td>\n",
       "      <td>438.3</td>\n",
       "      <td>23.7</td>\n",
       "      <td>33.5</td>\n",
       "      <td>NaN</td>\n",
       "      <td>NaN</td>\n",
       "      <td>2010-April</td>\n",
       "    </tr>\n",
       "    <tr>\n",
       "      <th>4</th>\n",
       "      <td>2010</td>\n",
       "      <td>May</td>\n",
       "      <td>658.5</td>\n",
       "      <td>24.0</td>\n",
       "      <td>31.8</td>\n",
       "      <td>NaN</td>\n",
       "      <td>NaN</td>\n",
       "      <td>2010-May</td>\n",
       "    </tr>\n",
       "  </tbody>\n",
       "</table>\n",
       "</div>"
      ],
      "text/plain": [
       "   Year     Month  Rainfall  Temp_min  Temp_max  Hum_min  Hum_max  \\\n",
       "0  2010   January     233.6      22.1      32.1      NaN      NaN   \n",
       "1  2010  February     111.9      22.6      33.9      NaN      NaN   \n",
       "2  2010     March     157.5      23.1      35.2      NaN      NaN   \n",
       "3  2010     April     438.3      23.7      33.5      NaN      NaN   \n",
       "4  2010       May     658.5      24.0      31.8      NaN      NaN   \n",
       "\n",
       "            Time  \n",
       "0   2010-January  \n",
       "1  2010-February  \n",
       "2     2010-March  \n",
       "3     2010-April  \n",
       "4       2010-May  "
      ]
     },
     "execution_count": 6,
     "metadata": {},
     "output_type": "execute_result"
    }
   ],
   "source": [
    "df.head()\n",
    "\n",
    "\n",
    "\n",
    "\n"
   ]
  },
  {
   "cell_type": "code",
   "execution_count": 7,
   "metadata": {},
   "outputs": [
    {
     "data": {
      "text/html": [
       "<div>\n",
       "<style scoped>\n",
       "    .dataframe tbody tr th:only-of-type {\n",
       "        vertical-align: middle;\n",
       "    }\n",
       "\n",
       "    .dataframe tbody tr th {\n",
       "        vertical-align: top;\n",
       "    }\n",
       "\n",
       "    .dataframe thead th {\n",
       "        text-align: right;\n",
       "    }\n",
       "</style>\n",
       "<table border=\"1\" class=\"dataframe\">\n",
       "  <thead>\n",
       "    <tr style=\"text-align: right;\">\n",
       "      <th></th>\n",
       "      <th>Time</th>\n",
       "      <th>Hum_min</th>\n",
       "    </tr>\n",
       "  </thead>\n",
       "  <tbody>\n",
       "    <tr>\n",
       "      <th>0</th>\n",
       "      <td>2010-January</td>\n",
       "      <td>NaN</td>\n",
       "    </tr>\n",
       "    <tr>\n",
       "      <th>1</th>\n",
       "      <td>2010-February</td>\n",
       "      <td>NaN</td>\n",
       "    </tr>\n",
       "    <tr>\n",
       "      <th>2</th>\n",
       "      <td>2010-March</td>\n",
       "      <td>NaN</td>\n",
       "    </tr>\n",
       "    <tr>\n",
       "      <th>3</th>\n",
       "      <td>2010-April</td>\n",
       "      <td>NaN</td>\n",
       "    </tr>\n",
       "    <tr>\n",
       "      <th>4</th>\n",
       "      <td>2010-May</td>\n",
       "      <td>NaN</td>\n",
       "    </tr>\n",
       "  </tbody>\n",
       "</table>\n",
       "</div>"
      ],
      "text/plain": [
       "            Time  Hum_min\n",
       "0   2010-January      NaN\n",
       "1  2010-February      NaN\n",
       "2     2010-March      NaN\n",
       "3     2010-April      NaN\n",
       "4       2010-May      NaN"
      ]
     },
     "execution_count": 7,
     "metadata": {},
     "output_type": "execute_result"
    }
   ],
   "source": [
    "hum_min=df[[\"Time\",\"Hum_min\"]]\n",
    "hum_min.head()\n",
    "\n",
    "\n",
    "\n",
    "\n",
    "\n",
    "\n"
   ]
  },
  {
   "cell_type": "code",
   "execution_count": 8,
   "metadata": {},
   "outputs": [
    {
     "name": "stderr",
     "output_type": "stream",
     "text": [
      "C:\\Users\\wasan\\AppData\\Local\\Temp/ipykernel_6996/3648415634.py:1: SettingWithCopyWarning: \n",
      "A value is trying to be set on a copy of a slice from a DataFrame.\n",
      "Try using .loc[row_indexer,col_indexer] = value instead\n",
      "\n",
      "See the caveats in the documentation: https://pandas.pydata.org/pandas-docs/stable/user_guide/indexing.html#returning-a-view-versus-a-copy\n",
      "  hum_min['Time']=pd.to_datetime(hum_min['Time'])\n"
     ]
    }
   ],
   "source": [
    "hum_min['Time']=pd.to_datetime(hum_min['Time'])\n"
   ]
  },
  {
   "cell_type": "code",
   "execution_count": 9,
   "metadata": {},
   "outputs": [
    {
     "data": {
      "text/html": [
       "<div>\n",
       "<style scoped>\n",
       "    .dataframe tbody tr th:only-of-type {\n",
       "        vertical-align: middle;\n",
       "    }\n",
       "\n",
       "    .dataframe tbody tr th {\n",
       "        vertical-align: top;\n",
       "    }\n",
       "\n",
       "    .dataframe thead th {\n",
       "        text-align: right;\n",
       "    }\n",
       "</style>\n",
       "<table border=\"1\" class=\"dataframe\">\n",
       "  <thead>\n",
       "    <tr style=\"text-align: right;\">\n",
       "      <th></th>\n",
       "      <th>Time</th>\n",
       "      <th>Hum_min</th>\n",
       "    </tr>\n",
       "  </thead>\n",
       "  <tbody>\n",
       "    <tr>\n",
       "      <th>0</th>\n",
       "      <td>2010-01-01</td>\n",
       "      <td>NaN</td>\n",
       "    </tr>\n",
       "    <tr>\n",
       "      <th>1</th>\n",
       "      <td>2010-02-01</td>\n",
       "      <td>NaN</td>\n",
       "    </tr>\n",
       "    <tr>\n",
       "      <th>2</th>\n",
       "      <td>2010-03-01</td>\n",
       "      <td>NaN</td>\n",
       "    </tr>\n",
       "    <tr>\n",
       "      <th>3</th>\n",
       "      <td>2010-04-01</td>\n",
       "      <td>NaN</td>\n",
       "    </tr>\n",
       "    <tr>\n",
       "      <th>4</th>\n",
       "      <td>2010-05-01</td>\n",
       "      <td>NaN</td>\n",
       "    </tr>\n",
       "  </tbody>\n",
       "</table>\n",
       "</div>"
      ],
      "text/plain": [
       "        Time  Hum_min\n",
       "0 2010-01-01      NaN\n",
       "1 2010-02-01      NaN\n",
       "2 2010-03-01      NaN\n",
       "3 2010-04-01      NaN\n",
       "4 2010-05-01      NaN"
      ]
     },
     "execution_count": 9,
     "metadata": {},
     "output_type": "execute_result"
    }
   ],
   "source": [
    "hum_min.head()\n"
   ]
  },
  {
   "cell_type": "code",
   "execution_count": 10,
   "metadata": {
    "scrolled": true
   },
   "outputs": [
    {
     "data": {
      "text/plain": [
       "Time        0\n",
       "Hum_min    14\n",
       "dtype: int64"
      ]
     },
     "execution_count": 10,
     "metadata": {},
     "output_type": "execute_result"
    }
   ],
   "source": [
    "#Checking for missing values\n",
    "hum_min.isna().sum()\n",
    "\n",
    "\n",
    "\n",
    "\n"
   ]
  },
  {
   "cell_type": "code",
   "execution_count": 11,
   "metadata": {},
   "outputs": [],
   "source": [
    "#Setting the time index\n",
    "hum_min.set_index('Time',inplace=True)"
   ]
  },
  {
   "cell_type": "code",
   "execution_count": 12,
   "metadata": {},
   "outputs": [],
   "source": [
    "hum_min=hum_min.resample('MS').first()"
   ]
  },
  {
   "cell_type": "code",
   "execution_count": 13,
   "metadata": {},
   "outputs": [
    {
     "data": {
      "text/html": [
       "<div>\n",
       "<style scoped>\n",
       "    .dataframe tbody tr th:only-of-type {\n",
       "        vertical-align: middle;\n",
       "    }\n",
       "\n",
       "    .dataframe tbody tr th {\n",
       "        vertical-align: top;\n",
       "    }\n",
       "\n",
       "    .dataframe thead th {\n",
       "        text-align: right;\n",
       "    }\n",
       "</style>\n",
       "<table border=\"1\" class=\"dataframe\">\n",
       "  <thead>\n",
       "    <tr style=\"text-align: right;\">\n",
       "      <th></th>\n",
       "      <th>Hum_min</th>\n",
       "    </tr>\n",
       "    <tr>\n",
       "      <th>Time</th>\n",
       "      <th></th>\n",
       "    </tr>\n",
       "  </thead>\n",
       "  <tbody>\n",
       "    <tr>\n",
       "      <th>2010-01-01</th>\n",
       "      <td>79.0</td>\n",
       "    </tr>\n",
       "    <tr>\n",
       "      <th>2010-02-01</th>\n",
       "      <td>79.0</td>\n",
       "    </tr>\n",
       "    <tr>\n",
       "      <th>2010-03-01</th>\n",
       "      <td>79.0</td>\n",
       "    </tr>\n",
       "    <tr>\n",
       "      <th>2010-04-01</th>\n",
       "      <td>79.0</td>\n",
       "    </tr>\n",
       "    <tr>\n",
       "      <th>2010-05-01</th>\n",
       "      <td>79.0</td>\n",
       "    </tr>\n",
       "    <tr>\n",
       "      <th>2010-06-01</th>\n",
       "      <td>79.0</td>\n",
       "    </tr>\n",
       "    <tr>\n",
       "      <th>2010-07-01</th>\n",
       "      <td>79.0</td>\n",
       "    </tr>\n",
       "    <tr>\n",
       "      <th>2010-08-01</th>\n",
       "      <td>79.0</td>\n",
       "    </tr>\n",
       "    <tr>\n",
       "      <th>2010-09-01</th>\n",
       "      <td>79.0</td>\n",
       "    </tr>\n",
       "    <tr>\n",
       "      <th>2010-10-01</th>\n",
       "      <td>79.0</td>\n",
       "    </tr>\n",
       "    <tr>\n",
       "      <th>2010-11-01</th>\n",
       "      <td>79.0</td>\n",
       "    </tr>\n",
       "    <tr>\n",
       "      <th>2010-12-01</th>\n",
       "      <td>79.0</td>\n",
       "    </tr>\n",
       "    <tr>\n",
       "      <th>2011-01-01</th>\n",
       "      <td>79.0</td>\n",
       "    </tr>\n",
       "    <tr>\n",
       "      <th>2011-02-01</th>\n",
       "      <td>77.0</td>\n",
       "    </tr>\n",
       "    <tr>\n",
       "      <th>2011-03-01</th>\n",
       "      <td>75.0</td>\n",
       "    </tr>\n",
       "    <tr>\n",
       "      <th>2011-04-01</th>\n",
       "      <td>80.0</td>\n",
       "    </tr>\n",
       "    <tr>\n",
       "      <th>2011-05-01</th>\n",
       "      <td>79.0</td>\n",
       "    </tr>\n",
       "    <tr>\n",
       "      <th>2011-06-01</th>\n",
       "      <td>77.0</td>\n",
       "    </tr>\n",
       "    <tr>\n",
       "      <th>2011-07-01</th>\n",
       "      <td>79.0</td>\n",
       "    </tr>\n",
       "    <tr>\n",
       "      <th>2011-08-01</th>\n",
       "      <td>80.0</td>\n",
       "    </tr>\n",
       "  </tbody>\n",
       "</table>\n",
       "</div>"
      ],
      "text/plain": [
       "            Hum_min\n",
       "Time               \n",
       "2010-01-01     79.0\n",
       "2010-02-01     79.0\n",
       "2010-03-01     79.0\n",
       "2010-04-01     79.0\n",
       "2010-05-01     79.0\n",
       "2010-06-01     79.0\n",
       "2010-07-01     79.0\n",
       "2010-08-01     79.0\n",
       "2010-09-01     79.0\n",
       "2010-10-01     79.0\n",
       "2010-11-01     79.0\n",
       "2010-12-01     79.0\n",
       "2011-01-01     79.0\n",
       "2011-02-01     77.0\n",
       "2011-03-01     75.0\n",
       "2011-04-01     80.0\n",
       "2011-05-01     79.0\n",
       "2011-06-01     77.0\n",
       "2011-07-01     79.0\n",
       "2011-08-01     80.0"
      ]
     },
     "execution_count": 13,
     "metadata": {},
     "output_type": "execute_result"
    }
   ],
   "source": [
    "#filling missing values\n",
    "hum=hum_min.fillna(method='bfill')\n",
    "hum.head(20)\n",
    "\n",
    "\n",
    "\n",
    "\n"
   ]
  },
  {
   "cell_type": "code",
   "execution_count": 14,
   "metadata": {},
   "outputs": [
    {
     "data": {
      "text/plain": [
       "Hum_min    0\n",
       "dtype: int64"
      ]
     },
     "execution_count": 14,
     "metadata": {},
     "output_type": "execute_result"
    }
   ],
   "source": [
    "#Checking for missing values\n",
    "hum.isna().sum()"
   ]
  },
  {
   "cell_type": "code",
   "execution_count": 15,
   "metadata": {},
   "outputs": [
    {
     "data": {
      "text/html": [
       "<div>\n",
       "<style scoped>\n",
       "    .dataframe tbody tr th:only-of-type {\n",
       "        vertical-align: middle;\n",
       "    }\n",
       "\n",
       "    .dataframe tbody tr th {\n",
       "        vertical-align: top;\n",
       "    }\n",
       "\n",
       "    .dataframe thead th {\n",
       "        text-align: right;\n",
       "    }\n",
       "</style>\n",
       "<table border=\"1\" class=\"dataframe\">\n",
       "  <thead>\n",
       "    <tr style=\"text-align: right;\">\n",
       "      <th></th>\n",
       "      <th>Humidity</th>\n",
       "    </tr>\n",
       "    <tr>\n",
       "      <th>Time</th>\n",
       "      <th></th>\n",
       "    </tr>\n",
       "  </thead>\n",
       "  <tbody>\n",
       "    <tr>\n",
       "      <th>2010-01-01</th>\n",
       "      <td>79.0</td>\n",
       "    </tr>\n",
       "    <tr>\n",
       "      <th>2010-02-01</th>\n",
       "      <td>79.0</td>\n",
       "    </tr>\n",
       "    <tr>\n",
       "      <th>2010-03-01</th>\n",
       "      <td>79.0</td>\n",
       "    </tr>\n",
       "    <tr>\n",
       "      <th>2010-04-01</th>\n",
       "      <td>79.0</td>\n",
       "    </tr>\n",
       "    <tr>\n",
       "      <th>2010-05-01</th>\n",
       "      <td>79.0</td>\n",
       "    </tr>\n",
       "  </tbody>\n",
       "</table>\n",
       "</div>"
      ],
      "text/plain": [
       "            Humidity\n",
       "Time                \n",
       "2010-01-01      79.0\n",
       "2010-02-01      79.0\n",
       "2010-03-01      79.0\n",
       "2010-04-01      79.0\n",
       "2010-05-01      79.0"
      ]
     },
     "execution_count": 15,
     "metadata": {},
     "output_type": "execute_result"
    }
   ],
   "source": [
    "hum = hum.rename(columns = {'Hum_min': 'Humidity'})\n",
    "hum.head()\n",
    "\n",
    "\n",
    "\n",
    "\n",
    "\n",
    "\n"
   ]
  },
  {
   "cell_type": "code",
   "execution_count": 16,
   "metadata": {},
   "outputs": [
    {
     "data": {
      "text/plain": [
       "Index(['Humidity'], dtype='object')"
      ]
     },
     "execution_count": 16,
     "metadata": {},
     "output_type": "execute_result"
    }
   ],
   "source": [
    "hum.columns\n",
    "\n",
    "\n",
    "\n",
    "\n"
   ]
  },
  {
   "cell_type": "code",
   "execution_count": 17,
   "metadata": {},
   "outputs": [
    {
     "data": {
      "text/plain": [
       "<AxesSubplot:xlabel='Time'>"
      ]
     },
     "execution_count": 17,
     "metadata": {},
     "output_type": "execute_result"
    },
    {
     "data": {
      "image/png": "[encoded data removed]",
      "text/plain": [
       "<Figure size 864x576 with 1 Axes>"
      ]
     },
     "metadata": {
      "needs_background": "light"
     },
     "output_type": "display_data"
    }
   ],
   "source": [
    "hum.plot(figsize=(12,8))\n",
    "\n",
    "\n",
    "\n"
   ]
  },
  {
   "cell_type": "markdown",
   "metadata": {},
   "source": [
    "No trend. But some evidence for seasonality"
   ]
  },
  {
   "cell_type": "markdown",
   "metadata": {},
   "source": [
    "# Testing For Stationarity"
   ]
  },
  {
   "cell_type": "code",
   "execution_count": 18,
   "metadata": {},
   "outputs": [
    {
     "name": "stdout",
     "output_type": "stream",
     "text": [
      "ADF Test Statistic : -3.5501343254243825\n",
      "p-value : 0.006789113877352049\n",
      "#Lags Used : 13\n",
      "Number of Observations Used : 130\n",
      "strong evidence against the null hypothesis(Ho), reject the null hypothesis. Data has no unit root and is stationary\n"
     ]
    }
   ],
   "source": [
    "### ADF Test\n",
    "test_result=adfuller(hum['Humidity'])\n",
    "#Ho: The series is non stationary\n",
    "#H1: The series is stationary\n",
    "\n",
    "def adfuller_test(x):\n",
    "    result=adfuller(x)\n",
    "    labels = ['ADF Test Statistic','p-value','#Lags Used','Number of Observations Used']\n",
    "    for value,label in zip(result,labels):\n",
    "        print(label+' : '+str(value) )\n",
    "    if result[1] <= 0.05:\n",
    "        print(\"strong evidence against the null hypothesis(Ho), reject the null hypothesis. Data has no unit root and is stationary\")\n",
    "    else:\n",
    "        print(\"weak evidence against null hypothesis, time series has a unit root, indicating it is non-stationary \")\n",
    "    \n",
    "adfuller_test(hum['Humidity'])\n",
    "\n",
    "\n",
    "\n"
   ]
  },
  {
   "cell_type": "code",
   "execution_count": 19,
   "metadata": {},
   "outputs": [
    {
     "name": "stdout",
     "output_type": "stream",
     "text": [
      "KPSS Statistic: 0.06329735723939389\n",
      "p-value: 0.1\n",
      "num lags: 14\n",
      "Critial Values:\n",
      "   10% : 0.347\n",
      "   5% : 0.463\n",
      "   2.5% : 0.574\n",
      "   1% : 0.739\n",
      "Result: The series is stationary\n"
     ]
    },
    {
     "name": "stderr",
     "output_type": "stream",
     "text": [
      "C:\\Users\\wasan\\anaconda3\\lib\\site-packages\\statsmodels\\tsa\\stattools.py:1875: FutureWarning: The behavior of using nlags=None will change in release 0.13.Currently nlags=None is the same as nlags=\"legacy\", and so a sample-size lag length is used. After the next release, the default will change to be the same as nlags=\"auto\" which uses an automatic lag length selection method. To silence this warning, either use \"auto\" or \"legacy\"\n",
      "  warnings.warn(msg, FutureWarning)\n",
      "C:\\Users\\wasan\\anaconda3\\lib\\site-packages\\statsmodels\\tsa\\stattools.py:1910: InterpolationWarning: The test statistic is outside of the range of p-values available in the\n",
      "look-up table. The actual p-value is greater than the p-value returned.\n",
      "\n",
      "  warnings.warn(\n"
     ]
    }
   ],
   "source": [
    "# KPSS test\n",
    "from statsmodels.tsa.stattools import kpss\n",
    "def kpss_test(series, **kw):    \n",
    "    statistic, p_value, n_lags, critical_values = kpss(series, **kw)\n",
    "    # Format Output\n",
    "    print(f'KPSS Statistic: {statistic}')\n",
    "    print(f'p-value: {p_value}')\n",
    "    print(f'num lags: {n_lags}')\n",
    "    print('Critial Values:')\n",
    "    for key, value in critical_values.items():\n",
    "        print(f'   {key} : {value}')\n",
    "    print(f'Result: The series is {\"not \" if p_value < 0.05 else \"\"}stationary')\n",
    "\n",
    "kpss_test(hum['Humidity'])\n"
   ]
  },
  {
   "cell_type": "code",
   "execution_count": 20,
   "metadata": {},
   "outputs": [
    {
     "name": "stdout",
     "output_type": "stream",
     "text": [
      "     Phillips-Perron Test (Z-tau)    \n",
      "=====================================\n",
      "Test Statistic                 -5.883\n",
      "P-value                         0.000\n",
      "Lags                               14\n",
      "-------------------------------------\n",
      "\n",
      "Trend: Constant\n",
      "Critical Values: -3.48 (1%), -2.88 (5%), -2.58 (10%)\n",
      "Null Hypothesis: The process contains a unit root.\n",
      "Alternative Hypothesis: The process is weakly stationary.\n"
     ]
    }
   ],
   "source": [
    "#PhillipsPerron Test\n",
    "from arch.unitroot import PhillipsPerron\n",
    "\n",
    "pp = PhillipsPerron(hum['Humidity'].astype(float))\n",
    "print(pp.summary().as_text())\n",
    "\n",
    "\n",
    "\n"
   ]
  },
  {
   "cell_type": "markdown",
   "metadata": {},
   "source": [
    "Therefore the series is stationary"
   ]
  },
  {
   "cell_type": "markdown",
   "metadata": {},
   "source": [
    "# ACF and PACF plots"
   ]
  },
  {
   "cell_type": "code",
   "execution_count": 21,
   "metadata": {},
   "outputs": [
    {
     "data": {
      "image/png": "[encoded data removed]",
      "text/plain": [
       "<Figure size 864x576 with 2 Axes>"
      ]
     },
     "metadata": {
      "needs_background": "light"
     },
     "output_type": "display_data"
    }
   ],
   "source": [
    "fig = plt.figure(figsize=(12,8))\n",
    "ax1 = fig.add_subplot(211)\n",
    "fig = sm.graphics.tsa.plot_acf(hum['Humidity'],lags=40,ax=ax1)\n",
    "ax2 = fig.add_subplot(212)\n",
    "fig = sm.graphics.tsa.plot_pacf(hum['Humidity'],lags=40,ax=ax2)\n"
   ]
  },
  {
   "cell_type": "markdown",
   "metadata": {},
   "source": [
    "According to the PACF and ACF plots it's better to start with p=3, d=0, q=5"
   ]
  },
  {
   "cell_type": "code",
   "execution_count": 22,
   "metadata": {},
   "outputs": [
    {
     "name": "stdout",
     "output_type": "stream",
     "text": [
      " ARIMA(0,0,0)(0,0,0)[12] intercept   : AIC=860.191, Time=0.13 sec\n",
      " ARIMA(0,0,0)(0,0,1)[12] intercept   : AIC=840.977, Time=0.14 sec\n",
      " ARIMA(0,0,0)(0,0,2)[12] intercept   : AIC=825.288, Time=0.53 sec\n",
      " ARIMA(0,0,0)(0,0,3)[12] intercept   : AIC=822.400, Time=1.18 sec\n",
      " ARIMA(0,0,0)(0,0,4)[12] intercept   : AIC=818.999, Time=1.86 sec\n",
      " ARIMA(0,0,0)(0,0,5)[12] intercept   : AIC=inf, Time=17.24 sec\n",
      " ARIMA(0,0,0)(1,0,0)[12] intercept   : AIC=825.635, Time=1.81 sec\n",
      " ARIMA(0,0,0)(1,0,1)[12] intercept   : AIC=803.385, Time=0.94 sec\n",
      " ARIMA(0,0,0)(1,0,2)[12] intercept   : AIC=825.417, Time=2.27 sec\n",
      " ARIMA(0,0,0)(1,0,3)[12] intercept   : AIC=803.584, Time=4.77 sec\n",
      " ARIMA(0,0,0)(1,0,4)[12] intercept   : AIC=inf, Time=8.16 sec\n",
      " ARIMA(0,0,0)(2,0,0)[12] intercept   : AIC=807.309, Time=2.44 sec\n",
      " ARIMA(0,0,0)(2,0,1)[12] intercept   : AIC=800.601, Time=1.82 sec\n",
      " ARIMA(0,0,0)(2,0,2)[12] intercept   : AIC=831.406, Time=2.30 sec\n",
      " ARIMA(0,0,0)(2,0,3)[12] intercept   : AIC=inf, Time=7.39 sec\n",
      " ARIMA(0,0,0)(3,0,0)[12] intercept   : AIC=805.576, Time=4.16 sec\n",
      " ARIMA(0,0,0)(3,0,1)[12] intercept   : AIC=inf, Time=4.50 sec\n",
      " ARIMA(0,0,0)(3,0,2)[12] intercept   : AIC=inf, Time=4.65 sec\n",
      " ARIMA(0,0,1)(0,0,0)[12] intercept   : AIC=829.156, Time=0.10 sec\n",
      " ARIMA(0,0,1)(0,0,1)[12] intercept   : AIC=817.888, Time=0.29 sec\n",
      " ARIMA(0,0,1)(0,0,2)[12] intercept   : AIC=812.101, Time=0.49 sec\n",
      " ARIMA(0,0,1)(0,0,3)[12] intercept   : AIC=810.085, Time=1.10 sec\n",
      " ARIMA(0,0,1)(0,0,4)[12] intercept   : AIC=807.076, Time=2.47 sec\n",
      " ARIMA(0,0,1)(1,0,0)[12] intercept   : AIC=810.766, Time=0.91 sec\n",
      " ARIMA(0,0,1)(1,0,1)[12] intercept   : AIC=795.157, Time=1.51 sec\n",
      " ARIMA(0,0,1)(1,0,2)[12] intercept   : AIC=815.410, Time=3.64 sec\n",
      " ARIMA(0,0,1)(1,0,3)[12] intercept   : AIC=790.252, Time=10.04 sec\n",
      " ARIMA(0,0,1)(2,0,0)[12] intercept   : AIC=821.454, Time=3.08 sec\n",
      " ARIMA(0,0,1)(2,0,1)[12] intercept   : AIC=796.540, Time=3.84 sec\n",
      " ARIMA(0,0,1)(2,0,2)[12] intercept   : AIC=816.462, Time=4.90 sec\n",
      " ARIMA(0,0,1)(3,0,0)[12] intercept   : AIC=796.168, Time=7.52 sec\n",
      " ARIMA(0,0,1)(3,0,1)[12] intercept   : AIC=inf, Time=8.38 sec\n",
      " ARIMA(0,0,2)(0,0,0)[12] intercept   : AIC=807.776, Time=0.34 sec\n",
      " ARIMA(0,0,2)(0,0,1)[12] intercept   : AIC=803.749, Time=0.49 sec\n",
      " ARIMA(0,0,2)(0,0,2)[12] intercept   : AIC=799.912, Time=1.31 sec\n",
      " ARIMA(0,0,2)(0,0,3)[12] intercept   : AIC=798.755, Time=5.20 sec\n",
      " ARIMA(0,0,2)(1,0,0)[12] intercept   : AIC=800.421, Time=2.72 sec\n",
      " ARIMA(0,0,2)(1,0,1)[12] intercept   : AIC=790.932, Time=2.86 sec\n",
      " ARIMA(0,0,2)(1,0,2)[12] intercept   : AIC=inf, Time=4.52 sec\n",
      " ARIMA(0,0,2)(2,0,0)[12] intercept   : AIC=792.287, Time=3.95 sec\n",
      " ARIMA(0,0,2)(2,0,1)[12] intercept   : AIC=789.851, Time=3.22 sec\n",
      " ARIMA(0,0,2)(3,0,0)[12] intercept   : AIC=788.449, Time=4.82 sec\n",
      " ARIMA(0,0,3)(0,0,0)[12] intercept   : AIC=805.180, Time=0.21 sec\n",
      " ARIMA(0,0,3)(0,0,1)[12] intercept   : AIC=800.664, Time=0.37 sec\n",
      " ARIMA(0,0,3)(0,0,2)[12] intercept   : AIC=795.574, Time=0.86 sec\n",
      " ARIMA(0,0,3)(1,0,0)[12] intercept   : AIC=797.402, Time=2.67 sec\n",
      " ARIMA(0,0,3)(1,0,1)[12] intercept   : AIC=790.282, Time=2.80 sec\n",
      " ARIMA(0,0,3)(2,0,0)[12] intercept   : AIC=847.651, Time=5.02 sec\n",
      " ARIMA(0,0,4)(0,0,0)[12] intercept   : AIC=806.927, Time=0.27 sec\n",
      " ARIMA(0,0,4)(0,0,1)[12] intercept   : AIC=801.860, Time=0.59 sec\n",
      " ARIMA(0,0,4)(1,0,0)[12] intercept   : AIC=848.658, Time=2.17 sec\n",
      " ARIMA(0,0,5)(0,0,0)[12] intercept   : AIC=794.679, Time=0.33 sec\n",
      " ARIMA(1,0,0)(0,0,0)[12] intercept   : AIC=820.648, Time=0.19 sec\n",
      " ARIMA(1,0,0)(0,0,1)[12] intercept   : AIC=810.346, Time=0.62 sec\n",
      " ARIMA(1,0,0)(0,0,2)[12] intercept   : AIC=805.562, Time=1.08 sec\n",
      " ARIMA(1,0,0)(0,0,3)[12] intercept   : AIC=803.750, Time=4.29 sec\n",
      " ARIMA(1,0,0)(0,0,4)[12] intercept   : AIC=801.525, Time=12.29 sec\n",
      " ARIMA(1,0,0)(1,0,0)[12] intercept   : AIC=804.320, Time=1.69 sec\n",
      " ARIMA(1,0,0)(1,0,1)[12] intercept   : AIC=804.613, Time=1.71 sec\n",
      " ARIMA(1,0,0)(1,0,2)[12] intercept   : AIC=inf, Time=4.01 sec\n",
      " ARIMA(1,0,0)(1,0,3)[12] intercept   : AIC=792.403, Time=7.35 sec\n",
      " ARIMA(1,0,0)(2,0,0)[12] intercept   : AIC=796.028, Time=3.04 sec\n",
      " ARIMA(1,0,0)(2,0,1)[12] intercept   : AIC=792.218, Time=2.91 sec\n",
      " ARIMA(1,0,0)(2,0,2)[12] intercept   : AIC=803.866, Time=8.68 sec\n",
      " ARIMA(1,0,0)(3,0,0)[12] intercept   : AIC=791.717, Time=10.35 sec\n",
      " ARIMA(1,0,0)(3,0,1)[12] intercept   : AIC=796.981, Time=11.54 sec\n",
      " ARIMA(1,0,1)(0,0,0)[12] intercept   : AIC=821.298, Time=0.18 sec\n",
      " ARIMA(1,0,1)(0,0,1)[12] intercept   : AIC=812.162, Time=0.44 sec\n",
      " ARIMA(1,0,1)(0,0,2)[12] intercept   : AIC=807.468, Time=2.42 sec\n",
      " ARIMA(1,0,1)(0,0,3)[12] intercept   : AIC=805.685, Time=5.30 sec\n",
      " ARIMA(1,0,1)(1,0,0)[12] intercept   : AIC=inf, Time=1.88 sec\n",
      " ARIMA(1,0,1)(1,0,1)[12] intercept   : AIC=803.838, Time=1.94 sec\n",
      " ARIMA(1,0,1)(1,0,2)[12] intercept   : AIC=inf, Time=3.91 sec\n",
      " ARIMA(1,0,1)(2,0,0)[12] intercept   : AIC=inf, Time=3.26 sec\n",
      " ARIMA(1,0,1)(2,0,1)[12] intercept   : AIC=802.078, Time=3.54 sec\n",
      " ARIMA(1,0,1)(3,0,0)[12] intercept   : AIC=794.007, Time=8.22 sec\n",
      " ARIMA(1,0,2)(0,0,0)[12] intercept   : AIC=802.387, Time=0.78 sec\n",
      " ARIMA(1,0,2)(0,0,1)[12] intercept   : AIC=795.754, Time=1.53 sec\n",
      " ARIMA(1,0,2)(0,0,2)[12] intercept   : AIC=787.639, Time=2.76 sec\n",
      " ARIMA(1,0,2)(1,0,0)[12] intercept   : AIC=inf, Time=1.78 sec\n",
      " ARIMA(1,0,2)(1,0,1)[12] intercept   : AIC=777.735, Time=2.25 sec\n"
     ]
    },
    {
     "name": "stderr",
     "output_type": "stream",
     "text": [
      "C:\\Users\\wasan\\anaconda3\\lib\\site-packages\\pmdarima\\arima\\_auto_solvers.py:522: ModelFitWarning: Error fitting  ARIMA(1,0,2)(2,0,0)[12] intercept (if you do not want to see these warnings, run with error_action=\"ignore\").\n",
      "  warnings.warn(warning_str, ModelFitWarning)\n"
     ]
    },
    {
     "name": "stdout",
     "output_type": "stream",
     "text": [
      " ARIMA(1,0,2)(2,0,0)[12] intercept   : AIC=inf, Time=nan sec\n",
      " ARIMA(1,0,3)(0,0,0)[12] intercept   : AIC=801.741, Time=0.74 sec\n",
      " ARIMA(1,0,3)(0,0,1)[12] intercept   : AIC=796.931, Time=1.31 sec\n",
      " ARIMA(1,0,3)(1,0,0)[12] intercept   : AIC=inf, Time=2.18 sec\n",
      " ARIMA(1,0,4)(0,0,0)[12] intercept   : AIC=803.711, Time=1.10 sec\n",
      " ARIMA(2,0,0)(0,0,0)[12] intercept   : AIC=819.261, Time=0.20 sec\n",
      " ARIMA(2,0,0)(0,0,1)[12] intercept   : AIC=811.847, Time=0.72 sec\n",
      " ARIMA(2,0,0)(0,0,2)[12] intercept   : AIC=807.312, Time=0.99 sec\n",
      " ARIMA(2,0,0)(0,0,3)[12] intercept   : AIC=805.251, Time=6.07 sec\n",
      " ARIMA(2,0,0)(1,0,0)[12] intercept   : AIC=809.455, Time=1.63 sec\n",
      " ARIMA(2,0,0)(1,0,1)[12] intercept   : AIC=799.966, Time=1.92 sec\n",
      " ARIMA(2,0,0)(1,0,2)[12] intercept   : AIC=inf, Time=4.38 sec\n",
      " ARIMA(2,0,0)(2,0,0)[12] intercept   : AIC=798.719, Time=3.80 sec\n",
      " ARIMA(2,0,0)(2,0,1)[12] intercept   : AIC=800.788, Time=3.77 sec\n",
      " ARIMA(2,0,0)(3,0,0)[12] intercept   : AIC=791.940, Time=23.06 sec\n",
      " ARIMA(2,0,1)(0,0,0)[12] intercept   : AIC=820.133, Time=1.06 sec\n",
      " ARIMA(2,0,1)(0,0,1)[12] intercept   : AIC=809.830, Time=1.57 sec\n",
      " ARIMA(2,0,1)(0,0,2)[12] intercept   : AIC=798.395, Time=4.34 sec\n",
      " ARIMA(2,0,1)(1,0,0)[12] intercept   : AIC=inf, Time=2.05 sec\n",
      " ARIMA(2,0,1)(1,0,1)[12] intercept   : AIC=805.538, Time=2.31 sec\n",
      " ARIMA(2,0,1)(2,0,0)[12] intercept   : AIC=801.756, Time=6.13 sec\n",
      " ARIMA(2,0,2)(0,0,0)[12] intercept   : AIC=802.206, Time=1.24 sec\n",
      " ARIMA(2,0,2)(0,0,1)[12] intercept   : AIC=796.876, Time=2.36 sec\n",
      " ARIMA(2,0,2)(1,0,0)[12] intercept   : AIC=794.998, Time=2.32 sec\n",
      " ARIMA(2,0,3)(0,0,0)[12] intercept   : AIC=804.158, Time=1.13 sec\n",
      " ARIMA(3,0,0)(0,0,0)[12] intercept   : AIC=804.490, Time=0.84 sec\n",
      " ARIMA(3,0,0)(0,0,1)[12] intercept   : AIC=801.461, Time=1.56 sec\n",
      " ARIMA(3,0,0)(0,0,2)[12] intercept   : AIC=797.405, Time=1.69 sec\n",
      " ARIMA(3,0,0)(1,0,0)[12] intercept   : AIC=803.775, Time=2.40 sec\n",
      " ARIMA(3,0,0)(1,0,1)[12] intercept   : AIC=803.774, Time=2.23 sec\n",
      " ARIMA(3,0,0)(2,0,0)[12] intercept   : AIC=inf, Time=3.92 sec\n",
      " ARIMA(3,0,1)(0,0,0)[12] intercept   : AIC=798.963, Time=1.20 sec\n",
      " ARIMA(3,0,1)(0,0,1)[12] intercept   : AIC=798.732, Time=1.94 sec\n",
      " ARIMA(3,0,1)(1,0,0)[12] intercept   : AIC=810.230, Time=1.84 sec\n",
      " ARIMA(3,0,2)(0,0,0)[12] intercept   : AIC=801.047, Time=1.33 sec\n",
      "\n",
      "Best model:  ARIMA(1,0,2)(1,0,1)[12] intercept\n",
      "Total fit time: 367.695 seconds\n"
     ]
    }
   ],
   "source": [
    "arima_model=auto_arima(hum['Humidity'].astype(float),start_p=0,start_d=0,start_q=0,max_p=3,max_D=1,max_q=5,start_P=0,start_D=0,start_Q=0,max_P=3,max_Q=5,m=12,seasonal=True,error_action='warn',trace=True,supress_warnings=True,stepwise=False,random_state=20,n_fits=70,maxiter=70,alpha=0.05)\n"
   ]
  },
  {
   "cell_type": "markdown",
   "metadata": {},
   "source": [
    "# Forecast Humidity using the model"
   ]
  },
  {
   "cell_type": "code",
   "execution_count": 23,
   "metadata": {},
   "outputs": [
    {
     "name": "stderr",
     "output_type": "stream",
     "text": [
      "C:\\Users\\wasan\\anaconda3\\lib\\site-packages\\statsmodels\\tsa\\statespace\\sarimax.py:997: UserWarning: Non-stationary starting seasonal autoregressive Using zeros as starting parameters.\n",
      "  warn('Non-stationary starting seasonal autoregressive'\n"
     ]
    },
    {
     "data": {
      "text/html": [
       "<table class=\"simpletable\">\n",
       "<caption>SARIMAX Results</caption>\n",
       "<tr>\n",
       "  <th>Dep. Variable:</th>               <td>Humidity</td>             <th>  No. Observations:  </th>    <td>144</td>  \n",
       "</tr>\n",
       "<tr>\n",
       "  <th>Model:</th>           <td>SARIMAX(1, 0, 2)x(1, 0, [1], 12)</td> <th>  Log Likelihood     </th> <td>-396.092</td>\n",
       "</tr>\n",
       "<tr>\n",
       "  <th>Date:</th>                    <td>Tue, 26 Apr 2022</td>         <th>  AIC                </th>  <td>804.184</td>\n",
       "</tr>\n",
       "<tr>\n",
       "  <th>Time:</th>                        <td>21:13:19</td>             <th>  BIC                </th>  <td>822.003</td>\n",
       "</tr>\n",
       "<tr>\n",
       "  <th>Sample:</th>                     <td>01-01-2010</td>            <th>  HQIC               </th>  <td>811.425</td>\n",
       "</tr>\n",
       "<tr>\n",
       "  <th></th>                           <td>- 12-01-2021</td>           <th>                     </th>     <td> </td>   \n",
       "</tr>\n",
       "<tr>\n",
       "  <th>Covariance Type:</th>                <td>opg</td>               <th>                     </th>     <td> </td>   \n",
       "</tr>\n",
       "</table>\n",
       "<table class=\"simpletable\">\n",
       "<tr>\n",
       "      <td></td>        <th>coef</th>     <th>std err</th>      <th>z</th>      <th>P>|z|</th>  <th>[0.025</th>    <th>0.975]</th>  \n",
       "</tr>\n",
       "<tr>\n",
       "  <th>ar.L1</th>    <td>    0.9990</td> <td>    0.002</td> <td>  416.257</td> <td> 0.000</td> <td>    0.994</td> <td>    1.004</td>\n",
       "</tr>\n",
       "<tr>\n",
       "  <th>ma.L1</th>    <td>   -0.7069</td> <td>    0.083</td> <td>   -8.567</td> <td> 0.000</td> <td>   -0.869</td> <td>   -0.545</td>\n",
       "</tr>\n",
       "<tr>\n",
       "  <th>ma.L2</th>    <td>   -0.2254</td> <td>    0.085</td> <td>   -2.651</td> <td> 0.008</td> <td>   -0.392</td> <td>   -0.059</td>\n",
       "</tr>\n",
       "<tr>\n",
       "  <th>ar.S.L12</th> <td>    0.9979</td> <td>    0.011</td> <td>   89.805</td> <td> 0.000</td> <td>    0.976</td> <td>    1.020</td>\n",
       "</tr>\n",
       "<tr>\n",
       "  <th>ma.S.L12</th> <td>   -0.9414</td> <td>    0.137</td> <td>   -6.885</td> <td> 0.000</td> <td>   -1.209</td> <td>   -0.673</td>\n",
       "</tr>\n",
       "<tr>\n",
       "  <th>sigma2</th>   <td>   11.8587</td> <td>    2.116</td> <td>    5.605</td> <td> 0.000</td> <td>    7.712</td> <td>   16.005</td>\n",
       "</tr>\n",
       "</table>\n",
       "<table class=\"simpletable\">\n",
       "<tr>\n",
       "  <th>Ljung-Box (L1) (Q):</th>     <td>0.33</td> <th>  Jarque-Bera (JB):  </th> <td>1.63</td> \n",
       "</tr>\n",
       "<tr>\n",
       "  <th>Prob(Q):</th>                <td>0.56</td> <th>  Prob(JB):          </th> <td>0.44</td> \n",
       "</tr>\n",
       "<tr>\n",
       "  <th>Heteroskedasticity (H):</th> <td>1.56</td> <th>  Skew:              </th> <td>-0.26</td>\n",
       "</tr>\n",
       "<tr>\n",
       "  <th>Prob(H) (two-sided):</th>    <td>0.13</td> <th>  Kurtosis:          </th> <td>3.00</td> \n",
       "</tr>\n",
       "</table><br/><br/>Warnings:<br/>[1] Covariance matrix calculated using the outer product of gradients (complex-step)."
      ],
      "text/plain": [
       "<class 'statsmodels.iolib.summary.Summary'>\n",
       "\"\"\"\n",
       "                                      SARIMAX Results                                       \n",
       "============================================================================================\n",
       "Dep. Variable:                             Humidity   No. Observations:                  144\n",
       "Model:             SARIMAX(1, 0, 2)x(1, 0, [1], 12)   Log Likelihood                -396.092\n",
       "Date:                              Tue, 26 Apr 2022   AIC                            804.184\n",
       "Time:                                      21:13:19   BIC                            822.003\n",
       "Sample:                                  01-01-2010   HQIC                           811.425\n",
       "                                       - 12-01-2021                                         \n",
       "Covariance Type:                                opg                                         \n",
       "==============================================================================\n",
       "                 coef    std err          z      P>|z|      [0.025      0.975]\n",
       "------------------------------------------------------------------------------\n",
       "ar.L1          0.9990      0.002    416.257      0.000       0.994       1.004\n",
       "ma.L1         -0.7069      0.083     -8.567      0.000      -0.869      -0.545\n",
       "ma.L2         -0.2254      0.085     -2.651      0.008      -0.392      -0.059\n",
       "ar.S.L12       0.9979      0.011     89.805      0.000       0.976       1.020\n",
       "ma.S.L12      -0.9414      0.137     -6.885      0.000      -1.209      -0.673\n",
       "sigma2        11.8587      2.116      5.605      0.000       7.712      16.005\n",
       "===================================================================================\n",
       "Ljung-Box (L1) (Q):                   0.33   Jarque-Bera (JB):                 1.63\n",
       "Prob(Q):                              0.56   Prob(JB):                         0.44\n",
       "Heteroskedasticity (H):               1.56   Skew:                            -0.26\n",
       "Prob(H) (two-sided):                  0.13   Kurtosis:                         3.00\n",
       "===================================================================================\n",
       "\n",
       "Warnings:\n",
       "[1] Covariance matrix calculated using the outer product of gradients (complex-step).\n",
       "\"\"\""
      ]
     },
     "execution_count": 23,
     "metadata": {},
     "output_type": "execute_result"
    }
   ],
   "source": [
    "model=sm.tsa.statespace.SARIMAX(hum[\"Humidity\"].astype('float'),order=(1, 0, 2),seasonal_order=(1,0,1,12))\n",
    "results=model.fit()\n",
    "results.summary()\n"
   ]
  },
  {
   "cell_type": "code",
   "execution_count": 28,
   "metadata": {},
   "outputs": [
    {
     "data": {
      "text/html": [
       "<div>\n",
       "<style scoped>\n",
       "    .dataframe tbody tr th:only-of-type {\n",
       "        vertical-align: middle;\n",
       "    }\n",
       "\n",
       "    .dataframe tbody tr th {\n",
       "        vertical-align: top;\n",
       "    }\n",
       "\n",
       "    .dataframe thead th {\n",
       "        text-align: right;\n",
       "    }\n",
       "</style>\n",
       "<table border=\"1\" class=\"dataframe\">\n",
       "  <thead>\n",
       "    <tr style=\"text-align: right;\">\n",
       "      <th></th>\n",
       "      <th>Humidity</th>\n",
       "    </tr>\n",
       "    <tr>\n",
       "      <th>Time</th>\n",
       "      <th></th>\n",
       "    </tr>\n",
       "  </thead>\n",
       "  <tbody>\n",
       "    <tr>\n",
       "      <th>2021-08-01</th>\n",
       "      <td>80.0</td>\n",
       "    </tr>\n",
       "    <tr>\n",
       "      <th>2021-09-01</th>\n",
       "      <td>82.0</td>\n",
       "    </tr>\n",
       "    <tr>\n",
       "      <th>2021-10-01</th>\n",
       "      <td>82.0</td>\n",
       "    </tr>\n",
       "    <tr>\n",
       "      <th>2021-11-01</th>\n",
       "      <td>85.0</td>\n",
       "    </tr>\n",
       "    <tr>\n",
       "      <th>2021-12-01</th>\n",
       "      <td>75.0</td>\n",
       "    </tr>\n",
       "  </tbody>\n",
       "</table>\n",
       "</div>"
      ],
      "text/plain": [
       "            Humidity\n",
       "Time                \n",
       "2021-08-01      80.0\n",
       "2021-09-01      82.0\n",
       "2021-10-01      82.0\n",
       "2021-11-01      85.0\n",
       "2021-12-01      75.0"
      ]
     },
     "execution_count": 28,
     "metadata": {},
     "output_type": "execute_result"
    }
   ],
   "source": [
    "hum.tail()"
   ]
  },
  {
   "cell_type": "code",
   "execution_count": 29,
   "metadata": {},
   "outputs": [],
   "source": [
    "beg_dt='2025-01-01'\n",
    "end_dt='2025-12-01'"
   ]
  },
  {
   "cell_type": "code",
   "execution_count": 30,
   "metadata": {},
   "outputs": [
    {
     "name": "stderr",
     "output_type": "stream",
     "text": [
      "C:\\Users\\wasan\\anaconda3\\lib\\site-packages\\statsmodels\\tsa\\base\\tsa_model.py:132: FutureWarning: The 'freq' argument in Timestamp is deprecated and will be removed in a future version.\n",
      "  date_key = Timestamp(key, freq=base_index.freq)\n",
      "C:\\Users\\wasan\\anaconda3\\lib\\site-packages\\statsmodels\\tsa\\statespace\\kalman_filter.py:2290: ValueWarning: Dynamic prediction specified to begin during out-of-sample forecasting period, and so has no effect.\n",
      "  warn('Dynamic prediction specified to begin during'\n"
     ]
    },
    {
     "data": {
      "text/plain": [
       "2025-01-01    72.712846\n",
       "2025-02-01    71.518634\n",
       "2025-03-01    72.520385\n",
       "2025-04-01    77.087460\n",
       "2025-05-01    80.198963\n",
       "2025-06-01    79.909898\n",
       "2025-07-01    78.044510\n",
       "2025-08-01    78.302095\n",
       "2025-09-01    79.681352\n",
       "2025-10-01    80.462288\n",
       "2025-11-01    80.247134\n",
       "2025-12-01    77.813034\n",
       "Freq: MS, Name: predicted_mean, dtype: float64"
      ]
     },
     "execution_count": 30,
     "metadata": {},
     "output_type": "execute_result"
    }
   ],
   "source": [
    "results.predict(start=beg_dt,end=end_dt,dynamic=True)"
   ]
  },
  {
   "cell_type": "code",
   "execution_count": 52,
   "metadata": {},
   "outputs": [
    {
     "name": "stderr",
     "output_type": "stream",
     "text": [
      "C:\\Users\\wasan\\anaconda3\\lib\\site-packages\\statsmodels\\tsa\\base\\tsa_model.py:132: FutureWarning: The 'freq' argument in Timestamp is deprecated and will be removed in a future version.\n",
      "  date_key = Timestamp(key, freq=base_index.freq)\n"
     ]
    },
    {
     "data": {
      "text/plain": [
       "<AxesSubplot:xlabel='Time'>"
      ]
     },
     "execution_count": 52,
     "metadata": {},
     "output_type": "execute_result"
    },
    {
     "data": {
      "image/png": "[encoded data removed]",
      "text/plain": [
       "<Figure size 864x576 with 1 Axes>"
      ]
     },
     "metadata": {
      "needs_background": "light"
     },
     "output_type": "display_data"
    }
   ],
   "source": [
    "hum['forecast']=results.predict(start=beg_dt,end=end_dt,dynamic=True)\n",
    "hum[['Humidity','forecast']].plot(figsize=(12,8))\n"
   ]
  },
  {
   "cell_type": "code",
   "execution_count": 53,
   "metadata": {},
   "outputs": [
    {
     "data": {
      "text/html": [
       "<div>\n",
       "<style scoped>\n",
       "    .dataframe tbody tr th:only-of-type {\n",
       "        vertical-align: middle;\n",
       "    }\n",
       "\n",
       "    .dataframe tbody tr th {\n",
       "        vertical-align: top;\n",
       "    }\n",
       "\n",
       "    .dataframe thead th {\n",
       "        text-align: right;\n",
       "    }\n",
       "</style>\n",
       "<table border=\"1\" class=\"dataframe\">\n",
       "  <thead>\n",
       "    <tr style=\"text-align: right;\">\n",
       "      <th></th>\n",
       "      <th>Humidity</th>\n",
       "      <th>forecast</th>\n",
       "    </tr>\n",
       "    <tr>\n",
       "      <th>Time</th>\n",
       "      <th></th>\n",
       "      <th></th>\n",
       "    </tr>\n",
       "  </thead>\n",
       "  <tbody>\n",
       "    <tr>\n",
       "      <th>2021-08-01</th>\n",
       "      <td>80.0</td>\n",
       "      <td>76.589337</td>\n",
       "    </tr>\n",
       "    <tr>\n",
       "      <th>2021-09-01</th>\n",
       "      <td>82.0</td>\n",
       "      <td>77.089718</td>\n",
       "    </tr>\n",
       "    <tr>\n",
       "      <th>2021-10-01</th>\n",
       "      <td>82.0</td>\n",
       "      <td>77.835960</td>\n",
       "    </tr>\n",
       "    <tr>\n",
       "      <th>2021-11-01</th>\n",
       "      <td>85.0</td>\n",
       "      <td>78.234660</td>\n",
       "    </tr>\n",
       "    <tr>\n",
       "      <th>2021-12-01</th>\n",
       "      <td>75.0</td>\n",
       "      <td>76.464655</td>\n",
       "    </tr>\n",
       "  </tbody>\n",
       "</table>\n",
       "</div>"
      ],
      "text/plain": [
       "            Humidity   forecast\n",
       "Time                           \n",
       "2021-08-01      80.0  76.589337\n",
       "2021-09-01      82.0  77.089718\n",
       "2021-10-01      82.0  77.835960\n",
       "2021-11-01      85.0  78.234660\n",
       "2021-12-01      75.0  76.464655"
      ]
     },
     "execution_count": 53,
     "metadata": {},
     "output_type": "execute_result"
    }
   ],
   "source": [
    "hum.tail()\n"
   ]
  },
  {
   "cell_type": "code",
   "execution_count": null,
   "metadata": {},
   "outputs": [],
   "source": []
  },
  {
   "cell_type": "code",
   "execution_count": null,
   "metadata": {},
   "outputs": [],
   "source": []
  },
  {
   "cell_type": "code",
   "execution_count": null,
   "metadata": {},
   "outputs": [],
   "source": []
  },
  {
   "cell_type": "code",
   "execution_count": null,
   "metadata": {},
   "outputs": [],
   "source": []
  },
  {
   "cell_type": "code",
   "execution_count": null,
   "metadata": {},
   "outputs": [],
   "source": []
  },
  {
   "cell_type": "code",
   "execution_count": null,
   "metadata": {},
   "outputs": [],
   "source": []
  },
  {
   "cell_type": "code",
   "execution_count": null,
   "metadata": {},
   "outputs": [],
   "source": []
  },
  {
   "cell_type": "code",
   "execution_count": null,
   "metadata": {},
   "outputs": [],
   "source": []
  },
  {
   "cell_type": "code",
   "execution_count": null,
   "metadata": {},
   "outputs": [],
   "source": []
  }
 ],
 "metadata": {
  "kernelspec": {
   "display_name": "Python 3 (ipykernel)",
   "language": "python",
   "name": "python3"
  },
  "language_info": {
   "codemirror_mode": {
    "name": "ipython",
    "version": 3
   },
   "file_extension": ".py",
   "mimetype": "text/x-python",
   "name": "python",
   "nbconvert_exporter": "python",
   "pygments_lexer": "ipython3",
   "version": "3.9.7"
  }
 },
 "nbformat": 4,
 "nbformat_minor": 4
}
