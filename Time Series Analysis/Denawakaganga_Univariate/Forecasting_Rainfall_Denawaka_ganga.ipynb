{
 "cells": [
  {
   "cell_type": "markdown",
   "metadata": {},
   "source": [
    "# Weather Forecasting\n",
    "            1. Slicing dataset \n",
    "            2. Data Pre-processing\n",
    "            3. Visualize the Time Series Data\n",
    "            4. Plot the correlation and AutoCorrelation Charts\n",
    "            4. Consruct the ARIMA model and SARIMA based on the data"
   ]
  },
  {
   "cell_type": "code",
   "execution_count": 1,
   "metadata": {},
   "outputs": [],
   "source": [
    "import numpy as np\n",
    "import pandas as pd\n",
    "import matplotlib.pyplot as plt\n",
    "%matplotlib inline\n",
    "from statsmodels.tsa.stattools import adfuller \n",
    "from statsmodels.graphics.tsaplots import plot_acf,plot_pacf\n",
    "import statsmodels.api as sm\n",
    "from sklearn.metrics import mean_absolute_error\n",
    "from statsmodels.tsa.arima_model import ARIMA\n",
    "from math import sqrt\n",
    "from pmdarima import auto_arima\n",
    "\n",
    "\n",
    "\n"
   ]
  },
  {
   "cell_type": "code",
   "execution_count": 3,
   "metadata": {},
   "outputs": [
    {
     "data": {
      "text/html": [
       "<div>\n",
       "<style scoped>\n",
       "    .dataframe tbody tr th:only-of-type {\n",
       "        vertical-align: middle;\n",
       "    }\n",
       "\n",
       "    .dataframe tbody tr th {\n",
       "        vertical-align: top;\n",
       "    }\n",
       "\n",
       "    .dataframe thead th {\n",
       "        text-align: right;\n",
       "    }\n",
       "</style>\n",
       "<table border=\"1\" class=\"dataframe\">\n",
       "  <thead>\n",
       "    <tr style=\"text-align: right;\">\n",
       "      <th></th>\n",
       "      <th>Year</th>\n",
       "      <th>Month</th>\n",
       "      <th>Rainfall</th>\n",
       "      <th>Temp_min</th>\n",
       "      <th>Temp_max</th>\n",
       "      <th>Hum_min</th>\n",
       "      <th>Hum_max</th>\n",
       "    </tr>\n",
       "  </thead>\n",
       "  <tbody>\n",
       "    <tr>\n",
       "      <th>0</th>\n",
       "      <td>2010</td>\n",
       "      <td>January</td>\n",
       "      <td>233.6</td>\n",
       "      <td>22.1</td>\n",
       "      <td>32.1</td>\n",
       "      <td>NaN</td>\n",
       "      <td>NaN</td>\n",
       "    </tr>\n",
       "    <tr>\n",
       "      <th>1</th>\n",
       "      <td>2010</td>\n",
       "      <td>February</td>\n",
       "      <td>111.9</td>\n",
       "      <td>22.6</td>\n",
       "      <td>33.9</td>\n",
       "      <td>NaN</td>\n",
       "      <td>NaN</td>\n",
       "    </tr>\n",
       "    <tr>\n",
       "      <th>2</th>\n",
       "      <td>2010</td>\n",
       "      <td>March</td>\n",
       "      <td>157.5</td>\n",
       "      <td>23.1</td>\n",
       "      <td>35.2</td>\n",
       "      <td>NaN</td>\n",
       "      <td>NaN</td>\n",
       "    </tr>\n",
       "    <tr>\n",
       "      <th>3</th>\n",
       "      <td>2010</td>\n",
       "      <td>April</td>\n",
       "      <td>438.3</td>\n",
       "      <td>23.7</td>\n",
       "      <td>33.5</td>\n",
       "      <td>NaN</td>\n",
       "      <td>NaN</td>\n",
       "    </tr>\n",
       "    <tr>\n",
       "      <th>4</th>\n",
       "      <td>2010</td>\n",
       "      <td>May</td>\n",
       "      <td>658.5</td>\n",
       "      <td>24.0</td>\n",
       "      <td>31.8</td>\n",
       "      <td>NaN</td>\n",
       "      <td>NaN</td>\n",
       "    </tr>\n",
       "  </tbody>\n",
       "</table>\n",
       "</div>"
      ],
      "text/plain": [
       "   Year     Month  Rainfall  Temp_min  Temp_max  Hum_min  Hum_max\n",
       "0  2010   January     233.6      22.1      32.1      NaN      NaN\n",
       "1  2010  February     111.9      22.6      33.9      NaN      NaN\n",
       "2  2010     March     157.5      23.1      35.2      NaN      NaN\n",
       "3  2010     April     438.3      23.7      33.5      NaN      NaN\n",
       "4  2010       May     658.5      24.0      31.8      NaN      NaN"
      ]
     },
     "execution_count": 3,
     "metadata": {},
     "output_type": "execute_result"
    }
   ],
   "source": [
    "df=pd.read_csv('Denawaka_project.csv')\n",
    "df.head()\n",
    "\n",
    "\n"
   ]
  },
  {
   "cell_type": "code",
   "execution_count": 4,
   "metadata": {},
   "outputs": [],
   "source": [
    "df[\"Time\"]=df[\"Year\"].astype(str)+\"-\"+df[\"Month\"].astype(str)\n",
    "\n",
    "\n"
   ]
  },
  {
   "cell_type": "code",
   "execution_count": 5,
   "metadata": {},
   "outputs": [],
   "source": [
    "#Creating time column\n",
    "df['Time'] = pd.to_datetime(df['Time'])"
   ]
  },
  {
   "cell_type": "code",
   "execution_count": 6,
   "metadata": {},
   "outputs": [
    {
     "data": {
      "text/html": [
       "<div>\n",
       "<style scoped>\n",
       "    .dataframe tbody tr th:only-of-type {\n",
       "        vertical-align: middle;\n",
       "    }\n",
       "\n",
       "    .dataframe tbody tr th {\n",
       "        vertical-align: top;\n",
       "    }\n",
       "\n",
       "    .dataframe thead th {\n",
       "        text-align: right;\n",
       "    }\n",
       "</style>\n",
       "<table border=\"1\" class=\"dataframe\">\n",
       "  <thead>\n",
       "    <tr style=\"text-align: right;\">\n",
       "      <th></th>\n",
       "      <th>Year</th>\n",
       "      <th>Month</th>\n",
       "      <th>Rainfall</th>\n",
       "      <th>Temp_min</th>\n",
       "      <th>Temp_max</th>\n",
       "      <th>Hum_min</th>\n",
       "      <th>Hum_max</th>\n",
       "      <th>Time</th>\n",
       "    </tr>\n",
       "  </thead>\n",
       "  <tbody>\n",
       "    <tr>\n",
       "      <th>0</th>\n",
       "      <td>2010</td>\n",
       "      <td>January</td>\n",
       "      <td>233.6</td>\n",
       "      <td>22.1</td>\n",
       "      <td>32.1</td>\n",
       "      <td>NaN</td>\n",
       "      <td>NaN</td>\n",
       "      <td>2010-01-01</td>\n",
       "    </tr>\n",
       "    <tr>\n",
       "      <th>1</th>\n",
       "      <td>2010</td>\n",
       "      <td>February</td>\n",
       "      <td>111.9</td>\n",
       "      <td>22.6</td>\n",
       "      <td>33.9</td>\n",
       "      <td>NaN</td>\n",
       "      <td>NaN</td>\n",
       "      <td>2010-02-01</td>\n",
       "    </tr>\n",
       "    <tr>\n",
       "      <th>2</th>\n",
       "      <td>2010</td>\n",
       "      <td>March</td>\n",
       "      <td>157.5</td>\n",
       "      <td>23.1</td>\n",
       "      <td>35.2</td>\n",
       "      <td>NaN</td>\n",
       "      <td>NaN</td>\n",
       "      <td>2010-03-01</td>\n",
       "    </tr>\n",
       "    <tr>\n",
       "      <th>3</th>\n",
       "      <td>2010</td>\n",
       "      <td>April</td>\n",
       "      <td>438.3</td>\n",
       "      <td>23.7</td>\n",
       "      <td>33.5</td>\n",
       "      <td>NaN</td>\n",
       "      <td>NaN</td>\n",
       "      <td>2010-04-01</td>\n",
       "    </tr>\n",
       "    <tr>\n",
       "      <th>4</th>\n",
       "      <td>2010</td>\n",
       "      <td>May</td>\n",
       "      <td>658.5</td>\n",
       "      <td>24.0</td>\n",
       "      <td>31.8</td>\n",
       "      <td>NaN</td>\n",
       "      <td>NaN</td>\n",
       "      <td>2010-05-01</td>\n",
       "    </tr>\n",
       "  </tbody>\n",
       "</table>\n",
       "</div>"
      ],
      "text/plain": [
       "   Year     Month  Rainfall  Temp_min  Temp_max  Hum_min  Hum_max       Time\n",
       "0  2010   January     233.6      22.1      32.1      NaN      NaN 2010-01-01\n",
       "1  2010  February     111.9      22.6      33.9      NaN      NaN 2010-02-01\n",
       "2  2010     March     157.5      23.1      35.2      NaN      NaN 2010-03-01\n",
       "3  2010     April     438.3      23.7      33.5      NaN      NaN 2010-04-01\n",
       "4  2010       May     658.5      24.0      31.8      NaN      NaN 2010-05-01"
      ]
     },
     "execution_count": 6,
     "metadata": {},
     "output_type": "execute_result"
    }
   ],
   "source": [
    "df.head()\n"
   ]
  },
  {
   "cell_type": "code",
   "execution_count": 7,
   "metadata": {},
   "outputs": [
    {
     "data": {
      "text/html": [
       "<div>\n",
       "<style scoped>\n",
       "    .dataframe tbody tr th:only-of-type {\n",
       "        vertical-align: middle;\n",
       "    }\n",
       "\n",
       "    .dataframe tbody tr th {\n",
       "        vertical-align: top;\n",
       "    }\n",
       "\n",
       "    .dataframe thead th {\n",
       "        text-align: right;\n",
       "    }\n",
       "</style>\n",
       "<table border=\"1\" class=\"dataframe\">\n",
       "  <thead>\n",
       "    <tr style=\"text-align: right;\">\n",
       "      <th></th>\n",
       "      <th>Time</th>\n",
       "      <th>Rainfall</th>\n",
       "    </tr>\n",
       "  </thead>\n",
       "  <tbody>\n",
       "    <tr>\n",
       "      <th>0</th>\n",
       "      <td>2010-01-01</td>\n",
       "      <td>233.6</td>\n",
       "    </tr>\n",
       "    <tr>\n",
       "      <th>1</th>\n",
       "      <td>2010-02-01</td>\n",
       "      <td>111.9</td>\n",
       "    </tr>\n",
       "    <tr>\n",
       "      <th>2</th>\n",
       "      <td>2010-03-01</td>\n",
       "      <td>157.5</td>\n",
       "    </tr>\n",
       "    <tr>\n",
       "      <th>3</th>\n",
       "      <td>2010-04-01</td>\n",
       "      <td>438.3</td>\n",
       "    </tr>\n",
       "    <tr>\n",
       "      <th>4</th>\n",
       "      <td>2010-05-01</td>\n",
       "      <td>658.5</td>\n",
       "    </tr>\n",
       "  </tbody>\n",
       "</table>\n",
       "</div>"
      ],
      "text/plain": [
       "        Time  Rainfall\n",
       "0 2010-01-01     233.6\n",
       "1 2010-02-01     111.9\n",
       "2 2010-03-01     157.5\n",
       "3 2010-04-01     438.3\n",
       "4 2010-05-01     658.5"
      ]
     },
     "execution_count": 7,
     "metadata": {},
     "output_type": "execute_result"
    }
   ],
   "source": [
    "rainfall=df[[\"Time\",\"Rainfall\"]]\n",
    "rainfall.head()\n",
    "\n"
   ]
  },
  {
   "cell_type": "markdown",
   "metadata": {},
   "source": [
    "Slicing dataset into different time series"
   ]
  },
  {
   "cell_type": "markdown",
   "metadata": {},
   "source": [
    "#                                        Forecasting rainfall"
   ]
  },
  {
   "cell_type": "code",
   "execution_count": 8,
   "metadata": {},
   "outputs": [
    {
     "data": {
      "text/plain": [
       "Time        0\n",
       "Rainfall    0\n",
       "dtype: int64"
      ]
     },
     "execution_count": 8,
     "metadata": {},
     "output_type": "execute_result"
    }
   ],
   "source": [
    "#Checking for missing values\n",
    "rainfall.isna().sum()\n"
   ]
  },
  {
   "cell_type": "code",
   "execution_count": 9,
   "metadata": {},
   "outputs": [],
   "source": [
    "rainfall.set_index('Time',inplace=True)"
   ]
  },
  {
   "cell_type": "code",
   "execution_count": 10,
   "metadata": {},
   "outputs": [],
   "source": [
    "rainfall=rainfall.resample('MS').first()"
   ]
  },
  {
   "cell_type": "code",
   "execution_count": 11,
   "metadata": {},
   "outputs": [
    {
     "data": {
      "text/html": [
       "<div>\n",
       "<style scoped>\n",
       "    .dataframe tbody tr th:only-of-type {\n",
       "        vertical-align: middle;\n",
       "    }\n",
       "\n",
       "    .dataframe tbody tr th {\n",
       "        vertical-align: top;\n",
       "    }\n",
       "\n",
       "    .dataframe thead th {\n",
       "        text-align: right;\n",
       "    }\n",
       "</style>\n",
       "<table border=\"1\" class=\"dataframe\">\n",
       "  <thead>\n",
       "    <tr style=\"text-align: right;\">\n",
       "      <th></th>\n",
       "      <th>Rainfall</th>\n",
       "    </tr>\n",
       "    <tr>\n",
       "      <th>Time</th>\n",
       "      <th></th>\n",
       "    </tr>\n",
       "  </thead>\n",
       "  <tbody>\n",
       "    <tr>\n",
       "      <th>2010-01-01</th>\n",
       "      <td>233.6</td>\n",
       "    </tr>\n",
       "    <tr>\n",
       "      <th>2010-02-01</th>\n",
       "      <td>111.9</td>\n",
       "    </tr>\n",
       "    <tr>\n",
       "      <th>2010-03-01</th>\n",
       "      <td>157.5</td>\n",
       "    </tr>\n",
       "    <tr>\n",
       "      <th>2010-04-01</th>\n",
       "      <td>438.3</td>\n",
       "    </tr>\n",
       "    <tr>\n",
       "      <th>2010-05-01</th>\n",
       "      <td>658.5</td>\n",
       "    </tr>\n",
       "  </tbody>\n",
       "</table>\n",
       "</div>"
      ],
      "text/plain": [
       "            Rainfall\n",
       "Time                \n",
       "2010-01-01     233.6\n",
       "2010-02-01     111.9\n",
       "2010-03-01     157.5\n",
       "2010-04-01     438.3\n",
       "2010-05-01     658.5"
      ]
     },
     "execution_count": 11,
     "metadata": {},
     "output_type": "execute_result"
    }
   ],
   "source": [
    "#filling missing values\n",
    "rain=rainfall.fillna(method='bfill')\n",
    "rain.head()\n",
    "\n"
   ]
  },
  {
   "cell_type": "code",
   "execution_count": 12,
   "metadata": {},
   "outputs": [
    {
     "data": {
      "text/plain": [
       "Rainfall    0\n",
       "dtype: int64"
      ]
     },
     "execution_count": 12,
     "metadata": {},
     "output_type": "execute_result"
    }
   ],
   "source": [
    "#Checking for missing values\n",
    "rain.isna().sum()"
   ]
  },
  {
   "cell_type": "markdown",
   "metadata": {},
   "source": [
    "#  Visualize the Data"
   ]
  },
  {
   "cell_type": "code",
   "execution_count": 13,
   "metadata": {},
   "outputs": [
    {
     "data": {
      "text/plain": [
       "<AxesSubplot:xlabel='Time'>"
      ]
     },
     "execution_count": 13,
     "metadata": {},
     "output_type": "execute_result"
    },
    {
     "data": {
      "image/png": "[encoded data removed]",
      "text/plain": [
       "<Figure size 864x576 with 1 Axes>"
      ]
     },
     "metadata": {
      "needs_background": "light"
     },
     "output_type": "display_data"
    }
   ],
   "source": [
    "rain.plot(figsize=(12,8))\n"
   ]
  },
  {
   "cell_type": "markdown",
   "metadata": {},
   "source": [
    "No significant trend. But it can be seen that there is some evidence for seasonality. "
   ]
  },
  {
   "cell_type": "markdown",
   "metadata": {},
   "source": [
    "# Testing For Stationarity"
   ]
  },
  {
   "cell_type": "code",
   "execution_count": 14,
   "metadata": {},
   "outputs": [
    {
     "name": "stdout",
     "output_type": "stream",
     "text": [
      "ADF Test Statistic : -3.89004730480056\n",
      "p-value : 0.002109326728912184\n",
      "#Lags Used : 13\n",
      "Number of Observations Used : 130\n",
      "strong evidence against the null hypothesis(Ho), reject the null hypothesis. Data has no unit root and is stationary\n"
     ]
    }
   ],
   "source": [
    "### ADF Test\n",
    "test_result=adfuller(rain['Rainfall'])\n",
    "#Ho: The series is non stationary\n",
    "#H1: The series is stationary\n",
    "\n",
    "def adfuller_test(rainfall):\n",
    "    result=adfuller(rainfall)\n",
    "    labels = ['ADF Test Statistic','p-value','#Lags Used','Number of Observations Used']\n",
    "    for value,label in zip(result,labels):\n",
    "        print(label+' : '+str(value) )\n",
    "    if result[1] <= 0.05:\n",
    "        print(\"strong evidence against the null hypothesis(Ho), reject the null hypothesis. Data has no unit root and is stationary\")\n",
    "    else:\n",
    "        print(\"weak evidence against null hypothesis, time series has a unit root, indicating it is non-stationary \")\n",
    "    \n",
    "adfuller_test(rain['Rainfall'])\n"
   ]
  },
  {
   "cell_type": "code",
   "execution_count": 15,
   "metadata": {},
   "outputs": [
    {
     "name": "stdout",
     "output_type": "stream",
     "text": [
      "KPSS Statistic: 0.06801147225081985\n",
      "p-value: 0.1\n",
      "num lags: 14\n",
      "Critial Values:\n",
      "   10% : 0.347\n",
      "   5% : 0.463\n",
      "   2.5% : 0.574\n",
      "   1% : 0.739\n",
      "Result: The series is stationary\n"
     ]
    },
    {
     "name": "stderr",
     "output_type": "stream",
     "text": [
      "C:\\Users\\wasan\\anaconda3\\lib\\site-packages\\statsmodels\\tsa\\stattools.py:1875: FutureWarning: The behavior of using nlags=None will change in release 0.13.Currently nlags=None is the same as nlags=\"legacy\", and so a sample-size lag length is used. After the next release, the default will change to be the same as nlags=\"auto\" which uses an automatic lag length selection method. To silence this warning, either use \"auto\" or \"legacy\"\n",
      "  warnings.warn(msg, FutureWarning)\n",
      "C:\\Users\\wasan\\anaconda3\\lib\\site-packages\\statsmodels\\tsa\\stattools.py:1910: InterpolationWarning: The test statistic is outside of the range of p-values available in the\n",
      "look-up table. The actual p-value is greater than the p-value returned.\n",
      "\n",
      "  warnings.warn(\n"
     ]
    }
   ],
   "source": [
    "# KPSS test\n",
    "from statsmodels.tsa.stattools import kpss\n",
    "def kpss_test(series, **kw):    \n",
    "    statistic, p_value, n_lags, critical_values = kpss(series, **kw)\n",
    "    # Format Output\n",
    "    print(f'KPSS Statistic: {statistic}')\n",
    "    print(f'p-value: {p_value}')\n",
    "    print(f'num lags: {n_lags}')\n",
    "    print('Critial Values:')\n",
    "    for key, value in critical_values.items():\n",
    "        print(f'   {key} : {value}')\n",
    "    print(f'Result: The series is {\"not \" if p_value < 0.05 else \"\"}stationary')\n",
    "\n",
    "kpss_test(rain['Rainfall'])\n"
   ]
  },
  {
   "cell_type": "code",
   "execution_count": 16,
   "metadata": {},
   "outputs": [
    {
     "name": "stdout",
     "output_type": "stream",
     "text": [
      "     Phillips-Perron Test (Z-tau)    \n",
      "=====================================\n",
      "Test Statistic                 -8.526\n",
      "P-value                         0.000\n",
      "Lags                               14\n",
      "-------------------------------------\n",
      "\n",
      "Trend: Constant\n",
      "Critical Values: -3.48 (1%), -2.88 (5%), -2.58 (10%)\n",
      "Null Hypothesis: The process contains a unit root.\n",
      "Alternative Hypothesis: The process is weakly stationary.\n"
     ]
    }
   ],
   "source": [
    "#PhillipsPerron Test\n",
    "from arch.unitroot import PhillipsPerron\n",
    "\n",
    "pp = PhillipsPerron(rain['Rainfall'])\n",
    "print(pp.summary().as_text())\n"
   ]
  },
  {
   "cell_type": "markdown",
   "metadata": {},
   "source": [
    "# ACF and PACF plots"
   ]
  },
  {
   "cell_type": "code",
   "execution_count": 17,
   "metadata": {},
   "outputs": [
    {
     "data": {
      "image/png": "[encoded data removed]",
      "text/plain": [
       "<Figure size 864x576 with 2 Axes>"
      ]
     },
     "metadata": {
      "needs_background": "light"
     },
     "output_type": "display_data"
    }
   ],
   "source": [
    "fig = plt.figure(figsize=(12,8))\n",
    "ax1 = fig.add_subplot(211)\n",
    "fig = sm.graphics.tsa.plot_acf(rain['Rainfall'],lags=40,ax=ax1)\n",
    "ax2 = fig.add_subplot(212)\n",
    "fig = sm.graphics.tsa.plot_pacf(rain['Rainfall'],lags=40,ax=ax2)\n"
   ]
  },
  {
   "cell_type": "markdown",
   "metadata": {},
   "source": [
    "Fitting ARMA model"
   ]
  },
  {
   "cell_type": "code",
   "execution_count": 18,
   "metadata": {},
   "outputs": [
    {
     "name": "stdout",
     "output_type": "stream",
     "text": [
      " ARIMA(0,0,0)(0,0,0)[12] intercept   : AIC=1915.059, Time=0.02 sec\n",
      " ARIMA(0,0,0)(0,0,1)[12] intercept   : AIC=1904.493, Time=0.20 sec\n",
      " ARIMA(0,0,0)(0,0,2)[12] intercept   : AIC=1905.007, Time=0.37 sec\n",
      " ARIMA(0,0,0)(0,0,3)[12] intercept   : AIC=1902.444, Time=0.86 sec\n",
      " ARIMA(0,0,0)(1,0,0)[12] intercept   : AIC=1901.474, Time=0.33 sec\n",
      " ARIMA(0,0,0)(1,0,1)[12] intercept   : AIC=1906.297, Time=0.33 sec\n",
      " ARIMA(0,0,0)(1,0,2)[12] intercept   : AIC=1906.958, Time=0.82 sec\n",
      " ARIMA(0,0,0)(1,0,3)[12] intercept   : AIC=1880.571, Time=3.10 sec\n",
      " ARIMA(0,0,0)(2,0,0)[12] intercept   : AIC=1901.028, Time=0.55 sec\n",
      " ARIMA(0,0,0)(2,0,1)[12] intercept   : AIC=1905.162, Time=0.77 sec\n",
      " ARIMA(0,0,0)(2,0,2)[12] intercept   : AIC=inf, Time=1.63 sec\n",
      " ARIMA(0,0,0)(2,0,3)[12] intercept   : AIC=1899.936, Time=3.75 sec\n",
      " ARIMA(0,0,0)(3,0,0)[12] intercept   : AIC=1893.522, Time=1.41 sec\n",
      " ARIMA(0,0,0)(3,0,1)[12] intercept   : AIC=inf, Time=1.77 sec\n",
      " ARIMA(0,0,0)(3,0,2)[12] intercept   : AIC=inf, Time=2.90 sec\n",
      " ARIMA(0,0,1)(0,0,0)[12] intercept   : AIC=1907.345, Time=0.11 sec\n",
      " ARIMA(0,0,1)(0,0,1)[12] intercept   : AIC=1899.203, Time=0.27 sec\n",
      " ARIMA(0,0,1)(0,0,2)[12] intercept   : AIC=1900.730, Time=0.52 sec\n",
      " ARIMA(0,0,1)(0,0,3)[12] intercept   : AIC=1898.831, Time=1.51 sec\n",
      " ARIMA(0,0,1)(1,0,0)[12] intercept   : AIC=1897.796, Time=0.32 sec\n",
      " ARIMA(0,0,1)(1,0,1)[12] intercept   : AIC=1901.003, Time=0.39 sec\n",
      " ARIMA(0,0,1)(1,0,2)[12] intercept   : AIC=1902.663, Time=0.64 sec\n",
      " ARIMA(0,0,1)(1,0,3)[12] intercept   : AIC=1880.708, Time=3.50 sec\n",
      " ARIMA(0,0,1)(2,0,0)[12] intercept   : AIC=1898.787, Time=0.70 sec\n",
      " ARIMA(0,0,1)(2,0,1)[12] intercept   : AIC=1901.724, Time=0.81 sec\n",
      " ARIMA(0,0,1)(2,0,2)[12] intercept   : AIC=inf, Time=1.53 sec\n",
      " ARIMA(0,0,1)(3,0,0)[12] intercept   : AIC=1891.872, Time=1.95 sec\n",
      " ARIMA(0,0,1)(3,0,1)[12] intercept   : AIC=inf, Time=2.73 sec\n",
      " ARIMA(0,0,2)(0,0,0)[12] intercept   : AIC=1901.886, Time=0.17 sec\n",
      " ARIMA(0,0,2)(0,0,1)[12] intercept   : AIC=1890.678, Time=0.38 sec\n",
      " ARIMA(0,0,2)(0,0,2)[12] intercept   : AIC=1892.510, Time=0.68 sec\n",
      " ARIMA(0,0,2)(0,0,3)[12] intercept   : AIC=1891.895, Time=2.18 sec\n",
      " ARIMA(0,0,2)(1,0,0)[12] intercept   : AIC=1889.867, Time=0.44 sec\n",
      " ARIMA(0,0,2)(1,0,1)[12] intercept   : AIC=1892.502, Time=0.55 sec\n",
      " ARIMA(0,0,2)(1,0,2)[12] intercept   : AIC=1894.451, Time=0.81 sec\n",
      " ARIMA(0,0,2)(2,0,0)[12] intercept   : AIC=1891.608, Time=0.71 sec\n",
      " ARIMA(0,0,2)(2,0,1)[12] intercept   : AIC=1893.800, Time=1.00 sec\n",
      " ARIMA(0,0,2)(3,0,0)[12] intercept   : AIC=1884.088, Time=2.13 sec\n",
      " ARIMA(0,0,3)(0,0,0)[12] intercept   : AIC=1897.632, Time=0.12 sec\n",
      " ARIMA(0,0,3)(0,0,1)[12] intercept   : AIC=1888.303, Time=0.38 sec\n",
      " ARIMA(0,0,3)(0,0,2)[12] intercept   : AIC=1890.045, Time=0.83 sec\n",
      " ARIMA(0,0,3)(1,0,0)[12] intercept   : AIC=1887.369, Time=0.47 sec\n",
      " ARIMA(0,0,3)(1,0,1)[12] intercept   : AIC=1890.134, Time=0.51 sec\n",
      " ARIMA(0,0,3)(2,0,0)[12] intercept   : AIC=1889.087, Time=1.01 sec\n",
      " ARIMA(1,0,0)(0,0,0)[12] intercept   : AIC=1905.415, Time=0.03 sec\n",
      " ARIMA(1,0,0)(0,0,1)[12] intercept   : AIC=1896.700, Time=0.23 sec\n",
      " ARIMA(1,0,0)(0,0,2)[12] intercept   : AIC=1898.407, Time=0.60 sec\n",
      " ARIMA(1,0,0)(0,0,3)[12] intercept   : AIC=1896.827, Time=1.62 sec\n",
      " ARIMA(1,0,0)(1,0,0)[12] intercept   : AIC=1895.619, Time=0.48 sec\n",
      " ARIMA(1,0,0)(1,0,1)[12] intercept   : AIC=1898.479, Time=0.42 sec\n",
      " ARIMA(1,0,0)(1,0,2)[12] intercept   : AIC=1900.321, Time=0.75 sec\n",
      " ARIMA(1,0,0)(1,0,3)[12] intercept   : AIC=1878.824, Time=3.17 sec\n",
      " ARIMA(1,0,0)(2,0,0)[12] intercept   : AIC=1896.985, Time=0.70 sec\n",
      " ARIMA(1,0,0)(2,0,1)[12] intercept   : AIC=1899.596, Time=1.00 sec\n",
      " ARIMA(1,0,0)(2,0,2)[12] intercept   : AIC=inf, Time=1.71 sec\n",
      " ARIMA(1,0,0)(3,0,0)[12] intercept   : AIC=1890.140, Time=2.07 sec\n",
      " ARIMA(1,0,0)(3,0,1)[12] intercept   : AIC=1880.177, Time=3.66 sec\n",
      " ARIMA(1,0,1)(0,0,0)[12] intercept   : AIC=1907.409, Time=0.18 sec\n",
      " ARIMA(1,0,1)(0,0,1)[12] intercept   : AIC=1898.313, Time=0.36 sec\n",
      " ARIMA(1,0,1)(0,0,2)[12] intercept   : AIC=1899.940, Time=0.77 sec\n",
      " ARIMA(1,0,1)(0,0,3)[12] intercept   : AIC=1898.323, Time=2.76 sec\n",
      " ARIMA(1,0,1)(1,0,0)[12] intercept   : AIC=1896.981, Time=0.57 sec\n",
      " ARIMA(1,0,1)(1,0,1)[12] intercept   : AIC=1885.447, Time=0.86 sec\n",
      " ARIMA(1,0,1)(1,0,2)[12] intercept   : AIC=1888.728, Time=1.58 sec\n",
      " ARIMA(1,0,1)(2,0,0)[12] intercept   : AIC=1898.204, Time=1.30 sec\n",
      " ARIMA(1,0,1)(2,0,1)[12] intercept   : AIC=1902.811, Time=1.57 sec\n",
      " ARIMA(1,0,1)(3,0,0)[12] intercept   : AIC=1896.603, Time=2.16 sec\n",
      " ARIMA(1,0,2)(0,0,0)[12] intercept   : AIC=1894.629, Time=0.30 sec\n",
      " ARIMA(1,0,2)(0,0,1)[12] intercept   : AIC=1883.224, Time=0.57 sec\n",
      " ARIMA(1,0,2)(0,0,2)[12] intercept   : AIC=1884.585, Time=1.09 sec\n",
      " ARIMA(1,0,2)(1,0,0)[12] intercept   : AIC=1881.393, Time=0.56 sec\n",
      " ARIMA(1,0,2)(1,0,1)[12] intercept   : AIC=1882.738, Time=0.64 sec\n",
      " ARIMA(1,0,2)(2,0,0)[12] intercept   : AIC=1882.679, Time=0.74 sec\n",
      " ARIMA(1,0,3)(0,0,0)[12] intercept   : AIC=1896.321, Time=0.36 sec\n",
      " ARIMA(1,0,3)(0,0,1)[12] intercept   : AIC=1889.350, Time=0.31 sec\n",
      " ARIMA(1,0,3)(1,0,0)[12] intercept   : AIC=1883.322, Time=0.37 sec\n",
      " ARIMA(2,0,0)(0,0,0)[12] intercept   : AIC=1907.407, Time=0.09 sec\n",
      " ARIMA(2,0,0)(0,0,1)[12] intercept   : AIC=1897.359, Time=0.39 sec\n",
      " ARIMA(2,0,0)(0,0,2)[12] intercept   : AIC=1898.920, Time=0.47 sec\n",
      " ARIMA(2,0,0)(0,0,3)[12] intercept   : AIC=1896.989, Time=2.43 sec\n",
      " ARIMA(2,0,0)(1,0,0)[12] intercept   : AIC=1895.247, Time=0.73 sec\n",
      " ARIMA(2,0,0)(1,0,1)[12] intercept   : AIC=1899.573, Time=0.59 sec\n",
      " ARIMA(2,0,0)(1,0,2)[12] intercept   : AIC=1900.846, Time=0.92 sec\n",
      " ARIMA(2,0,0)(2,0,0)[12] intercept   : AIC=1896.032, Time=0.89 sec\n",
      " ARIMA(2,0,0)(2,0,1)[12] intercept   : AIC=inf, Time=1.80 sec\n",
      " ARIMA(2,0,0)(3,0,0)[12] intercept   : AIC=1887.382, Time=3.27 sec\n",
      " ARIMA(2,0,1)(0,0,0)[12] intercept   : AIC=1902.893, Time=0.34 sec\n",
      " ARIMA(2,0,1)(0,0,1)[12] intercept   : AIC=1890.790, Time=0.34 sec\n",
      " ARIMA(2,0,1)(0,0,2)[12] intercept   : AIC=1891.571, Time=1.17 sec\n",
      " ARIMA(2,0,1)(1,0,0)[12] intercept   : AIC=1887.809, Time=0.63 sec\n",
      " ARIMA(2,0,1)(1,0,1)[12] intercept   : AIC=1878.804, Time=0.95 sec\n",
      " ARIMA(2,0,1)(2,0,0)[12] intercept   : AIC=1888.385, Time=1.40 sec\n",
      " ARIMA(2,0,2)(0,0,0)[12] intercept   : AIC=1896.422, Time=0.41 sec\n",
      " ARIMA(2,0,2)(0,0,1)[12] intercept   : AIC=1885.163, Time=0.64 sec\n",
      " ARIMA(2,0,2)(1,0,0)[12] intercept   : AIC=1883.298, Time=0.77 sec\n",
      " ARIMA(2,0,3)(0,0,0)[12] intercept   : AIC=1897.798, Time=0.23 sec\n",
      " ARIMA(3,0,0)(0,0,0)[12] intercept   : AIC=1895.491, Time=0.08 sec\n",
      " ARIMA(3,0,0)(0,0,1)[12] intercept   : AIC=1886.511, Time=0.44 sec\n",
      " ARIMA(3,0,0)(0,0,2)[12] intercept   : AIC=1888.382, Time=0.85 sec\n",
      " ARIMA(3,0,0)(1,0,0)[12] intercept   : AIC=1885.859, Time=0.68 sec\n",
      " ARIMA(3,0,0)(1,0,1)[12] intercept   : AIC=1888.744, Time=0.67 sec\n",
      " ARIMA(3,0,0)(2,0,0)[12] intercept   : AIC=1887.652, Time=1.33 sec\n",
      " ARIMA(3,0,1)(0,0,0)[12] intercept   : AIC=1894.347, Time=0.46 sec\n",
      " ARIMA(3,0,1)(0,0,1)[12] intercept   : AIC=1885.607, Time=0.52 sec\n",
      " ARIMA(3,0,1)(1,0,0)[12] intercept   : AIC=1884.484, Time=0.80 sec\n",
      " ARIMA(3,0,2)(0,0,0)[12] intercept   : AIC=1896.718, Time=0.23 sec\n",
      "\n",
      "Best model:  ARIMA(2,0,1)(1,0,1)[12] intercept\n",
      "Total fit time: 104.251 seconds\n"
     ]
    }
   ],
   "source": [
    "# For non-seasonal data\n",
    "#According to PACF and ACF plots, p=3 d=0 and q=3 can be considered.\n",
    "arima_model=auto_arima(rain['Rainfall'].astype(float),start_p=0,start_q=0,max_p=3,max_q=3,start_P=0,start_Q=0,max_P=3,max_Q=3,m=12,seasonal=True,error_action='warn',trace=True,supress_warnings=True,stepwise=False,random_state=20,n_fits=70,maxiter=70,alpha=0.05)\n"
   ]
  },
  {
   "cell_type": "markdown",
   "metadata": {},
   "source": [
    "Fitting SARIMA model"
   ]
  },
  {
   "cell_type": "code",
   "execution_count": 20,
   "metadata": {},
   "outputs": [
    {
     "name": "stderr",
     "output_type": "stream",
     "text": [
      "C:\\Users\\wasan\\anaconda3\\lib\\site-packages\\statsmodels\\base\\model.py:566: ConvergenceWarning: Maximum Likelihood optimization failed to converge. Check mle_retvals\n",
      "  warnings.warn(\"Maximum Likelihood optimization failed to \"\n"
     ]
    },
    {
     "data": {
      "text/html": [
       "<table class=\"simpletable\">\n",
       "<caption>SARIMAX Results</caption>\n",
       "<tr>\n",
       "  <th>Dep. Variable:</th>              <td>Rainfall</td>            <th>  No. Observations:  </th>    <td>144</td>  \n",
       "</tr>\n",
       "<tr>\n",
       "  <th>Model:</th>           <td>SARIMAX(2, 0, 1)x(1, 0, 1, 12)</td> <th>  Log Likelihood     </th> <td>-942.266</td>\n",
       "</tr>\n",
       "<tr>\n",
       "  <th>Date:</th>                   <td>Tue, 26 Apr 2022</td>        <th>  AIC                </th> <td>1896.531</td>\n",
       "</tr>\n",
       "<tr>\n",
       "  <th>Time:</th>                       <td>00:04:21</td>            <th>  BIC                </th> <td>1914.350</td>\n",
       "</tr>\n",
       "<tr>\n",
       "  <th>Sample:</th>                    <td>01-01-2010</td>           <th>  HQIC               </th> <td>1903.772</td>\n",
       "</tr>\n",
       "<tr>\n",
       "  <th></th>                          <td>- 12-01-2021</td>          <th>                     </th>     <td> </td>   \n",
       "</tr>\n",
       "<tr>\n",
       "  <th>Covariance Type:</th>               <td>opg</td>              <th>                     </th>     <td> </td>   \n",
       "</tr>\n",
       "</table>\n",
       "<table class=\"simpletable\">\n",
       "<tr>\n",
       "      <td></td>        <th>coef</th>     <th>std err</th>      <th>z</th>      <th>P>|z|</th>  <th>[0.025</th>    <th>0.975]</th>  \n",
       "</tr>\n",
       "<tr>\n",
       "  <th>ar.L1</th>    <td>    1.1309</td> <td>    0.132</td> <td>    8.543</td> <td> 0.000</td> <td>    0.871</td> <td>    1.390</td>\n",
       "</tr>\n",
       "<tr>\n",
       "  <th>ar.L2</th>    <td>   -0.1321</td> <td>    0.139</td> <td>   -0.948</td> <td> 0.343</td> <td>   -0.405</td> <td>    0.141</td>\n",
       "</tr>\n",
       "<tr>\n",
       "  <th>ma.L1</th>    <td>   -0.9910</td> <td>    0.102</td> <td>   -9.714</td> <td> 0.000</td> <td>   -1.191</td> <td>   -0.791</td>\n",
       "</tr>\n",
       "<tr>\n",
       "  <th>ar.S.L12</th> <td>    0.9954</td> <td>    0.058</td> <td>   17.156</td> <td> 0.000</td> <td>    0.882</td> <td>    1.109</td>\n",
       "</tr>\n",
       "<tr>\n",
       "  <th>ma.S.L12</th> <td>   -0.9412</td> <td>    0.358</td> <td>   -2.627</td> <td> 0.009</td> <td>   -1.643</td> <td>   -0.239</td>\n",
       "</tr>\n",
       "<tr>\n",
       "  <th>sigma2</th>   <td> 3.274e+04</td> <td> 8569.979</td> <td>    3.821</td> <td> 0.000</td> <td> 1.59e+04</td> <td> 4.95e+04</td>\n",
       "</tr>\n",
       "</table>\n",
       "<table class=\"simpletable\">\n",
       "<tr>\n",
       "  <th>Ljung-Box (L1) (Q):</th>     <td>0.00</td> <th>  Jarque-Bera (JB):  </th> <td>31.57</td>\n",
       "</tr>\n",
       "<tr>\n",
       "  <th>Prob(Q):</th>                <td>0.97</td> <th>  Prob(JB):          </th> <td>0.00</td> \n",
       "</tr>\n",
       "<tr>\n",
       "  <th>Heteroskedasticity (H):</th> <td>1.12</td> <th>  Skew:              </th> <td>0.93</td> \n",
       "</tr>\n",
       "<tr>\n",
       "  <th>Prob(H) (two-sided):</th>    <td>0.71</td> <th>  Kurtosis:          </th> <td>4.34</td> \n",
       "</tr>\n",
       "</table><br/><br/>Warnings:<br/>[1] Covariance matrix calculated using the outer product of gradients (complex-step)."
      ],
      "text/plain": [
       "<class 'statsmodels.iolib.summary.Summary'>\n",
       "\"\"\"\n",
       "                                     SARIMAX Results                                      \n",
       "==========================================================================================\n",
       "Dep. Variable:                           Rainfall   No. Observations:                  144\n",
       "Model:             SARIMAX(2, 0, 1)x(1, 0, 1, 12)   Log Likelihood                -942.266\n",
       "Date:                            Tue, 26 Apr 2022   AIC                           1896.531\n",
       "Time:                                    00:04:21   BIC                           1914.350\n",
       "Sample:                                01-01-2010   HQIC                          1903.772\n",
       "                                     - 12-01-2021                                         \n",
       "Covariance Type:                              opg                                         \n",
       "==============================================================================\n",
       "                 coef    std err          z      P>|z|      [0.025      0.975]\n",
       "------------------------------------------------------------------------------\n",
       "ar.L1          1.1309      0.132      8.543      0.000       0.871       1.390\n",
       "ar.L2         -0.1321      0.139     -0.948      0.343      -0.405       0.141\n",
       "ma.L1         -0.9910      0.102     -9.714      0.000      -1.191      -0.791\n",
       "ar.S.L12       0.9954      0.058     17.156      0.000       0.882       1.109\n",
       "ma.S.L12      -0.9412      0.358     -2.627      0.009      -1.643      -0.239\n",
       "sigma2      3.274e+04   8569.979      3.821      0.000    1.59e+04    4.95e+04\n",
       "===================================================================================\n",
       "Ljung-Box (L1) (Q):                   0.00   Jarque-Bera (JB):                31.57\n",
       "Prob(Q):                              0.97   Prob(JB):                         0.00\n",
       "Heteroskedasticity (H):               1.12   Skew:                             0.93\n",
       "Prob(H) (two-sided):                  0.71   Kurtosis:                         4.34\n",
       "===================================================================================\n",
       "\n",
       "Warnings:\n",
       "[1] Covariance matrix calculated using the outer product of gradients (complex-step).\n",
       "\"\"\""
      ]
     },
     "execution_count": 20,
     "metadata": {},
     "output_type": "execute_result"
    }
   ],
   "source": [
    "model=sm.tsa.statespace.SARIMAX(rain['Rainfall'].astype('float'),order=(2,0,1),seasonal_order=(1,0,1,12))\n",
    "results=model.fit()\n",
    "results.summary()\n"
   ]
  },
  {
   "cell_type": "markdown",
   "metadata": {},
   "source": [
    "# Forecast rainfall using the model"
   ]
  },
  {
   "cell_type": "code",
   "execution_count": 21,
   "metadata": {},
   "outputs": [],
   "source": [
    "beg_dt='2017-01-01'\n",
    "end_dt='2021-12-01'"
   ]
  },
  {
   "cell_type": "code",
   "execution_count": 22,
   "metadata": {},
   "outputs": [
    {
     "name": "stderr",
     "output_type": "stream",
     "text": [
      "C:\\Users\\wasan\\anaconda3\\lib\\site-packages\\statsmodels\\tsa\\base\\tsa_model.py:132: FutureWarning: The 'freq' argument in Timestamp is deprecated and will be removed in a future version.\n",
      "  date_key = Timestamp(key, freq=base_index.freq)\n"
     ]
    },
    {
     "data": {
      "text/plain": [
       "<AxesSubplot:xlabel='Time'>"
      ]
     },
     "execution_count": 22,
     "metadata": {},
     "output_type": "execute_result"
    },
    {
     "data": {
      "image/png": "[encoded data removed]",
      "text/plain": [
       "<Figure size 864x576 with 1 Axes>"
      ]
     },
     "metadata": {
      "needs_background": "light"
     },
     "output_type": "display_data"
    }
   ],
   "source": [
    "rain['forecast']=results.predict(start=beg_dt,end=end_dt,dynamic=False)\n",
    "rain[['Rainfall','forecast']].plot(figsize=(12,8))\n"
   ]
  },
  {
   "cell_type": "code",
   "execution_count": 23,
   "metadata": {},
   "outputs": [
    {
     "data": {
      "text/html": [
       "<div>\n",
       "<style scoped>\n",
       "    .dataframe tbody tr th:only-of-type {\n",
       "        vertical-align: middle;\n",
       "    }\n",
       "\n",
       "    .dataframe tbody tr th {\n",
       "        vertical-align: top;\n",
       "    }\n",
       "\n",
       "    .dataframe thead th {\n",
       "        text-align: right;\n",
       "    }\n",
       "</style>\n",
       "<table border=\"1\" class=\"dataframe\">\n",
       "  <thead>\n",
       "    <tr style=\"text-align: right;\">\n",
       "      <th></th>\n",
       "      <th>Rainfall</th>\n",
       "      <th>forecast</th>\n",
       "    </tr>\n",
       "    <tr>\n",
       "      <th>Time</th>\n",
       "      <th></th>\n",
       "      <th></th>\n",
       "    </tr>\n",
       "  </thead>\n",
       "  <tbody>\n",
       "    <tr>\n",
       "      <th>2021-08-01</th>\n",
       "      <td>377.1</td>\n",
       "      <td>344.359237</td>\n",
       "    </tr>\n",
       "    <tr>\n",
       "      <th>2021-09-01</th>\n",
       "      <td>407.7</td>\n",
       "      <td>388.952744</td>\n",
       "    </tr>\n",
       "    <tr>\n",
       "      <th>2021-10-01</th>\n",
       "      <td>508.0</td>\n",
       "      <td>397.808447</td>\n",
       "    </tr>\n",
       "    <tr>\n",
       "      <th>2021-11-01</th>\n",
       "      <td>487.4</td>\n",
       "      <td>388.953928</td>\n",
       "    </tr>\n",
       "    <tr>\n",
       "      <th>2021-12-01</th>\n",
       "      <td>193.7</td>\n",
       "      <td>270.818413</td>\n",
       "    </tr>\n",
       "  </tbody>\n",
       "</table>\n",
       "</div>"
      ],
      "text/plain": [
       "            Rainfall    forecast\n",
       "Time                            \n",
       "2021-08-01     377.1  344.359237\n",
       "2021-09-01     407.7  388.952744\n",
       "2021-10-01     508.0  397.808447\n",
       "2021-11-01     487.4  388.953928\n",
       "2021-12-01     193.7  270.818413"
      ]
     },
     "execution_count": 23,
     "metadata": {},
     "output_type": "execute_result"
    }
   ],
   "source": [
    "rain.tail()"
   ]
  },
  {
   "cell_type": "code",
   "execution_count": 19,
   "metadata": {},
   "outputs": [
    {
     "name": "stderr",
     "output_type": "stream",
     "text": [
      "C:\\Users\\wasan\\anaconda3\\lib\\site-packages\\statsmodels\\tsa\\base\\tsa_model.py:132: FutureWarning: The 'freq' argument in Timestamp is deprecated and will be removed in a future version.\n",
      "  date_key = Timestamp(key, freq=base_index.freq)\n"
     ]
    },
    {
     "data": {
      "text/plain": [
       "2010-01-01      0.000000\n",
       "2010-02-01    181.182005\n",
       "2010-03-01    134.617875\n",
       "2010-04-01    152.259370\n",
       "2010-05-01    257.714409\n",
       "                 ...    \n",
       "2024-09-01    318.939183\n",
       "2024-10-01    321.711365\n",
       "2024-11-01    321.134810\n",
       "2024-12-01    312.993822\n",
       "2025-01-01    314.770800\n",
       "Freq: MS, Name: predicted_mean, Length: 181, dtype: float64"
      ]
     },
     "execution_count": 19,
     "metadata": {},
     "output_type": "execute_result"
    }
   ],
   "source": [
    "results.predict(start='2010-01-01',end='2025-01-01',dynamic=False)"
   ]
  },
  {
   "cell_type": "code",
   "execution_count": null,
   "metadata": {},
   "outputs": [],
   "source": []
  },
  {
   "cell_type": "code",
   "execution_count": null,
   "metadata": {},
   "outputs": [],
   "source": []
  }
 ],
 "metadata": {
  "kernelspec": {
   "display_name": "Python 3 (ipykernel)",
   "language": "python",
   "name": "python3"
  },
  "language_info": {
   "codemirror_mode": {
    "name": "ipython",
    "version": 3
   },
   "file_extension": ".py",
   "mimetype": "text/x-python",
   "name": "python",
   "nbconvert_exporter": "python",
   "pygments_lexer": "ipython3",
   "version": "3.9.7"
  }
 },
 "nbformat": 4,
 "nbformat_minor": 4
}
